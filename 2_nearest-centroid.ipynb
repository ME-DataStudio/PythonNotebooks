{
 "cells": [
  {
   "cell_type": "markdown",
   "metadata": {},
   "source": [
    "# Nearest Centroid\n",
    "\n",
    "In deze opdracht ga je Nearest Centroid classificatie implementeren om afbeeldingen van handgeschreven getallen te leren herkennen.   \n",
    "Voor informatie over de dataset, zie: http://scikit-learn.org/stable/modules/generated/sklearn.datasets.load_digits.html"
   ]
  },
  {
   "cell_type": "code",
   "execution_count": 4,
   "metadata": {
    "collapsed": true
   },
   "outputs": [],
   "source": [
    "# misc data processing imports\n",
    "import matplotlib.pyplot as plt\n",
    "%matplotlib inline\n",
    "import numpy as np\n",
    "import seaborn as sns\n",
    "\n",
    "# dataset\n",
    "from sklearn.datasets import load_digits\n",
    "\n",
    "# testing\n",
    "from sklearn.model_selection import train_test_split\n",
    "from sklearn.metrics import f1_score"
   ]
  },
  {
   "cell_type": "markdown",
   "metadata": {},
   "source": [
    "## 1. Data laden\n",
    "\n",
    "* Laad de digits dataset.\n",
    "* Sla de data samples op onder de variabele 'X'.\n",
    "* Hoeveel samples zijn er? En hoeveel features heeft elk sample?"
   ]
  },
  {
   "cell_type": "code",
   "execution_count": 5,
   "metadata": {
    "collapsed": false,
    "scrolled": true
   },
   "outputs": [
    {
     "name": "stdout",
     "output_type": "stream",
     "text": [
      "1797\n",
      "64\n"
     ]
    }
   ],
   "source": [
    "X = load_digits()\n",
    "samples,col=X.data.shape\n",
    "print(samples)\n",
    "print(col)"
   ]
  },
  {
   "cell_type": "markdown",
   "metadata": {},
   "source": [
    "* Sla de targets op onder de variabele 'y'.\n",
    "* Welke unieke targets zijn er?"
   ]
  },
  {
   "cell_type": "code",
   "execution_count": 6,
   "metadata": {
    "collapsed": false
   },
   "outputs": [
    {
     "data": {
      "text/plain": [
       "{0, 1, 2, 3, 4, 5, 6, 7, 8, 9}"
      ]
     },
     "execution_count": 6,
     "metadata": {},
     "output_type": "execute_result"
    }
   ],
   "source": [
    "y = X.target\n",
    "#np.unique(y)\n",
    "set(y)"
   ]
  },
  {
   "cell_type": "markdown",
   "metadata": {},
   "source": [
    "* Verdeel de data in een train set (80%) en test set (20%)."
   ]
  },
  {
   "cell_type": "code",
   "execution_count": 7,
   "metadata": {
    "collapsed": false
   },
   "outputs": [
    {
     "name": "stdout",
     "output_type": "stream",
     "text": [
      "1437\n",
      "360\n"
     ]
    }
   ],
   "source": [
    "X_train, X_test, y_train, y_test = train_test_split(X.data, y, test_size=0.2)\n",
    "#train, test = train_test_split(X.data, test_size=0.2)\n",
    "print(len(X_train))\n",
    "print(len(X_test))"
   ]
  },
  {
   "cell_type": "code",
   "execution_count": 8,
   "metadata": {
    "collapsed": false
   },
   "outputs": [
    {
     "data": {
      "text/plain": [
       "0.2003338898163606"
      ]
     },
     "execution_count": 8,
     "metadata": {},
     "output_type": "execute_result"
    }
   ],
   "source": [
    "360/1797"
   ]
  },
  {
   "cell_type": "markdown",
   "metadata": {},
   "source": [
    "## 2. Centroids berekenen\n",
    "\n",
    "  * Bereken voor elk type digit de gemiddelde feature vector (de 'centroid').  \n",
    "  Het resultaat is een matrix, genaamd `centroids`, met shape = [n_centroids, n_features]."
   ]
  },
  {
   "cell_type": "code",
   "execution_count": 9,
   "metadata": {
    "collapsed": false
   },
   "outputs": [],
   "source": [
    "centroid=np.zeros((len(np.unique(y)),col))\n",
    "for i in range(10):\n",
    "    centroid[i] = np.mean(X_train[y_train == i], axis=0)\n",
    " "
   ]
  },
  {
   "cell_type": "markdown",
   "metadata": {},
   "source": [
    "Met onderstaande code kan één geleerde centroid gevisualiseerd worden.\n",
    "* Herschrijf de code zodat alle centroids gevisualiseerd worden"
   ]
  },
  {
   "cell_type": "code",
   "execution_count": 10,
   "metadata": {
    "collapsed": false
   },
   "outputs": [
    {
     "data": {
      "image/png": "[encoded data removed]",
      "text/plain": [
       "<matplotlib.figure.Figure at 0x9e6e550>"
      ]
     },
     "metadata": {},
     "output_type": "display_data"
    }
   ],
   "source": [
    "for index in range(len(np.unique(y))):\n",
    "    plt.subplot(4, 3, index+1)\n",
    "    plt.axis('off')\n",
    "    plt.imshow(centroid[index].reshape(8,8), cmap=plt.cm.gray_r)\n",
    "    plt.title('Training: %i' % X.target_names[index])"
   ]
  },
  {
   "cell_type": "markdown",
   "metadata": {},
   "source": [
    "## 3. Nieuwe digits classificeren\n",
    "\n",
    "  * Bereken voor elke sample in de test data, de meest dichtbijzijnde centroid door middel van de Manhattan distance."
   ]
  },
  {
   "cell_type": "code",
   "execution_count": 11,
   "metadata": {
    "collapsed": false
   },
   "outputs": [
    {
     "name": "stdout",
     "output_type": "stream",
     "text": [
      "[ 1.  7.  8.  3.  2.  0.  9.  5.  1.  4.  2.  9.  7.  9.  9.  1.  7.  1.\n",
      "  6.  4.  7.  2.  3.  7.  8.  2.  4.  2.  3.  4.  2.  4.  1.  7.  7.  5.\n",
      "  7.  9.  4.  6.  4.  4.  5.  8.  1.  0.  6.  8.  0.  0.  1.  4.  0.  2.\n",
      "  0.  6.  0.  5.  7.  6.  0.  0.  4.  8.  8.  9.  7.  5.  6.  6.  7.  0.\n",
      "  7.  0.  5.  2.  1.  5.  1.  5.  1.  3.  2.  5.  8.  2.  1.  2.  6.  9.\n",
      "  1.  3.  7.  7.  5.  7.  5.  6.  4.  0.  0.  7.  6.  2.  5.  3.  2.  9.\n",
      "  7.  7.  7.  3.  7.  0.  4.  1.  0.  0.  7.  4.  5.  1.  8.  6.  8.  5.\n",
      "  3.  0.  4.  2.  3.  8.  9.  9.  7.  9.  7.  7.  0.  1.  3.  6.  4.  3.\n",
      "  1.  6.  0.  2.  6.  0.  6.  2.  4.  8.  4.  0.  7.  7.  1.  2.  5.  6.\n",
      "  9.  5.  6.  2.  0.  2.  4.  9.  0.  3.  9.  5.  8.  7.  6.  7.  7.  9.\n",
      "  7.  3.  2.  7.  3.  2.  3.  2.  1.  6.  0.  6.  1.  1.  8.  4.  6.  3.\n",
      "  0.  5.  6.  9.  2.  4.  9.  6.  2.  4.  3.  2.  5.  9.  9.  5.  8.  3.\n",
      "  5.  5.  6.  4.  9.  3.  7.  9.  5.  4.  4.  6.  3.  2.  0.  9.  7.  0.\n",
      "  3.  8.  4.  6.  9.  0.  9.  0.  4.  6.  0.  9.  3.  4.  9.  2.  7.  1.\n",
      "  7.  1.  9.  3.  6.  2.  6.  9.  5.  0.  0.  2.  3.  6.  3.  4.  6.  7.\n",
      "  1.  7.  5.  0.  2.  1.  8.  9.  6.  1.  2.  8.  8.  8.  9.  5.  5.  7.\n",
      "  7.  7.  2.  4.  7.  3.  1.  3.  5.  9.  1.  3.  1.  7.  7.  0.  1.  7.\n",
      "  9.  3.  4.  3.  3.  0.  9.  6.  3.  8.  2.  7.  0.  3.  9.  7.  5.  9.\n",
      "  9.  2.  4.  7.  8.  1.  9.  6.  2.  7.  5.  2.  8.  2.  8.  1.  1.  7.\n",
      "  8.  4.  4.  3.  3.  0.  7.  4.  7.  4.  3.  6.  6.  9.  8.  1.  0.  0.]\n"
     ]
    }
   ],
   "source": [
    "manDistance = np.zeros((360))\n",
    "\n",
    "for i, point in enumerate(X_test):\n",
    "    manDistance[i]=np.argmin([sum(abs((point - centr))) for centr in centroid])\n",
    "print(manDistance)"
   ]
  },
  {
   "cell_type": "markdown",
   "metadata": {},
   "source": [
    "* Bereken voor elke sample in de test data, de meest dichtbijzijnde centroid door middel van de Euclidean distance."
   ]
  },
  {
   "cell_type": "code",
   "execution_count": 12,
   "metadata": {
    "collapsed": false,
    "scrolled": true
   },
   "outputs": [
    {
     "name": "stdout",
     "output_type": "stream",
     "text": [
      "[ 1.  7.  8.  3.  2.  0.  9.  5.  1.  4.  2.  9.  5.  9.  9.  1.  7.  1.\n",
      "  6.  4.  7.  2.  3.  7.  8.  2.  4.  2.  3.  8.  2.  4.  1.  7.  7.  5.\n",
      "  7.  9.  4.  6.  5.  4.  5.  8.  1.  0.  6.  8.  0.  0.  1.  4.  0.  2.\n",
      "  0.  6.  0.  5.  7.  6.  0.  0.  4.  8.  8.  9.  7.  9.  6.  6.  7.  0.\n",
      "  7.  0.  5.  2.  1.  5.  1.  5.  8.  3.  8.  5.  8.  2.  1.  1.  6.  9.\n",
      "  1.  3.  7.  7.  5.  7.  5.  6.  4.  0.  0.  7.  6.  2.  5.  3.  2.  9.\n",
      "  7.  7.  7.  3.  7.  0.  4.  1.  0.  0.  7.  4.  5.  1.  8.  6.  8.  5.\n",
      "  3.  0.  4.  2.  3.  8.  9.  9.  7.  9.  7.  7.  0.  1.  3.  6.  4.  3.\n",
      "  1.  6.  0.  2.  6.  0.  6.  2.  4.  8.  4.  0.  7.  7.  1.  2.  5.  6.\n",
      "  9.  5.  6.  2.  0.  2.  4.  9.  0.  1.  9.  5.  8.  7.  6.  7.  7.  9.\n",
      "  7.  2.  2.  7.  3.  2.  3.  2.  1.  6.  0.  6.  1.  8.  8.  4.  6.  3.\n",
      "  0.  5.  6.  9.  2.  7.  9.  6.  2.  4.  3.  2.  5.  9.  9.  5.  8.  3.\n",
      "  5.  5.  6.  4.  9.  3.  7.  9.  5.  4.  4.  6.  3.  2.  8.  9.  7.  0.\n",
      "  3.  8.  0.  6.  9.  0.  9.  0.  4.  6.  0.  9.  3.  4.  9.  2.  7.  1.\n",
      "  7.  1.  9.  3.  6.  2.  6.  9.  5.  0.  0.  2.  3.  6.  3.  4.  6.  7.\n",
      "  1.  7.  5.  0.  2.  1.  8.  9.  6.  1.  2.  8.  8.  8.  9.  5.  5.  7.\n",
      "  5.  7.  2.  4.  7.  9.  1.  3.  5.  9.  8.  3.  1.  7.  7.  0.  1.  7.\n",
      "  9.  3.  4.  9.  3.  0.  9.  6.  3.  8.  2.  8.  0.  3.  9.  7.  5.  9.\n",
      "  9.  2.  4.  7.  8.  1.  9.  6.  2.  7.  5.  2.  8.  2.  8.  1.  1.  7.\n",
      "  8.  4.  4.  3.  3.  0.  7.  4.  7.  4.  3.  6.  6.  9.  8.  1.  0.  0.]\n"
     ]
    }
   ],
   "source": [
    "from math import sqrt\n",
    "\n",
    "eucDistance = np.zeros((360))\n",
    "\n",
    "for i in range(len(X_test)):\n",
    "    eucDistance[i]=np.argmin([sqrt(sum((X_test[i]-centroid[j])**2)) for j in range(10)])\n",
    "print(eucDistance)"
   ]
  },
  {
   "cell_type": "markdown",
   "metadata": {},
   "source": [
    "* Optioneel: Bereken de meest dichtbijzijnde centroids d.m.v. de $\\chi^2$ distance."
   ]
  },
  {
   "cell_type": "code",
   "execution_count": 23,
   "metadata": {
    "collapsed": false
   },
   "outputs": [],
   "source": [
    "def sommatie(matrix1,matrix2,noFeatures):\n",
    "    \"\"\"bereken de som van twee matrices.\n",
    "    \n",
    "    Parameters\n",
    "    ----------\n",
    "    matrix1 : array-like, shape = [n_samples, n_features]\n",
    "        \n",
    "    \n",
    "    matrix2 : \n",
    "        array-like, shape = [n_clusters, n_features]\n",
    "        \n",
    "        \n",
    "    noFeatures : \n",
    "        integer \n",
    "        number of features of both matrices\n",
    "    \"\"\"\n",
    "    som=np.zeros(noFeatures)\n",
    "\n",
    "    for k in range(noFeatures):\n",
    "        som[k]=matrix1[k]+matrix2[k]\n",
    "    return(som)"
   ]
  },
  {
   "cell_type": "code",
   "execution_count": 25,
   "metadata": {
    "collapsed": false,
    "scrolled": true
   },
   "outputs": [
    {
     "data": {
      "text/plain": [
       "array([  0.00000000e+00,   0.00000000e+00,   2.21768707e+00,\n",
       "         1.68979592e+01,   2.45714286e+01,   2.14081633e+01,\n",
       "         8.06122449e+00,   0.00000000e+00,   0.00000000e+00,\n",
       "         8.84353741e-02,   8.05442177e+00,   2.87346939e+01,\n",
       "         2.59727891e+01,   2.36870748e+01,   1.52925170e+01,\n",
       "         0.00000000e+00,   1.36054422e-02,   1.27891156e+00,\n",
       "         8.41496599e+00,   1.58503401e+01,   1.41292517e+01,\n",
       "         1.86802721e+01,   1.27278912e+01,   0.00000000e+00,\n",
       "         6.80272109e-03,   2.27210884e+00,   1.10952381e+01,\n",
       "         1.80884354e+01,   1.98775510e+01,   2.04625850e+01,\n",
       "         1.53945578e+01,   0.00000000e+00,   0.00000000e+00,\n",
       "         5.09523810e+00,   2.27278912e+01,   2.77006803e+01,\n",
       "         2.96530612e+01,   2.18775510e+01,   5.42176871e+00,\n",
       "         0.00000000e+00,   0.00000000e+00,   8.38095238e+00,\n",
       "         1.70204082e+01,   1.72108844e+01,   2.73741497e+01,\n",
       "         1.82312925e+01,   4.08163265e-01,   0.00000000e+00,\n",
       "         0.00000000e+00,   1.02040816e-01,   4.55102041e+00,\n",
       "         1.47891156e+01,   2.95986395e+01,   1.10476190e+01,\n",
       "         2.10884354e+00,   5.98639456e-01,   0.00000000e+00,\n",
       "         6.80272109e-03,   2.01360544e+00,   1.98163265e+01,\n",
       "         2.00272109e+01,   8.80952381e+00,   3.09523810e+00,\n",
       "         1.46938776e+00])"
      ]
     },
     "execution_count": 25,
     "metadata": {},
     "output_type": "execute_result"
    }
   ],
   "source": [
    "sommatie(X_test[1],centroid[1],64)"
   ]
  },
  {
   "cell_type": "code",
   "execution_count": 34,
   "metadata": {
    "collapsed": false
   },
   "outputs": [
    {
     "data": {
      "text/plain": [
       "array([  0.00000000e+00,   0.00000000e+00,   4.91813596e+00,\n",
       "         8.06330696e-01,   1.17551020e+01,   7.38196585e+01,\n",
       "         3.52690546e+01,   0.00000000e+00,   0.00000000e+00,\n",
       "         7.82081540e-03,   2.96172891e-03,   1.06622241e+01,\n",
       "         3.89189689e+00,   3.98530242e+01,   1.61480124e+02,\n",
       "         0.00000000e+00,   1.85108057e-04,   1.63561479e+00,\n",
       "         4.11517886e+01,   1.91831922e+02,   1.99635754e+02,\n",
       "         1.10205933e+01,   1.27060438e+02,   0.00000000e+00,\n",
       "         4.62770142e-05,   5.16247860e+00,   5.03424036e+01,\n",
       "         1.01776528e+02,   6.20558101e+01,   5.68126244e+01,\n",
       "         2.13318941e+02,   0.00000000e+00,   0.00000000e+00,\n",
       "         8.43764172e+00,   8.59720024e+01,   1.84841501e+01,\n",
       "         5.50812162e+00,   1.02463973e+02,   2.09602018e+01,\n",
       "         0.00000000e+00,   0.00000000e+00,   5.80498866e+01,\n",
       "         4.87147022e+01,   1.03097783e+01,   3.91688648e-01,\n",
       "         3.32779860e+01,   1.66597251e-01,   0.00000000e+00,\n",
       "         0.00000000e+00,   1.04123282e-02,   2.07117868e+01,\n",
       "         4.60920913e+01,   5.76653246e+00,   2.54784580e+01,\n",
       "         4.44722107e+00,   3.58369198e-01,   0.00000000e+00,\n",
       "         4.62770142e-05,   4.05460688e+00,   4.76842982e+00,\n",
       "         3.63272710e+01,   7.76077098e+01,   9.58049887e+00,\n",
       "         2.15910037e+00])"
      ]
     },
     "execution_count": 34,
     "metadata": {},
     "output_type": "execute_result"
    }
   ],
   "source": [
    "(X_test[1]-centroid[1])**2"
   ]
  },
  {
   "cell_type": "code",
   "execution_count": 44,
   "metadata": {
    "collapsed": false
   },
   "outputs": [
    {
     "name": "stdout",
     "output_type": "stream",
     "text": [
      "0 3.31788749495\n",
      "1 3.31788749495\n",
      "2 3.31788749495\n",
      "3 3.31788749495\n",
      "4 3.31788749495\n",
      "5 3.31788749495\n",
      "6 3.31788749495\n",
      "7 3.31788749495\n",
      "8 3.31788749495\n",
      "9 3.31788749495\n",
      "10 81.8340055848\n",
      "11 3.31788749495\n",
      "12 3.31788749495\n",
      "13 3.31788749495\n",
      "14 3.31788749495\n",
      "15 3.31788749495\n",
      "16 3.31788749495\n",
      "17 3.31788749495\n",
      "18 3.31788749495\n",
      "19 3.31788749495\n",
      "20 3.31788749495\n",
      "21 3.31788749495\n",
      "22 3.31788749495\n",
      "23 3.31788749495\n",
      "24 3.31788749495\n",
      "25 3.31788749495\n",
      "26 3.31788749495\n",
      "27 3.31788749495\n",
      "28 3.31788749495\n",
      "29 3.31788749495\n",
      "30 3.31788749495\n",
      "31 3.31788749495\n",
      "32 3.31788749495\n",
      "33 3.31788749495\n",
      "34 3.31788749495\n",
      "35 3.31788749495\n",
      "36 3.31788749495\n",
      "37 3.31788749495\n",
      "38 3.31788749495\n",
      "39 3.31788749495\n",
      "40 3.31788749495\n",
      "41 3.31788749495\n",
      "42 3.31788749495\n",
      "43 3.31788749495\n",
      "44 3.31788749495\n",
      "45 3.31788749495\n",
      "46 3.31788749495\n",
      "47 3.31788749495\n",
      "48 3.31788749495\n",
      "49 3.31788749495\n",
      "50 3.31788749495\n",
      "51 3.31788749495\n",
      "52 3.31788749495\n",
      "53 121.341694493\n",
      "54 24.2062338682\n",
      "55 3.31788749495\n",
      "56 3.31788749495\n",
      "57 3.31788749495\n",
      "58 3.31788749495\n",
      "59 3.31788749495\n",
      "60 3.31788749495\n",
      "61 3.31788749495\n",
      "62 3.31788749495\n",
      "63 3.31788749495\n",
      "64 3.31788749495\n",
      "65 3.31788749495\n",
      "66 3.31788749495\n",
      "67 3.31788749495\n",
      "68 3.31788749495\n",
      "69 3.31788749495\n",
      "70 3.31788749495\n",
      "71 3.31788749495\n",
      "72 3.31788749495\n",
      "73 3.31788749495\n",
      "74 3.31788749495\n",
      "75 3.31788749495\n",
      "76 3.31788749495\n",
      "77 3.31788749495\n",
      "78 3.31788749495\n",
      "79 3.31788749495\n",
      "80 3.31788749495\n",
      "81 3.31788749495\n",
      "82 3.31788749495\n",
      "83 3.31788749495\n",
      "84 3.31788749495\n",
      "85 3.31788749495\n",
      "86 24.2062338682\n",
      "87 3.31788749495\n",
      "88 3.31788749495\n",
      "89 3.31788749495\n",
      "90 3.31788749495\n",
      "91 141.18492171\n",
      "92 3.31788749495\n",
      "93 3.31788749495\n",
      "94 3.31788749495\n",
      "95 3.31788749495\n",
      "96 3.31788749495\n",
      "97 3.31788749495\n",
      "98 3.31788749495\n",
      "99 3.31788749495\n",
      "100 3.31788749495\n",
      "101 3.31788749495\n",
      "102 3.31788749495\n",
      "103 42.930212481\n",
      "104 3.31788749495\n",
      "105 3.31788749495\n",
      "106 3.31788749495\n",
      "107 3.31788749495\n",
      "108 3.31788749495\n",
      "109 3.31788749495\n",
      "110 3.31788749495\n",
      "111 3.31788749495\n",
      "112 3.31788749495\n",
      "113 3.31788749495\n",
      "114 3.31788749495\n",
      "115 3.31788749495\n",
      "116 3.31788749495\n",
      "117 3.31788749495\n",
      "118 3.31788749495\n",
      "119 3.31788749495\n",
      "120 3.31788749495\n",
      "121 3.31788749495\n",
      "122 3.31788749495\n",
      "123 3.31788749495\n",
      "124 3.31788749495\n",
      "125 3.31788749495\n",
      "126 3.31788749495\n",
      "127 3.31788749495\n",
      "128 3.31788749495\n",
      "129 24.2062338682\n",
      "130 3.31788749495\n",
      "131 3.31788749495\n",
      "132 3.31788749495\n",
      "133 7.52160303671\n",
      "134 3.31788749495\n",
      "135 3.31788749495\n",
      "136 3.31788749495\n",
      "137 3.31788749495\n",
      "138 3.31788749495\n",
      "139 3.31788749495\n",
      "140 3.31788749495\n",
      "141 3.31788749495\n",
      "142 3.31788749495\n",
      "143 3.31788749495\n",
      "144 151.119954299\n",
      "145 3.31788749495\n",
      "146 3.31788749495\n",
      "147 3.31788749495\n",
      "148 3.31788749495\n",
      "149 3.31788749495\n",
      "150 3.31788749495\n",
      "151 81.8340055848\n",
      "152 3.31788749495\n",
      "153 3.31788749495\n",
      "154 3.31788749495\n",
      "155 3.31788749495\n",
      "156 3.31788749495\n",
      "157 3.31788749495\n",
      "158 3.31788749495\n",
      "159 7.52160303671\n",
      "160 3.31788749495\n",
      "161 3.31788749495\n",
      "162 3.31788749495\n",
      "163 3.31788749495\n",
      "164 3.31788749495\n",
      "165 52.5468368384\n",
      "166 3.31788749495\n",
      "167 42.930212481\n",
      "168 3.31788749495\n",
      "169 3.31788749495\n",
      "170 3.31788749495\n",
      "171 3.31788749495\n",
      "172 3.31788749495\n",
      "173 3.31788749495\n",
      "174 3.31788749495\n",
      "175 3.31788749495\n",
      "176 3.31788749495\n",
      "177 3.31788749495\n",
      "178 3.31788749495\n",
      "179 72.0217057236\n",
      "180 3.31788749495\n",
      "181 62.2534573521\n",
      "182 52.5468368384\n",
      "183 3.31788749495\n",
      "184 3.31788749495\n",
      "185 3.31788749495\n",
      "186 3.31788749495\n",
      "187 3.31788749495\n",
      "188 3.31788749495\n",
      "189 3.31788749495\n",
      "190 3.31788749495\n",
      "191 3.31788749495\n",
      "192 3.31788749495\n",
      "193 3.31788749495\n",
      "194 3.31788749495\n",
      "195 3.31788749495\n",
      "196 3.31788749495\n",
      "197 3.31788749495\n",
      "198 3.31788749495\n",
      "199 3.31788749495\n",
      "200 3.31788749495\n",
      "201 3.31788749495\n",
      "202 101.548538544\n",
      "203 3.31788749495\n",
      "204 3.31788749495\n",
      "205 3.31788749495\n",
      "206 81.8340055848\n",
      "207 3.31788749495\n",
      "208 3.31788749495\n",
      "209 3.31788749495\n",
      "210 3.31788749495\n",
      "211 3.31788749495\n",
      "212 3.31788749495\n",
      "213 3.31788749495\n",
      "214 3.31788749495\n",
      "215 3.31788749495\n",
      "216 3.31788749495\n",
      "217 3.31788749495\n",
      "218 3.31788749495\n",
      "219 3.31788749495\n",
      "220 3.31788749495\n",
      "221 3.31788749495\n",
      "222 3.31788749495\n",
      "223 3.31788749495\n",
      "224 3.31788749495\n",
      "225 3.31788749495\n",
      "226 3.31788749495\n",
      "227 15.3894329861\n",
      "228 3.31788749495\n",
      "229 3.31788749495\n",
      "230 3.31788749495\n",
      "231 3.31788749495\n",
      "232 3.31788749495\n",
      "233 3.31788749495\n",
      "234 3.31788749495\n",
      "235 3.31788749495\n",
      "236 3.31788749495\n",
      "237 3.31788749495\n",
      "238 3.31788749495\n",
      "239 3.31788749495\n",
      "240 3.31788749495\n",
      "241 3.31788749495\n",
      "242 3.31788749495\n",
      "243 3.31788749495\n",
      "244 3.31788749495\n",
      "245 3.31788749495\n",
      "246 3.31788749495\n",
      "247 3.31788749495\n",
      "248 3.31788749495\n",
      "249 3.31788749495\n",
      "250 3.31788749495\n",
      "251 3.31788749495\n",
      "252 3.31788749495\n",
      "253 101.548538544\n",
      "254 3.31788749495\n",
      "255 3.31788749495\n",
      "256 3.31788749495\n",
      "257 3.31788749495\n",
      "258 3.31788749495\n",
      "259 3.31788749495\n",
      "260 3.31788749495\n",
      "261 3.31788749495\n",
      "262 3.31788749495\n",
      "263 62.2534573521\n",
      "264 3.31788749495\n",
      "265 3.31788749495\n",
      "266 3.31788749495\n",
      "267 3.31788749495\n",
      "268 3.31788749495\n",
      "269 3.31788749495\n",
      "270 3.31788749495\n",
      "271 3.31788749495\n",
      "272 3.31788749495\n",
      "273 3.31788749495\n",
      "274 111.437469071\n",
      "275 3.31788749495\n",
      "276 3.31788749495\n",
      "277 3.31788749495\n",
      "278 3.31788749495\n",
      "279 3.31788749495\n",
      "280 7.52160303671\n",
      "281 3.31788749495\n",
      "282 3.31788749495\n",
      "283 3.31788749495\n",
      "284 3.31788749495\n",
      "285 3.31788749495\n",
      "286 3.31788749495\n",
      "287 3.31788749495\n",
      "288 3.31788749495\n",
      "289 3.31788749495\n",
      "290 3.31788749495\n",
      "291 3.31788749495\n",
      "292 3.31788749495\n",
      "293 3.31788749495\n",
      "294 3.31788749495\n",
      "295 3.31788749495\n",
      "296 3.31788749495\n",
      "297 3.31788749495\n",
      "298 3.31788749495\n",
      "299 3.31788749495\n",
      "300 3.31788749495\n",
      "301 3.31788749495\n",
      "302 3.31788749495\n",
      "303 3.31788749495\n",
      "304 3.31788749495\n",
      "305 3.31788749495\n",
      "306 3.31788749495\n",
      "307 3.31788749495\n",
      "308 3.31788749495\n",
      "309 3.31788749495\n",
      "310 3.31788749495\n",
      "311 3.31788749495\n",
      "312 3.31788749495\n",
      "313 3.31788749495\n",
      "314 15.3894329861\n",
      "315 3.31788749495\n",
      "316 3.31788749495\n",
      "317 3.31788749495\n",
      "318 3.31788749495\n",
      "319 3.31788749495\n",
      "320 3.31788749495\n",
      "321 3.31788749495\n",
      "322 3.31788749495\n",
      "323 3.31788749495\n",
      "324 3.31788749495\n",
      "325 3.31788749495\n",
      "326 3.31788749495\n",
      "327 3.31788749495\n",
      "328 3.31788749495\n",
      "329 3.31788749495\n",
      "330 3.31788749495\n",
      "331 3.31788749495\n",
      "332 111.437469071\n",
      "333 3.31788749495\n",
      "334 3.31788749495\n",
      "335 3.31788749495\n",
      "336 3.31788749495\n",
      "337 3.31788749495\n",
      "338 3.31788749495\n",
      "339 3.31788749495\n",
      "340 3.31788749495\n",
      "341 3.31788749495\n",
      "342 3.31788749495\n",
      "343 3.31788749495\n",
      "344 3.31788749495\n",
      "345 3.31788749495\n",
      "346 3.31788749495\n",
      "347 3.31788749495\n",
      "348 3.31788749495\n",
      "349 3.31788749495\n",
      "350 3.31788749495\n",
      "351 3.31788749495\n",
      "352 3.31788749495\n",
      "353 3.31788749495\n",
      "354 3.31788749495\n",
      "355 3.31788749495\n",
      "356 3.31788749495\n",
      "357 3.31788749495\n",
      "358 3.31788749495\n",
      "359 3.31788749495\n",
      "[ 0.  0.  0.  0.  0.  0.  0.  0.  0.  0.  0.  0.  0.  0.  0.  0.  0.  0.\n",
      "  0.  0.  0.  0.  0.  0.  0.  0.  0.  0.  0.  0.  0.  0.  0.  0.  0.  0.\n",
      "  0.  0.  0.  0.  0.  0.  0.  0.  0.  0.  0.  0.  0.  0.  0.  0.  0.  0.\n",
      "  0.  0.  0.  0.  0.  0.  0.  0.  0.  0.  0.  0.  0.  0.  0.  0.  0.  0.\n",
      "  0.  0.  0.  0.  0.  0.  0.  0.  0.  0.  0.  0.  0.  0.  0.  0.  0.  0.\n",
      "  0.  0.  0.  0.  0.  0.  0.  0.  0.  0.  0.  0.  0.  0.  0.  0.  0.  0.\n",
      "  0.  0.  0.  0.  0.  0.  0.  0.  0.  0.  0.  0.  0.  0.  0.  0.  0.  0.\n",
      "  0.  0.  0.  0.  0.  0.  0.  0.  0.  0.  0.  0.  0.  0.  0.  0.  0.  0.\n",
      "  0.  0.  0.  0.  0.  0.  0.  0.  0.  0.  0.  0.  0.  0.  0.  0.  0.  0.\n",
      "  0.  0.  0.  0.  0.  0.  0.  0.  0.  0.  0.  0.  0.  0.  0.  0.  0.  0.\n",
      "  0.  0.  0.  0.  0.  0.  0.  0.  0.  0.  0.  0.  0.  0.  0.  0.  0.  0.\n",
      "  0.  0.  0.  0.  0.  0.  0.  0.  0.  0.  0.  0.  0.  0.  0.  0.  0.  0.\n",
      "  0.  0.  0.  0.  0.  0.  0.  0.  0.  0.  0.  0.  0.  0.  0.  0.  0.  0.\n",
      "  0.  0.  0.  0.  0.  0.  0.  0.  0.  0.  0.  0.  0.  0.  0.  0.  0.  0.\n",
      "  0.  0.  0.  0.  0.  0.  0.  0.  0.  0.  0.  0.  0.  0.  0.  0.  0.  0.\n",
      "  0.  0.  0.  0.  0.  0.  0.  0.  0.  0.  0.  0.  0.  0.  0.  0.  0.  0.\n",
      "  0.  0.  0.  0.  0.  0.  0.  0.  0.  0.  0.  0.  0.  0.  0.  0.  0.  0.\n",
      "  0.  0.  0.  0.  0.  0.  0.  0.  0.  0.  0.  0.  0.  0.  0.  0.  0.  0.\n",
      "  0.  0.  0.  0.  0.  0.  0.  0.  0.  0.  0.  0.  0.  0.  0.  0.  0.  0.\n",
      "  0.  0.  0.  0.  0.  0.  0.  0.  0.  0.  0.  0.  0.  0.  0.  0.  0.  0.]\n"
     ]
    }
   ],
   "source": [
    "chiDistance = np.zeros((360))\n",
    "comp = np.zeros((64))\n",
    "\n",
    "for i in range(len(X_test)):\n",
    "    for j in range(len(centroid)):\n",
    "        t=sommatie(X_test[i],centroid[j],64)\n",
    "        v=(X_test[i]-centroid[j])**2\n",
    "        for k in t:\n",
    "            if k == 0:\n",
    "                comp[j] = 0\n",
    "            else:\n",
    "                for w in v:\n",
    "                    comp[j]=w/k\n",
    "    #chiDistance[i]=np.argmin(sum(comp))\n",
    "    print(i,sum(comp))\n",
    "print(chiDistance)"
   ]
  },
  {
   "cell_type": "code",
   "execution_count": 36,
   "metadata": {
    "collapsed": false
   },
   "outputs": [
    {
     "data": {
      "text/plain": [
       "array([ 0.        ,  1.46938776,  1.58865248,  0.08053691,  0.        ,\n",
       "        0.        ,  0.10344828,  0.        ,  0.0137931 ,  0.06206897,\n",
       "        0.        ,  0.        ,  0.        ,  0.        ,  0.        ,\n",
       "        0.        ,  0.        ,  0.        ,  0.        ,  0.        ,\n",
       "        0.        ,  0.        ,  0.        ,  0.        ,  0.        ,\n",
       "        0.        ,  0.        ,  0.        ,  0.        ,  0.        ,\n",
       "        0.        ,  0.        ,  0.        ,  0.        ,  0.        ,\n",
       "        0.        ,  0.        ,  0.        ,  0.        ,  0.        ,\n",
       "        0.        ,  0.        ,  0.        ,  0.        ,  0.        ,\n",
       "        0.        ,  0.        ,  0.        ,  0.        ,  0.        ,\n",
       "        0.        ,  0.        ,  0.        ,  0.        ,  0.        ,\n",
       "        0.        ,  0.        ,  0.        ,  0.        ,  0.        ,\n",
       "        0.        ,  0.        ,  0.        ,  0.        ])"
      ]
     },
     "execution_count": 36,
     "metadata": {},
     "output_type": "execute_result"
    }
   ],
   "source": [
    "comp"
   ]
  },
  {
   "cell_type": "markdown",
   "metadata": {},
   "source": [
    "* Bereken de F1 score per target (digit) per distance measure\n",
    "* Zet de F1 scores om in error scores (1 - F1 score)"
   ]
  },
  {
   "cell_type": "code",
   "execution_count": null,
   "metadata": {
    "collapsed": false
   },
   "outputs": [],
   "source": []
  },
  {
   "cell_type": "markdown",
   "metadata": {},
   "source": [
    "Voor elke distance measure:\n",
    "* Plot de errors per target in een histogram plot.\n",
    "* Zet het y-as label op 'Error' en het x-as label op 'Digit'.\n",
    "\n",
    "(Bonus punten als je de bars combineert in 1 plaatje)"
   ]
  },
  {
   "cell_type": "code",
   "execution_count": null,
   "metadata": {
    "collapsed": false
   },
   "outputs": [],
   "source": []
  }
 ],
 "metadata": {
  "kernelspec": {
   "display_name": "Python 3",
   "language": "python",
   "name": "python3"
  },
  "language_info": {
   "codemirror_mode": {
    "name": "ipython",
    "version": 3
   },
   "file_extension": ".py",
   "mimetype": "text/x-python",
   "name": "python",
   "nbconvert_exporter": "python",
   "pygments_lexer": "ipython3",
   "version": "3.5.2"
  }
 },
 "nbformat": 4,
 "nbformat_minor": 1
}
