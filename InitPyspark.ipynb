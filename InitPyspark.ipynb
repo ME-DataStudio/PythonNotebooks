{
 "cells": [
  {
   "cell_type": "code",
   "execution_count": 1,
   "metadata": {
    "collapsed": false
   },
   "outputs": [
    {
     "name": "stdout",
     "output_type": "stream",
     "text": [
      "C:\\spark\n",
      "c:\\hadoop\n"
     ]
    }
   ],
   "source": [
    "import os\n",
    "import sys\n",
    "\n",
    "print(os.environ['SPARK_HOME'])\n",
    "print(os.environ['HADOOP_HOME'])\n",
    "\n",
    "#bewaar environment variable SPARK_HOME in spark_path. SPARK_HOME is gezet in de enviroment variables in windows\n",
    "spark_path = os.environ['SPARK_HOME']\n",
    "#gebruik onderstaande als SPARK_HOME niet is gezet in de windows en\n",
    "#spark_path =\"c:/spark\"\n",
    "\n",
    "sys.path.append(spark_path + \"/bin\")\n",
    "sys.path.append(spark_path + \"/python\")\n",
    "sys.path.append(spark_path + \"/python/pyspark/\")\n",
    "sys.path.append(spark_path + \"/python/lib\")\n",
    "sys.path.append(spark_path + \"/python/lib/pyspark.zip\")\n",
    "sys.path.append(spark_path + \"/python/lib/py4j-0.10.3-src.zip\")"
   ]
  },
  {
   "cell_type": "code",
   "execution_count": 2,
   "metadata": {
    "collapsed": true
   },
   "outputs": [],
   "source": [
    "from pyspark import SparkContext\n",
    "from pyspark import SparkConf"
   ]
  },
  {
   "cell_type": "code",
   "execution_count": 3,
   "metadata": {
    "collapsed": false
   },
   "outputs": [],
   "source": [
    "conf = SparkConf().setAppName(\"Test\").setMaster(\"local[2]\")\n",
    "\n",
    "sc = SparkContext(conf=conf)"
   ]
  },
  {
   "cell_type": "code",
   "execution_count": 12,
   "metadata": {
    "collapsed": false
   },
   "outputs": [
    {
     "name": "stdout",
     "output_type": "stream",
     "text": [
      "Number of random points: 1000000\n",
      "Mean: [-0.0002216  -0.00096744]\n",
      "stdev: [ 0.57707816  0.57726612]\n"
     ]
    }
   ],
   "source": [
    "import numpy as np\n",
    "\n",
    "TOTAL = 1000000\n",
    "dots = sc.parallelize([2.0 * np.random.random(2) - 1.0 for i in range(TOTAL)]).cache()\n",
    "print(\"Number of random points:\", dots.count())\n",
    "\n",
    "stats = dots.stats()\n",
    "print('Mean:', stats.mean())\n",
    "print('stdev:', stats.stdev())"
   ]
  },
  {
   "cell_type": "code",
   "execution_count": 13,
   "metadata": {
    "collapsed": false
   },
   "outputs": [
    {
     "data": {
      "text/plain": [
       "<matplotlib.collections.PathCollection at 0x8171128>"
      ]
     },
     "execution_count": 13,
     "metadata": {},
     "output_type": "execute_result"
    },
    {
     "data": {
      "image/png": "[encoded data removed]",
      "text/plain": [
       "<matplotlib.figure.Figure at 0xf094208>"
      ]
     },
     "metadata": {},
     "output_type": "display_data"
    }
   ],
   "source": [
    "%matplotlib inline\n",
    "from operator import itemgetter\n",
    "from matplotlib import pyplot as plt\n",
    "\n",
    "plt.figure(figsize = (10, 5))\n",
    "\n",
    "# Plot 1\n",
    "plt.subplot(1, 2, 1)\n",
    "plt.xlim((-1.0, 1.0))\n",
    "plt.ylim((-1.0, 1.0))\n",
    "\n",
    "sample = dots.sample(False, 0.01)\n",
    "X = sample.map(itemgetter(0)).collect()\n",
    "Y = sample.map(itemgetter(1)).collect()\n",
    "plt.scatter(X, Y)\n",
    "\n",
    "# Plot 2\n",
    "plt.subplot(1, 2, 2)\n",
    "plt.xlim((-1.0, 1.0))\n",
    "plt.ylim((-1.0, 1.0))\n",
    "\n",
    "inCircle = lambda v: np.linalg.norm(v) <= 1.0\n",
    "dotsIn = sample.filter(inCircle).cache()\n",
    "dotsOut = sample.filter(lambda v: not inCircle(v)).cache()\n",
    "\n",
    "# inside circle\n",
    "Xin = dotsIn.map(itemgetter(0)).collect()\n",
    "Yin = dotsIn.map(itemgetter(1)).collect()\n",
    "plt.scatter(Xin, Yin, color = 'r')\n",
    "\n",
    "# outside circle\n",
    "Xout = dotsOut.map(itemgetter(0)).collect()\n",
    "Yout = dotsOut.map(itemgetter(1)).collect()\n",
    "plt.scatter(Xout, Yout)"
   ]
  },
  {
   "cell_type": "code",
   "execution_count": 14,
   "metadata": {
    "collapsed": false
   },
   "outputs": [
    {
     "name": "stdout",
     "output_type": "stream",
     "text": [
      "The estimation of \\pi is: 3.14312\n"
     ]
    }
   ],
   "source": [
    "pi = 4.0 * (dots.filter(inCircle).count() / float(TOTAL))\n",
    "print(\"The estimation of \\pi is:\", pi)"
   ]
  },
  {
   "cell_type": "code",
   "execution_count": null,
   "metadata": {
    "collapsed": true
   },
   "outputs": [],
   "source": []
  }
 ],
 "metadata": {
  "kernelspec": {
   "display_name": "Python 3",
   "language": "python",
   "name": "python3"
  },
  "language_info": {
   "codemirror_mode": {
    "name": "ipython",
    "version": 3
   },
   "file_extension": ".py",
   "mimetype": "text/x-python",
   "name": "python",
   "nbconvert_exporter": "python",
   "pygments_lexer": "ipython3",
   "version": "3.5.2"
  }
 },
 "nbformat": 4,
 "nbformat_minor": 1
}
