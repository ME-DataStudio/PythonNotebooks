{
 "cells": [
  {
   "cell_type": "markdown",
   "metadata": {},
   "source": [
    "# Machine learning Wandelaars\n"
   ]
  },
  {
   "cell_type": "markdown",
   "metadata": {},
   "source": [
    "## Packages installeren"
   ]
  },
  {
   "cell_type": "code",
   "execution_count": 1,
   "metadata": {
    "collapsed": true
   },
   "outputs": [],
   "source": [
    "import pickle\n",
    "import numpy as np\n",
    "from mpl_toolkits.mplot3d import Axes3D\n",
    "from matplotlib import colors\n",
    "import matplotlib.pyplot as plt\n",
    "%matplotlib inline\n",
    "import seaborn as sns\n",
    "import json\n",
    "\n",
    "#Kmeans voor preprocessing\n",
    "from sklearn.cluster import KMeans\n",
    "\n",
    "# classifiers & testing\n",
    "from sklearn.svm import SVC\n",
    "from sklearn.naive_bayes import MultinomialNB\n",
    "from sklearn.neural_network import MLPClassifier\n",
    "from sklearn.tree import DecisionTreeClassifier\n",
    "from sklearn.model_selection import train_test_split, GridSearchCV\n",
    "from sklearn.metrics import f1_score"
   ]
  },
  {
   "cell_type": "markdown",
   "metadata": {},
   "source": [
    "## Functie definities"
   ]
  },
  {
   "cell_type": "code",
   "execution_count": 2,
   "metadata": {
    "collapsed": false
   },
   "outputs": [],
   "source": [
    "def sliding_window(DataSet):\n",
    "    \"\"\"\n",
    "    Maak van een dataset een patroon via het sliding window principe:\n",
    "    \n",
    "    Voor elke array in de data set:\n",
    "      - bepaal de lengte van de array. Het aantal windows is gelijk aan de lengte van de array -2\n",
    "        (anders loopt de window over het einde van de array met fout melding als gevolg)\n",
    "      - vul een window van 3x3 en maak hier een vector van (sla het window plat met hstack).\n",
    "      - schrijf deze vector weg in de nieuwe dataset\n",
    "    Schrijf elke nieuwe array weg in de nieuwe dataset\n",
    "\n",
    "\n",
    "    In: Dataset opgebouwd uit een array van arrays\n",
    "\n",
    "    Out: Dataset bestaande uit een array met vectoren.\n",
    "    \"\"\"\n",
    "\n",
    "    DataOut=[]\n",
    "    for InArray in DataSet:\n",
    "        lengteArray = InArray.shape[0]\n",
    "        for regelNr in range(lengteArray-2):\n",
    "            window = (np.hstack((InArray[regelNr],InArray[regelNr+1],InArray[regelNr+2])).tolist())\n",
    "            DataOut.append(window)\n",
    "    return np.array(DataOut)\n",
    "\n",
    "def discretiminator(Dataset,noClusters,Labels):\n",
    "    \"\"\"\n",
    "    Maak van een dataset, aantal clusters en labels een matrix in de vorm van\n",
    "    lengte dataset x aantal clusters.\n",
    "    \n",
    "    Tel vervolgens hoe vaak een aantal clusters per rij voorkomt door 1 op te tellen \n",
    "    bij de index die overeenkomt met het cluster (dus als het label de waarde 0 heeft \n",
    "    moet er 1 opgeteld worden bij kolom 0. Dus het cluster zelf bepaald bij \n",
    "    welke kolom er een wordt opgeteld. Als de lengte van een array uit X_train afgelopen \n",
    "    is wordt een volgende rij gemaakt\n",
    "\n",
    "    In: \n",
    "    - Dataset opgebouwd uit een array van arrays. Voor deze case is dit X_train\n",
    "    - noClusters clusters die in de KMeans is gebruikt en bepaald aantal kolommen van de DataOut\n",
    "    - Labels bepaald met KMeans\n",
    "\n",
    "    Out: Dataset bestaande uit een array met vectoren.\n",
    "    \"\"\"\n",
    "\n",
    "    DataOut=np.zeros((len(Dataset),noClusters))\n",
    "    teller = 0\n",
    "    for idx,array in enumerate(Dataset):\n",
    "        for i in range(array.shape[0]-2):\n",
    "            DataOut[idx,Labels[teller]]+=1\n",
    "            teller+=1\n",
    "    return(DataOut)"
   ]
  },
  {
   "cell_type": "markdown",
   "metadata": {},
   "source": [
    "## Data inlezen\n",
    "Data inlezen. Trainingsdata in data (X) en klasse/label (y). Data welke voorspelt moet worden in X_pred.\n",
    "\n",
    "En kijken waar het uit bestaat en hoe het is opgebouwd."
   ]
  },
  {
   "cell_type": "code",
   "execution_count": 3,
   "metadata": {
    "collapsed": false
   },
   "outputs": [],
   "source": [
    "X, y = pickle.load(open(\"train_X_y.p\", \"rb\"))\n",
    "X_pred = pickle.load(open('test_X.p', 'rb'))"
   ]
  },
  {
   "cell_type": "markdown",
   "metadata": {},
   "source": [
    "Lengte?"
   ]
  },
  {
   "cell_type": "code",
   "execution_count": 4,
   "metadata": {
    "collapsed": false
   },
   "outputs": [
    {
     "data": {
      "text/plain": [
       "(1857, 1857, 626)"
      ]
     },
     "execution_count": 4,
     "metadata": {},
     "output_type": "execute_result"
    }
   ],
   "source": [
    "len(X), len(y), len(X_pred)"
   ]
  },
  {
   "cell_type": "markdown",
   "metadata": {},
   "source": [
    "Welke klassen/labels zijn er?"
   ]
  },
  {
   "cell_type": "code",
   "execution_count": 5,
   "metadata": {
    "collapsed": false,
    "scrolled": true
   },
   "outputs": [
    {
     "data": {
      "text/plain": [
       "array([  0.,   1.,   2.,   3.,   4.,   5.,   6.,   7.,   8.,   9.,  10.,\n",
       "        11.,  12.,  13.,  14.,  15.,  16.,  17.,  18.,  19.,  20.,  21.])"
      ]
     },
     "execution_count": 5,
     "metadata": {},
     "output_type": "execute_result"
    }
   ],
   "source": [
    "np.unique(y)"
   ]
  },
  {
   "cell_type": "markdown",
   "metadata": {},
   "source": [
    "Hoe vaak komen deze klassen/labels voor?"
   ]
  },
  {
   "cell_type": "code",
   "execution_count": 6,
   "metadata": {
    "collapsed": false,
    "scrolled": true
   },
   "outputs": [
    {
     "data": {
      "text/plain": [
       "array([ 63,  48,  15,  90,  13,  60,  46,  43, 100,  39,  70,  60,  83,\n",
       "       149,  45,  21, 276, 258,  12, 207,  38, 121], dtype=int64)"
      ]
     },
     "execution_count": 6,
     "metadata": {},
     "output_type": "execute_result"
    }
   ],
   "source": [
    "np.bincount(y)"
   ]
  },
  {
   "cell_type": "markdown",
   "metadata": {},
   "source": [
    "Wat is het type van de data?"
   ]
  },
  {
   "cell_type": "code",
   "execution_count": 7,
   "metadata": {
    "collapsed": false,
    "scrolled": true
   },
   "outputs": [
    {
     "data": {
      "text/plain": [
       "list"
      ]
     },
     "execution_count": 7,
     "metadata": {},
     "output_type": "execute_result"
    }
   ],
   "source": [
    "type(X)"
   ]
  },
  {
   "cell_type": "markdown",
   "metadata": {},
   "source": [
    "Hoe zien de elementen van de lijst er uit?"
   ]
  },
  {
   "cell_type": "code",
   "execution_count": 25,
   "metadata": {
    "collapsed": false,
    "scrolled": false
   },
   "outputs": [
    {
     "name": "stdout",
     "output_type": "stream",
     "text": [
      "<class 'numpy.ndarray'>\n",
      "<class 'numpy.ndarray'>\n"
     ]
    }
   ],
   "source": [
    "print(type(X[-1]))\n",
    "print(type(X[-1][0]))"
   ]
  },
  {
   "cell_type": "markdown",
   "metadata": {},
   "source": [
    "Dus een lijst met Arrays met Arrays. Opbouw van de eerste array:"
   ]
  },
  {
   "cell_type": "code",
   "execution_count": 26,
   "metadata": {
    "collapsed": false,
    "scrolled": true
   },
   "outputs": [
    {
     "data": {
      "text/plain": [
       "array([[ -0.081722,   9.9565  ,  -0.23155 ],\n",
       "       [  1.2667  ,   8.6898  ,  -0.65378 ],\n",
       "       [  0.38137 ,   9.7249  ,  -0.88532 ],\n",
       "       [ -0.65378 ,  10.379   ,  -1.076   ],\n",
       "       [ -0.27241 ,   8.8124  ,   0.23155 ],\n",
       "       [  0.65378 ,   7.0145  ,   0.92618 ],\n",
       "       [  0.61292 ,   6.8238  ,   0.19068 ],\n",
       "       [ -0.14982 ,   7.5048  ,  -0.34051 ],\n",
       "       [ -0.14982 ,   8.0496  ,  -0.081722],\n",
       "       [  0.42223 ,   8.1177  ,   0.53119 ],\n",
       "       [  0.27241 ,   8.3084  ,   0.8036  ],\n",
       "       [ -0.38137 ,   8.7715  ,   0.95342 ],\n",
       "       [ -0.46309 ,   9.9973  ,   0.8036  ],\n",
       "       [  0.040861,  11.795   ,   0.8036  ],\n",
       "       [ -0.29965 ,  12.531   ,   1.9477  ],\n",
       "       [ -1.5255  ,  12.871   ,   2.7649  ],\n",
       "       [ -0.61292 ,  14.288   ,   1.6481  ],\n",
       "       [  0.92618 ,  12.599   ,   0.14982 ],\n",
       "       [  2.3427  ,   9.6568  ,  -0.29965 ],\n",
       "       [  4.1406  ,   8.3084  ,  -0.76274 ],\n",
       "       [  5.598   ,   8.3084  ,  -0.91256 ],\n",
       "       [  4.4811  ,   9.003   ,  -0.23155 ],\n",
       "       [  0.53119 ,   8.9213  ,   1.1441  ],\n",
       "       [ -1.757   ,   7.927   ,   1.9205  ],\n",
       "       [ -1.2258  ,   6.7012  ,   1.9886  ],\n",
       "       [ -0.38137 ,   6.4424  ,   1.3076  ],\n",
       "       [ -0.50395 ,   7.2733  ,   0.88532 ],\n",
       "       [ -0.46309 ,   7.8181  ,   1.3348  ],\n",
       "       [  0.57205 ,   8.0769  ,   2.261   ],\n",
       "       [  1.1169  ,   8.1177  ,   2.7922  ],\n",
       "       [  0.50395 ,   8.6625  ,   2.4925  ],\n",
       "       [  0.23155 ,   9.9565  ,   1.4165  ],\n",
       "       [  0.8036  ,  11.496   ,   0.84446 ],\n",
       "       [  1.2667  ,  11.877   ,   2.0703  ],\n",
       "       [  0.72188 ,  13.634   ,   2.6832  ],\n",
       "       [  0.42223 ,  14.71    ,   1.5391  ],\n",
       "       [  1.3348  ,  11.182   ,   0.46309 ],\n",
       "       [  2.4517  ,   8.3493  ,  -0.38137 ],\n",
       "       [  2.1793  ,   9.1529  ,  -1.5663  ],\n",
       "       [  0.23155 ,  11.032   ,  -2.1793  ],\n",
       "       [  0.27241 ,  10.42    ,  -0.95342 ],\n",
       "       [  1.0351  ,   7.9679  ,   1.4574  ],\n",
       "       [  0.92618 ,   6.6331  ,   1.9477  ],\n",
       "       [  0.46309 ,   6.5922  ,   0.95342 ],\n",
       "       [  0.46309 ,   6.8919  ,  -0.10896 ],\n",
       "       [  0.76274 ,   7.355   ,  -0.46309 ],\n",
       "       [  0.040861,   8.0769  ,   0.081722]])"
      ]
     },
     "execution_count": 26,
     "metadata": {},
     "output_type": "execute_result"
    }
   ],
   "source": [
    "X[0]"
   ]
  },
  {
   "cell_type": "markdown",
   "metadata": {},
   "source": [
    "Train data splitsen in 80% trainen en 20% testen."
   ]
  },
  {
   "cell_type": "markdown",
   "metadata": {},
   "source": [
    "De totale lengte van alle arrays bij elkaar opgeteld voor X-Train:"
   ]
  },
  {
   "cell_type": "code",
   "execution_count": 27,
   "metadata": {
    "collapsed": false,
    "scrolled": true
   },
   "outputs": [
    {
     "name": "stdout",
     "output_type": "stream",
     "text": [
      "112051\n"
     ]
    }
   ],
   "source": [
    "som=0\n",
    "for item in X:\n",
    "    som+=item.shape[0]\n",
    "print(som)"
   ]
  },
  {
   "cell_type": "code",
   "execution_count": 28,
   "metadata": {
    "collapsed": false,
    "scrolled": true
   },
   "outputs": [
    {
     "data": {
      "text/plain": [
       "108337"
      ]
     },
     "execution_count": 28,
     "metadata": {},
     "output_type": "execute_result"
    }
   ],
   "source": [
    "sum([(array.shape[0]-2) for array in X])"
   ]
  },
  {
   "cell_type": "markdown",
   "metadata": {},
   "source": [
    "Bovenstaande waarde is de lengte van de array die KMeans in moet na uitvoeren van sliding window met een window van 3x3."
   ]
  },
  {
   "cell_type": "markdown",
   "metadata": {},
   "source": [
    "### Conclusies over de dataset\n",
    "Er zijn 22 klasses (0 t/m 21).\n",
    "\n",
    "Trainingsdata bestaat uit een lijst met arrays met arrays. Deze hebben verschillende lengte, van 45 rijen tot en met 79 rijen, en 3 kolommen."
   ]
  },
  {
   "cell_type": "markdown",
   "metadata": {},
   "source": [
    "## Preprocessing traindata en testdata\n",
    "De dataset is zo niet bruikbaar om te leren. We gaan het sliding window principe toepassen om de individuele waarden om te zetten naar een bewegingspatroon. Ter visualisatie: je zou de punten kunnen zien als punten van een golfbeweging. Alleen is dit niet direct herkenkenbaar aan de punten. Met de sliding window breng je deze beweging in je dataset.\n",
    "\n",
    "Vervolgens discretiseer je deze beweging via Kmeans (alsof je een analoog signaal discretiseert met een ADC). Zo krijg je per \"beweging\" hetzelfde aantal metingen (de clusters). Alleen de frequentie van die metingen varieert."
   ]
  },
  {
   "cell_type": "code",
   "execution_count": 9,
   "metadata": {
    "collapsed": false
   },
   "outputs": [],
   "source": [
    "X_sw=sliding_window(X)"
   ]
  },
  {
   "cell_type": "code",
   "execution_count": 10,
   "metadata": {
    "collapsed": false
   },
   "outputs": [
    {
     "data": {
      "text/plain": [
       "(108337, 9)"
      ]
     },
     "execution_count": 10,
     "metadata": {},
     "output_type": "execute_result"
    }
   ],
   "source": [
    "X_sw.shape"
   ]
  },
  {
   "cell_type": "markdown",
   "metadata": {},
   "source": [
    "### Omzetten naar clusters via KMeans\n",
    "We laten KMeans met een aantal clusters (van 10 tot en met 50) draaien en plotten de inertia om een keuze voor het aantal clusters te maken."
   ]
  },
  {
   "cell_type": "code",
   "execution_count": 31,
   "metadata": {
    "collapsed": false
   },
   "outputs": [],
   "source": [
    "#max_K = 50\n",
    "\n",
    "#distortions =  np.zeros(max_K)\n",
    "#for K in range(10,max_K):\n",
    "#    kmeans = KMeans(n_clusters=K+1)\n",
    "#    kmeans.fit(X_sw)\n",
    "    \n",
    "    #distortions[K] = KMeans(n_clusters=K+1).fit(X).inertia_\n",
    "#    distortions[K] = kmeans.inertia_"
   ]
  },
  {
   "cell_type": "code",
   "execution_count": 32,
   "metadata": {
    "collapsed": false
   },
   "outputs": [],
   "source": [
    "#plt.plot(range(1,max_K+1), distortions)\n",
    "#plt.ylabel('Distortion')\n",
    "#plt.xlabel('Number of clusters');"
   ]
  },
  {
   "cell_type": "markdown",
   "metadata": {},
   "source": [
    "Uit de plot blijkt niet een direct een knik. Een hogere waarde voor k lijkt een beter resultaat op te leveren. Vanwege rekentijd kies ik k=30."
   ]
  },
  {
   "cell_type": "code",
   "execution_count": 8,
   "metadata": {
    "collapsed": false
   },
   "outputs": [],
   "source": [
    "noClusters = 30\n",
    "km = KMeans(n_clusters=noClusters, init='k-means++', n_init=10, max_iter=300, tol=1e-04, random_state=0)"
   ]
  },
  {
   "cell_type": "markdown",
   "metadata": {},
   "source": [
    "Elke window een label geven en kijken wat het resultaat is."
   ]
  },
  {
   "cell_type": "code",
   "execution_count": 11,
   "metadata": {
    "collapsed": false
   },
   "outputs": [],
   "source": [
    "labels_sw = km.fit_predict(X_sw)"
   ]
  },
  {
   "cell_type": "code",
   "execution_count": 13,
   "metadata": {
    "collapsed": false
   },
   "outputs": [
    {
     "data": {
      "text/plain": [
       "array([8, 8, 8, ..., 0, 0, 0])"
      ]
     },
     "execution_count": 13,
     "metadata": {},
     "output_type": "execute_result"
    }
   ],
   "source": [
    "labels_sw"
   ]
  },
  {
   "cell_type": "code",
   "execution_count": 36,
   "metadata": {
    "collapsed": false,
    "scrolled": true
   },
   "outputs": [
    {
     "data": {
      "text/plain": [
       "(108337,)"
      ]
     },
     "execution_count": 36,
     "metadata": {},
     "output_type": "execute_result"
    }
   ],
   "source": [
    "labels_sw.shape"
   ]
  },
  {
   "cell_type": "code",
   "execution_count": 37,
   "metadata": {
    "collapsed": false,
    "scrolled": true
   },
   "outputs": [
    {
     "data": {
      "text/plain": [
       "array([ 0,  1,  2,  3,  4,  5,  6,  7,  8,  9, 10, 11, 12, 13, 14, 15, 16,\n",
       "       17, 18, 19, 20, 21, 22, 23, 24, 25, 26, 27, 28, 29])"
      ]
     },
     "execution_count": 37,
     "metadata": {},
     "output_type": "execute_result"
    }
   ],
   "source": [
    "np.unique(labels_sw)"
   ]
  },
  {
   "cell_type": "markdown",
   "metadata": {},
   "source": [
    "Matrix maken per als rijen de fragmenten uit de trainingsdata (1857 rijen) en als kolommen de clusters. De waarden van de labels komen dus overeen met de kolompositie. Hier kan je gebruik van maken van het optellen van hoe vaak een cluster voorkomt bij een fragment.\n",
    "\n",
    "Door van hetzelfde opdelingsprincipe gebruik te maken als bij het maken van de sliding window komen de juiste labels bij het juiste fragment terecht. De teller gaat hierdoor van 0 tot en met 108337."
   ]
  },
  {
   "cell_type": "code",
   "execution_count": 14,
   "metadata": {
    "collapsed": false
   },
   "outputs": [],
   "source": [
    "xtc=discretiminator(X,noClusters,labels_sw)"
   ]
  },
  {
   "cell_type": "code",
   "execution_count": 15,
   "metadata": {
    "collapsed": false
   },
   "outputs": [
    {
     "data": {
      "text/plain": [
       "(1857, 30)"
      ]
     },
     "execution_count": 15,
     "metadata": {},
     "output_type": "execute_result"
    }
   ],
   "source": [
    "xtc.shape"
   ]
  },
  {
   "cell_type": "code",
   "execution_count": 17,
   "metadata": {
    "collapsed": false,
    "scrolled": true
   },
   "outputs": [
    {
     "data": {
      "text/plain": [
       "array([[  0.,   2.,   6.,   0.,  17.,   2.,   0.,   0.,   2.,   0.,   0.,\n",
       "          0.,   0.,   0.,   0.,   2.,   6.,   6.,   2.,   0.,   0.,   0.,\n",
       "          0.,   0.,   1.,   0.,   0.,   1.,   0.,   0.],\n",
       "       [  0.,   8.,   0.,   0.,   0.,   0.,   0.,   2.,   9.,   0.,   0.,\n",
       "          0.,   0.,   1.,   0.,   3.,   4.,   7.,   0.,   0.,   0.,   3.,\n",
       "          0.,   0.,   0.,   0.,   3.,  16.,   0.,   4.],\n",
       "       [  0.,   1.,  14.,   0.,   2.,   6.,   0.,   0.,   2.,   0.,   5.,\n",
       "          0.,   0.,   0.,   0.,   3.,  12.,   8.,   4.,   0.,   0.,   0.,\n",
       "          0.,   0.,   7.,   0.,   0.,   0.,   0.,   0.],\n",
       "       [  0.,   0.,   5.,   0.,   9.,   4.,   0.,   2.,   3.,   0.,   9.,\n",
       "          0.,   0.,   2.,   0.,   1.,  20.,   0.,   7.,   0.,   0.,   1.,\n",
       "          0.,   0.,   8.,   0.,   0.,   0.,   0.,   0.],\n",
       "       [  0.,   7.,   3.,   0.,   2.,   0.,   0.,   0.,  10.,   0.,   0.,\n",
       "          0.,   0.,   3.,   0.,   1.,   2.,   0.,   0.,   0.,   0.,   2.,\n",
       "          0.,   0.,   0.,   0.,   2.,   9.,   0.,   2.],\n",
       "       [  0.,  15.,   0.,   0.,   0.,   0.,   0.,   0.,  11.,   2.,   0.,\n",
       "          2.,   0.,  12.,   0.,   1.,   0.,   0.,   0.,   0.,   0.,   1.,\n",
       "          0.,   0.,   0.,   0.,   8.,   7.,   0.,   5.],\n",
       "       [  0.,   0.,   0.,   0.,   0.,   0.,   0.,   0.,   0.,   0.,   0.,\n",
       "          0.,   0.,   0.,   0.,   0.,   0.,   0.,   0.,  44.,   0.,   0.,\n",
       "          0.,   0.,   0.,   0.,   0.,   0.,   0.,   0.],\n",
       "       [  0.,   0.,   0.,   0.,  54.,   0.,   0.,   0.,   0.,   0.,   0.,\n",
       "          0.,   0.,   0.,   0.,   0.,   0.,   0.,   0.,   0.,   0.,   0.,\n",
       "          0.,   0.,   0.,   0.,   0.,   0.,   0.,   0.],\n",
       "       [  0.,   8.,   0.,   0.,   0.,   0.,   0.,   0.,  22.,   4.,   0.,\n",
       "          0.,   0.,  13.,   0.,   0.,   0.,   0.,   0.,   0.,   0.,   0.,\n",
       "          0.,   0.,   0.,   0.,   3.,   1.,   0.,   0.],\n",
       "       [  0.,   0.,   2.,   3.,   2.,   3.,   0.,   0.,   1.,   0.,   1.,\n",
       "          0.,   0.,   4.,   0.,   4.,  14.,   2.,   3.,   0.,   0.,   0.,\n",
       "          0.,   0.,   5.,   0.,   0.,   0.,   0.,   0.]])"
      ]
     },
     "execution_count": 17,
     "metadata": {},
     "output_type": "execute_result"
    }
   ],
   "source": [
    "xtc[10:20]"
   ]
  },
  {
   "cell_type": "code",
   "execution_count": 18,
   "metadata": {
    "collapsed": false
   },
   "outputs": [
    {
     "data": {
      "text/plain": [
       "[21.0, 19.0, 17.0, 17.0, 16.0, 19.0, 16.0, 7.0, 15.0, 17.0]"
      ]
     },
     "execution_count": 18,
     "metadata": {},
     "output_type": "execute_result"
    }
   ],
   "source": [
    "y[10:20]"
   ]
  },
  {
   "cell_type": "markdown",
   "metadata": {},
   "source": [
    "### Preprocessing van de  data waar de ML over moet voorspellen."
   ]
  },
  {
   "cell_type": "code",
   "execution_count": 41,
   "metadata": {
    "collapsed": true
   },
   "outputs": [],
   "source": [
    "X_pred_sw=sliding_window(X_pred)"
   ]
  },
  {
   "cell_type": "code",
   "execution_count": 42,
   "metadata": {
    "collapsed": true
   },
   "outputs": [],
   "source": [
    "X_pred_labels = km.predict(X_pred_sw)"
   ]
  },
  {
   "cell_type": "code",
   "execution_count": 43,
   "metadata": {
    "collapsed": true
   },
   "outputs": [],
   "source": [
    "X_pred_c=discretiminator(X_pred,noClusters,X_pred_labels)"
   ]
  },
  {
   "cell_type": "code",
   "execution_count": 44,
   "metadata": {
    "collapsed": false
   },
   "outputs": [
    {
     "data": {
      "text/plain": [
       "array([[  0.,   1.,   9., ...,   0.,   0.,   0.],\n",
       "       [  0.,   0.,   7., ...,   0.,   0.,   0.],\n",
       "       [  0.,   9.,   0., ...,   0.,   0.,   3.],\n",
       "       ..., \n",
       "       [  0.,   0.,   0., ...,   0.,   0.,   0.],\n",
       "       [  0.,   7.,  13., ...,   5.,   0.,   0.],\n",
       "       [  0.,   0.,   0., ...,   0.,   0.,  10.]])"
      ]
     },
     "execution_count": 44,
     "metadata": {},
     "output_type": "execute_result"
    }
   ],
   "source": [
    "X_pred_c[:]"
   ]
  },
  {
   "cell_type": "code",
   "execution_count": 45,
   "metadata": {
    "collapsed": false
   },
   "outputs": [
    {
     "data": {
      "text/plain": [
       "(626, 30)"
      ]
     },
     "execution_count": 45,
     "metadata": {},
     "output_type": "execute_result"
    }
   ],
   "source": [
    "X_pred_c.shape"
   ]
  },
  {
   "cell_type": "markdown",
   "metadata": {},
   "source": [
    "## Learning algoritme\n",
    "We proberen SVM en Naive Bayes als learning algoritme om de voorspelling te doen welke data bij welke wandelaar hoort."
   ]
  },
  {
   "cell_type": "code",
   "execution_count": 46,
   "metadata": {
    "collapsed": false
   },
   "outputs": [],
   "source": [
    "# initialize parameters\n",
    "c_params = [0.01, 0.03, 0.1, 0.3, 1, 3]\n",
    "kernel_params = ['linear', 'rbf']\n",
    "parameters = {'kernel':kernel_params, 'C':c_params}\n",
    "\n",
    "# perform cross validation grid search\n",
    "clfSVM = GridSearchCV(SVC(), parameters, cv=5).fit(xtc, y)"
   ]
  },
  {
   "cell_type": "code",
   "execution_count": 47,
   "metadata": {
    "collapsed": false
   },
   "outputs": [
    {
     "data": {
      "text/plain": [
       "({'C': 0.03, 'kernel': 'linear'}, 0.72374798061389334)"
      ]
     },
     "execution_count": 47,
     "metadata": {},
     "output_type": "execute_result"
    }
   ],
   "source": [
    "clfSVM.best_params_, clfSVM.best_score_"
   ]
  },
  {
   "cell_type": "code",
   "execution_count": 48,
   "metadata": {
    "collapsed": false,
    "scrolled": false
   },
   "outputs": [
    {
     "data": {
      "image/png": "[encoded data removed]",
      "text/plain": [
       "<matplotlib.figure.Figure at 0xa4db080>"
      ]
     },
     "metadata": {},
     "output_type": "display_data"
    }
   ],
   "source": [
    "scores = clfSVM.cv_results_['mean_test_score'].reshape(len(c_params), len(kernel_params))\n",
    "sns.heatmap(scores, center=0.4, yticklabels=c_params, xticklabels=kernel_params, annot=True);"
   ]
  },
  {
   "cell_type": "markdown",
   "metadata": {},
   "source": [
    "Score SVM op trainingsdata is bij k=30 is 0.72. Bij k=20 was SVM score 0.68. Meer clusters geeft hogere score.\n",
    "\n",
    "Eens kijken wat Naive Bayes doet. "
   ]
  },
  {
   "cell_type": "code",
   "execution_count": 49,
   "metadata": {
    "collapsed": true
   },
   "outputs": [],
   "source": [
    "# initialize parameters\n",
    "alpha_params = [0.1, 0.3, 0.5, 0.7, 1.0]\n",
    "\n",
    "parameters = {'alpha':alpha_params}\n",
    "\n",
    "# perform cross validation grid search\n",
    "clfNB = GridSearchCV(MultinomialNB(), parameters, cv=5).fit(xtc,y)"
   ]
  },
  {
   "cell_type": "code",
   "execution_count": 50,
   "metadata": {
    "collapsed": false,
    "scrolled": false
   },
   "outputs": [
    {
     "data": {
      "image/png": "[encoded data removed]",
      "text/plain": [
       "<matplotlib.figure.Figure at 0xa525d68>"
      ]
     },
     "metadata": {},
     "output_type": "display_data"
    }
   ],
   "source": [
    "scores = clfNB.cv_results_['mean_test_score'].reshape(len(alpha_params),1)\n",
    "sns.heatmap(scores, center=0.51, yticklabels=alpha_params, xticklabels='', annot=True);"
   ]
  },
  {
   "cell_type": "code",
   "execution_count": 51,
   "metadata": {
    "collapsed": false,
    "scrolled": true
   },
   "outputs": [
    {
     "data": {
      "text/plain": [
       "({'alpha': 0.1}, 0.55896607431340872)"
      ]
     },
     "execution_count": 51,
     "metadata": {},
     "output_type": "execute_result"
    }
   ],
   "source": [
    "clfNB.best_params_, clfNB.best_score_"
   ]
  },
  {
   "cell_type": "markdown",
   "metadata": {},
   "source": [
    "Naive Bayes doet het slechter dan SVM. We proberen een neuraal net."
   ]
  },
  {
   "cell_type": "code",
   "execution_count": 52,
   "metadata": {
    "collapsed": false
   },
   "outputs": [],
   "source": [
    "mlp = MLPClassifier(solver='lbfgs', \n",
    "                    activation='logistic',\n",
    "                    momentum=0.2,\n",
    "                    tol=0.00001)"
   ]
  },
  {
   "cell_type": "code",
   "execution_count": 53,
   "metadata": {
    "collapsed": false
   },
   "outputs": [],
   "source": [
    "hiddenunits_params = [(1),(3),(10),(20),(30), (50), (100)]\n",
    "learningrate_params = [0.01, 0.05, 0.1, 0.5, 1.0] \n",
    "parameters = {'hidden_layer_sizes':hiddenunits_params, 'learning_rate_init':learningrate_params}\n",
    "\n",
    "clfMLP = GridSearchCV(mlp, parameters, cv=3).fit(xtc, y)"
   ]
  },
  {
   "cell_type": "code",
   "execution_count": 54,
   "metadata": {
    "collapsed": false,
    "scrolled": true
   },
   "outputs": [
    {
     "data": {
      "image/png": "[encoded data removed]",
      "text/plain": [
       "<matplotlib.figure.Figure at 0xa8c4748>"
      ]
     },
     "metadata": {},
     "output_type": "display_data"
    }
   ],
   "source": [
    "scores = clfMLP.cv_results_['mean_test_score'].reshape(len(hiddenunits_params), len(learningrate_params))\n",
    "sns.heatmap(scores, center=0.4, yticklabels=hiddenunits_params, xticklabels=learningrate_params, annot=True);"
   ]
  },
  {
   "cell_type": "code",
   "execution_count": 55,
   "metadata": {
    "collapsed": false,
    "scrolled": true
   },
   "outputs": [
    {
     "data": {
      "text/plain": [
       "({'hidden_layer_sizes': 100, 'learning_rate_init': 0.1}, 0.70059235325794289)"
      ]
     },
     "execution_count": 55,
     "metadata": {},
     "output_type": "execute_result"
    }
   ],
   "source": [
    "clfMLP.best_params_, clfMLP.best_score_"
   ]
  },
  {
   "cell_type": "markdown",
   "metadata": {},
   "source": [
    "Ook de multilayer classifier werkt niet beter als SVM. Als laatste een decision tree."
   ]
  },
  {
   "cell_type": "code",
   "execution_count": 56,
   "metadata": {
    "collapsed": false
   },
   "outputs": [],
   "source": [
    "tree = DecisionTreeClassifier()"
   ]
  },
  {
   "cell_type": "code",
   "execution_count": 57,
   "metadata": {
    "collapsed": false
   },
   "outputs": [],
   "source": [
    "criterion_params = ['gini','entropy']\n",
    "max_features_params = ['auto','sqrt','log2'] \n",
    "parameters = {'criterion':criterion_params, 'max_features':max_features_params}\n",
    "\n",
    "clfTREE = GridSearchCV(tree, parameters, cv=3).fit(xtc, y)"
   ]
  },
  {
   "cell_type": "code",
   "execution_count": 58,
   "metadata": {
    "collapsed": false
   },
   "outputs": [
    {
     "data": {
      "image/png": "[encoded data removed]",
      "text/plain": [
       "<matplotlib.figure.Figure at 0x72e5198>"
      ]
     },
     "metadata": {},
     "output_type": "display_data"
    }
   ],
   "source": [
    "scores = clfTREE.cv_results_['mean_test_score'].reshape(len(criterion_params), len(max_features_params))\n",
    "sns.heatmap(scores, center=0.4, yticklabels=criterion_params, xticklabels=max_features_params, annot=True);"
   ]
  },
  {
   "cell_type": "markdown",
   "metadata": {},
   "source": [
    "## De uiteindelijke voorspelling\n",
    "\n",
    "SVM geeft het beste resultaat. Dus we gebruiken die om de voorspelling te doen. Maar eerst nog even de f1 score hiervan vaststellen."
   ]
  },
  {
   "cell_type": "code",
   "execution_count": 59,
   "metadata": {
    "collapsed": false,
    "scrolled": false
   },
   "outputs": [
    {
     "data": {
      "text/plain": [
       "array([  0.,   1.,   2.,   3.,   4.,   5.,   6.,   7.,   8.,   9.,  10.,\n",
       "        11.,  12.,  13.,  14.,  15.,  16.,  17.,  19.,  20.,  21.])"
      ]
     },
     "execution_count": 59,
     "metadata": {},
     "output_type": "execute_result"
    }
   ],
   "source": [
    "X_train, X_test, y_train, y_test = train_test_split(xtc, y, test_size=0.2, random_state=0)\n",
    "y_pred = clfSVM.predict(X_test)\n",
    "np.unique(y_pred)"
   ]
  },
  {
   "cell_type": "code",
   "execution_count": 60,
   "metadata": {
    "collapsed": false
   },
   "outputs": [
    {
     "data": {
      "text/plain": [
       "6.0"
      ]
     },
     "execution_count": 60,
     "metadata": {},
     "output_type": "execute_result"
    }
   ],
   "source": [
    "np.array(y_test)[3]"
   ]
  },
  {
   "cell_type": "code",
   "execution_count": 61,
   "metadata": {
    "collapsed": false,
    "scrolled": true
   },
   "outputs": [
    {
     "name": "stderr",
     "output_type": "stream",
     "text": [
      "c:\\python35\\lib\\site-packages\\sklearn\\metrics\\classification.py:1113: UndefinedMetricWarning: F-score is ill-defined and being set to 0.0 in labels with no predicted samples.\n",
      "  'precision', 'predicted', average, warn_for)\n"
     ]
    },
    {
     "data": {
      "text/plain": [
       "0.25297031111117796"
      ]
     },
     "execution_count": 61,
     "metadata": {},
     "output_type": "execute_result"
    }
   ],
   "source": [
    "errors = 1 - f1_score(np.array(y_test), y_pred, average='macro')\n",
    "errors"
   ]
  },
  {
   "cell_type": "code",
   "execution_count": 62,
   "metadata": {
    "collapsed": false
   },
   "outputs": [
    {
     "name": "stderr",
     "output_type": "stream",
     "text": [
      "c:\\python35\\lib\\site-packages\\sklearn\\metrics\\classification.py:1113: UndefinedMetricWarning: F-score is ill-defined and being set to 0.0 in labels with no predicted samples.\n",
      "  'precision', 'predicted', average, warn_for)\n"
     ]
    },
    {
     "data": {
      "text/plain": [
       "0.74702968888882204"
      ]
     },
     "execution_count": 62,
     "metadata": {},
     "output_type": "execute_result"
    }
   ],
   "source": [
    "errors2 = f1_score(np.array(y_test), y_pred, average='macro')\n",
    "errors2"
   ]
  },
  {
   "cell_type": "code",
   "execution_count": 63,
   "metadata": {
    "collapsed": false
   },
   "outputs": [],
   "source": [
    "y_predSVM = clfSVM.predict(X_pred_c)"
   ]
  },
  {
   "cell_type": "code",
   "execution_count": 64,
   "metadata": {
    "collapsed": false,
    "scrolled": true
   },
   "outputs": [
    {
     "data": {
      "text/plain": [
       "array([ 17.,  17.,  11.,  19.,  17.,  16.,   9.,   5.,  19.,  12.,  13.,\n",
       "         2.,   3.,   5.,  19.,   4.,  17.,  19.,  16.,  13.,   8.,  19.,\n",
       "         3.,  21.,  17.,   6.,  13.,  20.,  21.,  13.,  16.,  13.,  10.,\n",
       "        16.,   1.,   3.,   8.,  21.,  17.,  21.,  16.,  16.,   5.,  21.,\n",
       "         3.,  11.,  13.,  16.,   5.,  16.,  19.,  13.,   0.,  13.,  19.,\n",
       "        14.,   8.,   9.,  11.,  17.,  20.,  17.,  21.,  21.,  21.,  16.,\n",
       "         3.,  10.,  19.,  20.,  13.,   8.,   2.,  19.,  19.,  12.,  21.,\n",
       "         3.,  16.,  19.,  16.,  16.,  16.,  17.,  11.,  21.,  10.,  19.,\n",
       "         9.,  16.,  13.,  14.,   1.,  16.,   6.,  11.,  13.,  13.,  17.,\n",
       "        13.,  11.,  17.,  16.,  13.,  12.,   5.,  16.,   5.,  16.,  12.,\n",
       "         3.,   8.,   3.,  21.,  20.,   7.,  17.,  14.,  20.,  11.,   8.,\n",
       "        19.,  12.,  21.,  10.,  16.,  17.,  17.,   6.,   9.,  17.,  16.,\n",
       "        17.,  16.,  16.,  14.,  17.,  21.,  13.,  19.,  10.,  21.,   3.,\n",
       "         4.,  19.,  16.,   0.,  16.,  12.,   8.,  21.,   5.,  19.,  16.,\n",
       "         5.,   1.,  19.,  16.,   9.,  17.,   5.,  11.,   8.,   3.,  17.,\n",
       "        17.,  21.,  16.,  12.,  16.,  21.,  13.,   5.,  13.,  14.,  16.,\n",
       "        16.,  19.,  12.,  19.,  14.,   8.,   4.,  20.,  16.,   3.,   0.,\n",
       "        17.,  11.,   5.,  19.,  17.,  17.,  17.,  12.,   0.,  10.,  16.,\n",
       "        16.,  16.,  17.,  20.,  17.,  17.,   7.,   5.,  10.,  13.,  16.,\n",
       "         0.,  17.,  16.,   8.,  17.,  14.,  19.,  19.,  13.,  13.,  16.,\n",
       "        16.,  17.,  16.,  13.,   3.,   5.,  13.,  17.,   6.,  13.,  10.,\n",
       "        21.,  19.,  21.,  16.,  17.,   0.,  16.,  17.,  16.,  12.,  13.,\n",
       "         8.,  17.,  17.,  17.,  12.,  17.,  13.,  13.,   8.,  21.,  21.,\n",
       "        16.,  10.,  16.,  15.,  17.,  16.,  21.,  16.,   0.,  17.,  21.,\n",
       "        16.,  16.,  16.,  17.,  19.,  16.,  12.,  16.,   8.,   3.,  17.,\n",
       "         6.,   9.,  16.,  16.,  12.,  13.,   0.,  19.,  13.,  16.,  21.,\n",
       "        16.,  16.,  19.,  19.,   5.,  10.,  19.,  16.,  16.,  19.,   0.,\n",
       "         3.,  16.,  17.,  17.,   0.,  10.,  21.,  19.,   0.,   3.,  16.,\n",
       "        17.,  19.,  17.,  19.,  12.,   1.,  17.,  13.,   3.,  12.,  16.,\n",
       "         8.,  12.,  21.,   9.,  19.,  19.,  10.,  19.,  16.,  21.,  19.,\n",
       "         3.,  20.,   9.,  16.,   8.,  19.,  10.,  16.,   8.,  17.,  12.,\n",
       "        11.,  16.,  17.,   6.,  20.,  16.,  21.,  21.,   6.,  17.,  17.,\n",
       "        21.,  11.,  16.,  17.,   8.,  17.,   0.,  16.,  14.,   8.,  13.,\n",
       "         1.,  17.,   3.,  17.,  17.,  16.,  16.,  13.,  19.,  13.,   8.,\n",
       "        13.,  19.,  19.,  16.,  16.,  17.,  14.,  10.,  16.,  17.,   8.,\n",
       "        19.,  16.,  16.,  17.,   8.,  16.,  17.,   7.,  19.,   1.,  19.,\n",
       "        12.,  16.,   8.,   5.,  16.,  16.,  13.,  13.,  13.,  16.,   3.,\n",
       "        10.,  11.,  16.,  12.,  21.,  17.,  16.,  17.,  19.,  17.,   7.,\n",
       "        16.,   4.,  17.,  12.,  16.,  16.,  11.,  17.,  19.,  16.,  17.,\n",
       "        19.,  10.,   6.,  17.,   5.,  21.,  13.,  13.,  19.,   3.,   6.,\n",
       "        10.,  21.,  17.,  19.,   8.,  15.,   8.,   9.,  12.,  14.,  17.,\n",
       "         9.,  15.,   8.,  16.,  10.,  16.,  13.,  12.,   7.,  21.,  19.,\n",
       "        16.,  16.,  16.,  12.,  16.,  17.,  16.,  21.,  21.,  17.,  13.,\n",
       "         8.,  16.,   6.,  19.,  19.,   3.,  10.,  16.,   3.,   9.,   3.,\n",
       "        13.,   5.,  12.,  17.,  11.,  16.,   0.,  16.,  16.,   9.,  19.,\n",
       "        12.,  21.,  19.,   3.,  12.,  21.,   5.,   3.,  12.,  19.,  16.,\n",
       "        19.,  10.,  17.,  19.,   2.,  16.,  16.,  11.,  16.,  16.,  19.,\n",
       "        11.,   0.,  19.,   6.,   8.,  17.,   3.,  19.,  16.,  19.,   1.,\n",
       "        19.,  12.,  17.,   3.,  13.,  17.,  16.,  17.,   8.,   3.,  17.,\n",
       "         7.,  21.,  19.,   3.,   0.,   8.,   2.,  17.,  16.,  21.,  14.,\n",
       "         3.,   1.,  13.,  13.,  17.,  17.,  21.,  13.,  11.,  20.,  19.,\n",
       "        16.,  17.,   6.,  16.,   0.,  20.,  19.,  16.,  11.,   6.,  19.,\n",
       "        21.,  16.,  19.,   5.,  16.,  19.,  19.,  12.,   3.,  15.,  16.,\n",
       "        13.,  21.,  21.,  16.,  21.,  19.,  12.,   1.,  17.,  17.,  17.,\n",
       "        19.,   3.,  17.,  19.,  13.,  12.,  17.,  17.,   8.,  13.,  10.,\n",
       "        16.,  17.,  21.,  16.,   2.,   8.,   6.,   3.,   5.,   1.,  16.,\n",
       "        11.,  17.,  10.,  10.,  16.,   3.,   3.,  13.,  17.,   6.])"
      ]
     },
     "execution_count": 64,
     "metadata": {},
     "output_type": "execute_result"
    }
   ],
   "source": [
    "y_predSVM"
   ]
  },
  {
   "cell_type": "code",
   "execution_count": 65,
   "metadata": {
    "collapsed": false
   },
   "outputs": [],
   "source": [
    "json.dump(list(y_predSVM), open(\"y_pred.json\", \"w+\"))"
   ]
  }
 ],
 "metadata": {
  "kernelspec": {
   "display_name": "Python 3",
   "language": "python",
   "name": "python3"
  },
  "language_info": {
   "codemirror_mode": {
    "name": "ipython",
    "version": 3
   },
   "file_extension": ".py",
   "mimetype": "text/x-python",
   "name": "python",
   "nbconvert_exporter": "python",
   "pygments_lexer": "ipython3",
   "version": "3.5.2"
  }
 },
 "nbformat": 4,
 "nbformat_minor": 1
}
