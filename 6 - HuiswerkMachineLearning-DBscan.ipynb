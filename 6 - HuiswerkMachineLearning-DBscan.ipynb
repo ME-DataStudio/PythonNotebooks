{
 "cells": [
  {
   "cell_type": "markdown",
   "metadata": {},
   "source": [
    "# Machine learning Wandelaars\n"
   ]
  },
  {
   "cell_type": "markdown",
   "metadata": {},
   "source": [
    "## Packages installeren"
   ]
  },
  {
   "cell_type": "code",
   "execution_count": 1,
   "metadata": {
    "collapsed": true
   },
   "outputs": [],
   "source": [
    "import pickle\n",
    "import numpy as np\n",
    "from mpl_toolkits.mplot3d import Axes3D\n",
    "from matplotlib import colors\n",
    "import matplotlib.pyplot as plt\n",
    "%matplotlib inline\n",
    "import seaborn as sns\n",
    "\n",
    "#Preprocessing\n",
    "from sklearn.neural_network import BernoulliRBM\n",
    "from sklearn.preprocessing import normalize\n",
    "\n",
    "# classifiers & testing\n",
    "from sklearn.svm import SVC\n",
    "from sklearn.naive_bayes import MultinomialNB\n",
    "from sklearn.neural_network import MLPClassifier\n",
    "from sklearn.tree import DecisionTreeClassifier\n",
    "from sklearn.model_selection import train_test_split, GridSearchCV\n",
    "from sklearn.metrics import f1_score"
   ]
  },
  {
   "cell_type": "markdown",
   "metadata": {},
   "source": [
    "## Functie definities"
   ]
  },
  {
   "cell_type": "code",
   "execution_count": 27,
   "metadata": {
    "collapsed": false
   },
   "outputs": [],
   "source": [
    "def DirectionMagnitude(DataSet):\n",
    "    \"\"\"\n",
    "    Uit de dataset een patroon maken door twee opeenvolgende vectoren op te tellen en van de resulterende \n",
    "    vector de richting en de lengte te berekenen.\n",
    "    \n",
    "    In: Dataset opgebouwd uit een array van arrays\n",
    "\n",
    "    Out: Dataset bestaande uit een array met vectoren. Elke vector is de richting en de lengte.\n",
    "    \"\"\"\n",
    "\n",
    "    DataOut=[]\n",
    "    for InArray in DataSet:\n",
    "        lengteArray = InArray.shape[0]\n",
    "        for regelNr in range(lengteArray-1):\n",
    "            ArrayOut=[]\n",
    "            vectorSum = (InArray[regelNr]+InArray[regelNr+1])\n",
    "            vectorSumMag = np.linalg.norm(vectorSum)\n",
    "            vectorSumMagUnit = vectorSum / vectorSumMag\n",
    "            vectorSumX_Angle = np.arccos(np.clip(np.dot(vectorSumMagUnit, [1,0,0]), -1.0, 1.0))\n",
    "            vectorSumY_Angle = np.arccos(np.clip(np.dot(vectorSumMagUnit, [0,1,0]), -1.0, 1.0))  \n",
    "            vectorSumZ_Angle = np.arccos(np.clip(np.dot(vectorSumMagUnit, [0,0,1]), -1.0, 1.0))\n",
    "            ArrayOut.append([vectorSumMag,vectorSumX_Angle,vectorSumY_Angle,vectorSumZ_Angle])\n",
    "            DataOut.append(ArrayOut)\n",
    "    return np.array(DataOut)\n",
    "\n",
    "def discretiminator(Dataset,noClusters,Labels):\n",
    "    \"\"\"\n",
    "    Maak van een dataset, aantal clusters en labels een matrix in de vorm van\n",
    "    lengte dataset x aantal clusters.\n",
    "    \n",
    "    Tel vervolgens hoe vaak een aantal clusters per rij voorkomt door 1 op te tellen \n",
    "    bij de index die overeenkomt met het cluster (dus als het label de waarde 0 heeft \n",
    "    moet er 1 opgeteld worden bij kolom 0. Dus het cluster zelf bepaald bij \n",
    "    welke kolom er een wordt opgeteld. Als de lengte van een array uit X_train afgelopen \n",
    "    is wordt een volgende rij gemaakt\n",
    "\n",
    "    In: \n",
    "    - Dataset opgebouwd uit een array van arrays. Voor deze case is dit X_train\n",
    "    - noClusters clusters die in de KMeans is gebruikt en bepaald aantal kolommen van de DataOut\n",
    "    - Labels bepaald met KMeans\n",
    "\n",
    "    Out: Dataset bestaande uit een array met vectoren.\n",
    "    \"\"\"\n",
    "\n",
    "    DataOut=np.zeros((len(Dataset),noClusters))\n",
    "    teller = 0\n",
    "    for idx,array in enumerate(Dataset):\n",
    "        for i in range(array.shape[0]-2):\n",
    "            DataOut[idx,Labels[teller]]+=1\n",
    "            teller+=1\n",
    "    return(DataOut)"
   ]
  },
  {
   "cell_type": "markdown",
   "metadata": {},
   "source": [
    "## Data inlezen\n",
    "Data inlezen. Trainingsdata in data (X) en klasse/label (y). Data welke voorspelt moet worden in X_pred.\n",
    "\n",
    "En kijken waar het uit bestaat en hoe het is opgebouwd."
   ]
  },
  {
   "cell_type": "code",
   "execution_count": 2,
   "metadata": {
    "collapsed": false
   },
   "outputs": [],
   "source": [
    "X, y = pickle.load(open(\"train_X_y.p\", \"rb\"))\n",
    "X_pred = pickle.load(open('test_X.p', 'rb'))"
   ]
  },
  {
   "cell_type": "code",
   "execution_count": 28,
   "metadata": {
    "collapsed": false
   },
   "outputs": [],
   "source": [
    "DMData = DirectionMagnitude(X)"
   ]
  },
  {
   "cell_type": "code",
   "execution_count": 29,
   "metadata": {
    "collapsed": false,
    "scrolled": true
   },
   "outputs": [
    {
     "data": {
      "text/plain": [
       "numpy.ndarray"
      ]
     },
     "execution_count": 29,
     "metadata": {},
     "output_type": "execute_result"
    }
   ],
   "source": [
    "type(DMData)"
   ]
  },
  {
   "cell_type": "code",
   "execution_count": 32,
   "metadata": {
    "collapsed": false,
    "scrolled": true
   },
   "outputs": [
    {
     "data": {
      "text/plain": [
       "array([[[ 18.70487866,   1.50740259,   0.07916271,   1.61814552]],\n",
       "\n",
       "       [[ 18.5522543 ,   1.48184512,   0.12184913,   1.65385205]],\n",
       "\n",
       "       [[ 20.2011826 ,   1.58428159,   0.09817901,   1.66803888]],\n",
       "\n",
       "       [[ 19.23228426,   1.61897305,   0.06521606,   1.61471839]],\n",
       "\n",
       "       [[ 15.8737691 ,   1.54676885,   0.07686439,   1.49779798]],\n",
       "\n",
       "       [[ 13.9409631 ,   1.47980911,   0.12143466,   1.49059683]],\n",
       "\n",
       "       [[ 14.33686467,   1.53848936,   0.03395639,   1.5812472 ]],\n",
       "\n",
       "       [[ 15.5630146 ,   1.59005086,   0.03327405,   1.59793013]],\n",
       "\n",
       "       [[ 16.17584056,   1.55395498,   0.03249705,   1.54300637]],\n",
       "\n",
       "       [[ 16.49487649,   1.5286714 ,   0.09135061,   1.48978626]]])"
      ]
     },
     "execution_count": 32,
     "metadata": {},
     "output_type": "execute_result"
    }
   ],
   "source": [
    "DMData[0:10]"
   ]
  },
  {
   "cell_type": "code",
   "execution_count": null,
   "metadata": {
    "collapsed": true
   },
   "outputs": [],
   "source": []
  },
  {
   "cell_type": "code",
   "execution_count": 33,
   "metadata": {
    "collapsed": false
   },
   "outputs": [],
   "source": [
    "DMpred = DirectionMagnitude(X_pred)"
   ]
  },
  {
   "cell_type": "code",
   "execution_count": 35,
   "metadata": {
    "collapsed": false,
    "scrolled": true
   },
   "outputs": [
    {
     "data": {
      "text/plain": [
       "array([[[ 27.61546199,   1.77039193,   0.29988461,   1.79157147]],\n",
       "\n",
       "       [[ 20.78754443,   1.63702137,   0.27702233,   1.83937946]],\n",
       "\n",
       "       [[ 17.27838579,   1.51558778,   0.16180405,   1.72273407]],\n",
       "\n",
       "       [[ 18.99513607,   1.46808008,   0.10440639,   1.5894406 ]],\n",
       "\n",
       "       [[ 21.26413791,   1.47714335,   0.10228491,   1.52979093]],\n",
       "\n",
       "       [[ 19.88611819,   1.57696046,   0.09074317,   1.48026391]],\n",
       "\n",
       "       [[ 15.72580651,   1.73523032,   0.21501244,   1.43352045]],\n",
       "\n",
       "       [[ 12.36041805,   1.87982358,   0.33850286,   1.43706521]],\n",
       "\n",
       "       [[ 10.90621672,   1.9107494 ,   0.34333497,   1.61702038]]])"
      ]
     },
     "execution_count": 35,
     "metadata": {},
     "output_type": "execute_result"
    }
   ],
   "source": [
    "DMpred[1:10]"
   ]
  },
  {
   "cell_type": "code",
   "execution_count": 18,
   "metadata": {
    "collapsed": false
   },
   "outputs": [
    {
     "data": {
      "text/plain": [
       "0.088465648738887806"
      ]
     },
     "execution_count": 18,
     "metadata": {},
     "output_type": "execute_result"
    }
   ],
   "source": [
    "vectorSumY_Angle"
   ]
  },
  {
   "cell_type": "code",
   "execution_count": 19,
   "metadata": {
    "collapsed": false
   },
   "outputs": [
    {
     "data": {
      "text/plain": [
       "1.6419280179459463"
      ]
     },
     "execution_count": 19,
     "metadata": {},
     "output_type": "execute_result"
    }
   ],
   "source": [
    "vectorSumZ_Angle"
   ]
  },
  {
   "cell_type": "markdown",
   "metadata": {},
   "source": [
    "Lengte?"
   ]
  },
  {
   "cell_type": "code",
   "execution_count": 5,
   "metadata": {
    "collapsed": false
   },
   "outputs": [
    {
     "data": {
      "text/plain": [
       "(1857, 1857, 626)"
      ]
     },
     "execution_count": 5,
     "metadata": {},
     "output_type": "execute_result"
    }
   ],
   "source": [
    "len(X), len(y), len(X_pred)"
   ]
  },
  {
   "cell_type": "markdown",
   "metadata": {},
   "source": [
    "Welke klassen/labels zijn er?"
   ]
  },
  {
   "cell_type": "code",
   "execution_count": 7,
   "metadata": {
    "collapsed": false,
    "scrolled": true
   },
   "outputs": [
    {
     "data": {
      "text/plain": [
       "array([  0.,   1.,   2.,   3.,   4.,   5.,   6.,   7.,   8.,   9.,  10.,\n",
       "        11.,  12.,  13.,  14.,  15.,  16.,  17.,  18.,  19.,  20.,  21.])"
      ]
     },
     "execution_count": 7,
     "metadata": {},
     "output_type": "execute_result"
    }
   ],
   "source": [
    "np.unique(y)"
   ]
  },
  {
   "cell_type": "markdown",
   "metadata": {},
   "source": [
    "Hoe vaak komen deze klassen/labels voor?"
   ]
  },
  {
   "cell_type": "code",
   "execution_count": 7,
   "metadata": {
    "collapsed": false,
    "scrolled": true
   },
   "outputs": [
    {
     "data": {
      "text/plain": [
       "array([ 63,  48,  15,  90,  13,  60,  46,  43, 100,  39,  70,  60,  83,\n",
       "       149,  45,  21, 276, 258,  12, 207,  38, 121], dtype=int64)"
      ]
     },
     "execution_count": 7,
     "metadata": {},
     "output_type": "execute_result"
    }
   ],
   "source": [
    "np.bincount(y)"
   ]
  },
  {
   "cell_type": "markdown",
   "metadata": {},
   "source": [
    "Wat is het type van de data?"
   ]
  },
  {
   "cell_type": "code",
   "execution_count": 8,
   "metadata": {
    "collapsed": false,
    "scrolled": true
   },
   "outputs": [
    {
     "data": {
      "text/plain": [
       "list"
      ]
     },
     "execution_count": 8,
     "metadata": {},
     "output_type": "execute_result"
    }
   ],
   "source": [
    "type(X)"
   ]
  },
  {
   "cell_type": "markdown",
   "metadata": {},
   "source": [
    "Hoe zien de elementen van de lijst er uit?"
   ]
  },
  {
   "cell_type": "code",
   "execution_count": 9,
   "metadata": {
    "collapsed": false,
    "scrolled": false
   },
   "outputs": [
    {
     "name": "stdout",
     "output_type": "stream",
     "text": [
      "<class 'numpy.ndarray'>\n",
      "<class 'numpy.ndarray'>\n"
     ]
    }
   ],
   "source": [
    "print(type(X[-1]))\n",
    "print(type(X[-1][0]))"
   ]
  },
  {
   "cell_type": "markdown",
   "metadata": {},
   "source": [
    "Dus een lijst met Arrays met Arrays. Opbouw van de eerste array:"
   ]
  },
  {
   "cell_type": "code",
   "execution_count": 10,
   "metadata": {
    "collapsed": false,
    "scrolled": true
   },
   "outputs": [
    {
     "data": {
      "text/plain": [
       "array([[ -0.081722,   9.9565  ,  -0.23155 ],\n",
       "       [  1.2667  ,   8.6898  ,  -0.65378 ],\n",
       "       [  0.38137 ,   9.7249  ,  -0.88532 ],\n",
       "       [ -0.65378 ,  10.379   ,  -1.076   ],\n",
       "       [ -0.27241 ,   8.8124  ,   0.23155 ],\n",
       "       [  0.65378 ,   7.0145  ,   0.92618 ],\n",
       "       [  0.61292 ,   6.8238  ,   0.19068 ],\n",
       "       [ -0.14982 ,   7.5048  ,  -0.34051 ],\n",
       "       [ -0.14982 ,   8.0496  ,  -0.081722],\n",
       "       [  0.42223 ,   8.1177  ,   0.53119 ],\n",
       "       [  0.27241 ,   8.3084  ,   0.8036  ],\n",
       "       [ -0.38137 ,   8.7715  ,   0.95342 ],\n",
       "       [ -0.46309 ,   9.9973  ,   0.8036  ],\n",
       "       [  0.040861,  11.795   ,   0.8036  ],\n",
       "       [ -0.29965 ,  12.531   ,   1.9477  ],\n",
       "       [ -1.5255  ,  12.871   ,   2.7649  ],\n",
       "       [ -0.61292 ,  14.288   ,   1.6481  ],\n",
       "       [  0.92618 ,  12.599   ,   0.14982 ],\n",
       "       [  2.3427  ,   9.6568  ,  -0.29965 ],\n",
       "       [  4.1406  ,   8.3084  ,  -0.76274 ],\n",
       "       [  5.598   ,   8.3084  ,  -0.91256 ],\n",
       "       [  4.4811  ,   9.003   ,  -0.23155 ],\n",
       "       [  0.53119 ,   8.9213  ,   1.1441  ],\n",
       "       [ -1.757   ,   7.927   ,   1.9205  ],\n",
       "       [ -1.2258  ,   6.7012  ,   1.9886  ],\n",
       "       [ -0.38137 ,   6.4424  ,   1.3076  ],\n",
       "       [ -0.50395 ,   7.2733  ,   0.88532 ],\n",
       "       [ -0.46309 ,   7.8181  ,   1.3348  ],\n",
       "       [  0.57205 ,   8.0769  ,   2.261   ],\n",
       "       [  1.1169  ,   8.1177  ,   2.7922  ],\n",
       "       [  0.50395 ,   8.6625  ,   2.4925  ],\n",
       "       [  0.23155 ,   9.9565  ,   1.4165  ],\n",
       "       [  0.8036  ,  11.496   ,   0.84446 ],\n",
       "       [  1.2667  ,  11.877   ,   2.0703  ],\n",
       "       [  0.72188 ,  13.634   ,   2.6832  ],\n",
       "       [  0.42223 ,  14.71    ,   1.5391  ],\n",
       "       [  1.3348  ,  11.182   ,   0.46309 ],\n",
       "       [  2.4517  ,   8.3493  ,  -0.38137 ],\n",
       "       [  2.1793  ,   9.1529  ,  -1.5663  ],\n",
       "       [  0.23155 ,  11.032   ,  -2.1793  ],\n",
       "       [  0.27241 ,  10.42    ,  -0.95342 ],\n",
       "       [  1.0351  ,   7.9679  ,   1.4574  ],\n",
       "       [  0.92618 ,   6.6331  ,   1.9477  ],\n",
       "       [  0.46309 ,   6.5922  ,   0.95342 ],\n",
       "       [  0.46309 ,   6.8919  ,  -0.10896 ],\n",
       "       [  0.76274 ,   7.355   ,  -0.46309 ],\n",
       "       [  0.040861,   8.0769  ,   0.081722]])"
      ]
     },
     "execution_count": 10,
     "metadata": {},
     "output_type": "execute_result"
    }
   ],
   "source": [
    "X[0]"
   ]
  },
  {
   "cell_type": "markdown",
   "metadata": {},
   "source": [
    "De totale lengte van alle arrays bij elkaar opgeteld voor X-Train:"
   ]
  },
  {
   "cell_type": "code",
   "execution_count": 11,
   "metadata": {
    "collapsed": false,
    "scrolled": true
   },
   "outputs": [
    {
     "name": "stdout",
     "output_type": "stream",
     "text": [
      "112051\n"
     ]
    }
   ],
   "source": [
    "som=0\n",
    "for item in X:\n",
    "    som+=item.shape[0]\n",
    "print(som)"
   ]
  },
  {
   "cell_type": "code",
   "execution_count": 12,
   "metadata": {
    "collapsed": false,
    "scrolled": true
   },
   "outputs": [
    {
     "data": {
      "text/plain": [
       "108337"
      ]
     },
     "execution_count": 12,
     "metadata": {},
     "output_type": "execute_result"
    }
   ],
   "source": [
    "sum([(array.shape[0]-2) for array in X])"
   ]
  },
  {
   "cell_type": "code",
   "execution_count": 44,
   "metadata": {
    "collapsed": false
   },
   "outputs": [
    {
     "data": {
      "text/plain": [
       "(55, 3)"
      ]
     },
     "execution_count": 44,
     "metadata": {},
     "output_type": "execute_result"
    }
   ],
   "source": [
    "X_pred[625].shape"
   ]
  },
  {
   "cell_type": "markdown",
   "metadata": {},
   "source": [
    "Bovenstaande waarde is de lengte van de array die KMeans in moet na uitvoeren van sliding window met een window van 3x3."
   ]
  },
  {
   "cell_type": "markdown",
   "metadata": {},
   "source": [
    "### Conclusies over de dataset\n",
    "Er zijn 22 klasses (0 t/m 21).\n",
    "\n",
    "Trainingsdata bestaat uit een lijst met arrays met arrays. Deze hebben verschillende lengte, van 45 rijen tot en met 79 rijen, en 3 kolommen."
   ]
  },
  {
   "cell_type": "markdown",
   "metadata": {},
   "source": [
    "## Preprocessing data\n",
    "De dataset is zo niet bruikbaar om te leren. We gaan het sliding window principe toepassen om de individuele waarden om te zetten naar een bewegingspatroon. Ter visualisatie: je zou de punten kunnen zien als punten van een golfbeweging. Alleen is dit niet direct herkenkenbaar aan de punten. Met de sliding window breng je deze beweging in je dataset.\n",
    "\n",
    "Vervolgens discretiseer je deze beweging via Kmeans (alsof je een analoog signaal discretiseert met een ADC). Zo krijg je per \"beweging\" hetzelfde aantal metingen (de clusters). Alleen de frequentie van die metingen varieert."
   ]
  },
  {
   "cell_type": "code",
   "execution_count": 57,
   "metadata": {
    "collapsed": false
   },
   "outputs": [],
   "source": [
    "X_sw=sliding_window(X)"
   ]
  },
  {
   "cell_type": "code",
   "execution_count": 39,
   "metadata": {
    "collapsed": false
   },
   "outputs": [
    {
     "data": {
      "text/plain": [
       "(108337, 9)"
      ]
     },
     "execution_count": 39,
     "metadata": {},
     "output_type": "execute_result"
    }
   ],
   "source": [
    "X_sw.shape"
   ]
  },
  {
   "cell_type": "markdown",
   "metadata": {},
   "source": [
    "### Omzetten met Restricted Boltzman Machine\n"
   ]
  },
  {
   "cell_type": "code",
   "execution_count": 93,
   "metadata": {
    "collapsed": false
   },
   "outputs": [],
   "source": [
    " X_normalized = normalize(X_sw, norm='l2')"
   ]
  },
  {
   "cell_type": "code",
   "execution_count": 94,
   "metadata": {
    "collapsed": false
   },
   "outputs": [
    {
     "data": {
      "text/plain": [
       "array([[-0.00495294,  0.60343568, -0.0140336 , ...,  0.02311377,\n",
       "         0.58939905, -0.05365677],\n",
       "       [ 0.07538327,  0.51714343, -0.03890746, ..., -0.03890746,\n",
       "         0.61767033, -0.06403442],\n",
       "       [ 0.02268621,  0.57849635, -0.05266423, ..., -0.01620461,\n",
       "         0.52421528,  0.01377401],\n",
       "       ..., \n",
       "       [-0.03517507,  0.26185606,  0.47290533, ...,  0.00859807,\n",
       "         0.32751519,  0.48150226],\n",
       "       [-0.01328327,  0.34067232,  0.50084596, ..., -0.01328327,\n",
       "         0.30785281,  0.44615252],\n",
       "       [ 0.00884509,  0.33692469,  0.49533579, ..., -0.00643279,\n",
       "         0.32566612,  0.47282455]])"
      ]
     },
     "execution_count": 94,
     "metadata": {},
     "output_type": "execute_result"
    }
   ],
   "source": [
    "X_normalized"
   ]
  },
  {
   "cell_type": "code",
   "execution_count": 98,
   "metadata": {
    "collapsed": false
   },
   "outputs": [],
   "source": [
    "RBM = BernoulliRBM(n_components=1)\n"
   ]
  },
  {
   "cell_type": "code",
   "execution_count": 99,
   "metadata": {
    "collapsed": true
   },
   "outputs": [],
   "source": [
    "labels = RBM.fit_transform(X_normalized)\n"
   ]
  },
  {
   "cell_type": "code",
   "execution_count": 101,
   "metadata": {
    "collapsed": false
   },
   "outputs": [
    {
     "data": {
      "text/plain": [
       "array([  0.00000000e+000,   6.83462871e-309,   6.86627304e-309, ...,\n",
       "         1.00000000e+000,   1.00000000e+000,   1.00000000e+000])"
      ]
     },
     "execution_count": 101,
     "metadata": {},
     "output_type": "execute_result"
    }
   ],
   "source": [
    "np.unique(labels)"
   ]
  },
  {
   "cell_type": "markdown",
   "metadata": {},
   "source": [
    "Elke window een label geven en kijken wat het resultaat is."
   ]
  },
  {
   "cell_type": "code",
   "execution_count": 59,
   "metadata": {
    "collapsed": false
   },
   "outputs": [],
   "source": [
    "labels_sw = .fit_predict(X_sw)"
   ]
  },
  {
   "cell_type": "code",
   "execution_count": 60,
   "metadata": {
    "collapsed": false
   },
   "outputs": [
    {
     "data": {
      "text/plain": [
       "numpy.ndarray"
      ]
     },
     "execution_count": 60,
     "metadata": {},
     "output_type": "execute_result"
    }
   ],
   "source": [
    "type(labels_sw)"
   ]
  },
  {
   "cell_type": "code",
   "execution_count": 61,
   "metadata": {
    "collapsed": false,
    "scrolled": true
   },
   "outputs": [
    {
     "data": {
      "text/plain": [
       "(108337,)"
      ]
     },
     "execution_count": 61,
     "metadata": {},
     "output_type": "execute_result"
    }
   ],
   "source": [
    "labels_sw.shape"
   ]
  },
  {
   "cell_type": "code",
   "execution_count": 62,
   "metadata": {
    "collapsed": false,
    "scrolled": true
   },
   "outputs": [
    {
     "data": {
      "text/plain": [
       "57"
      ]
     },
     "execution_count": 62,
     "metadata": {},
     "output_type": "execute_result"
    }
   ],
   "source": [
    "noClusters = np.unique(labels_sw).shape[0]\n",
    "noClusters"
   ]
  },
  {
   "cell_type": "code",
   "execution_count": 63,
   "metadata": {
    "collapsed": false
   },
   "outputs": [
    {
     "data": {
      "text/plain": [
       "array([ 0,  1,  2,  3,  4,  5,  6,  7,  8,  9, 10, 11, 12, 13, 14, 15, 16,\n",
       "       17, 18, 19, 20, 21, 22, 23, 24, 25, 26, 27, 28, 29, 30, 31, 32, 33,\n",
       "       34, 35, 36, 37, 38, 39, 40, 41, 42, 43, 44, 45, 46, 47, 48, 49, 50,\n",
       "       51, 52, 53, 54, 55, 56], dtype=int64)"
      ]
     },
     "execution_count": 63,
     "metadata": {},
     "output_type": "execute_result"
    }
   ],
   "source": [
    "np.unique(labels_sw)"
   ]
  },
  {
   "cell_type": "markdown",
   "metadata": {},
   "source": [
    "Matrix maken per als rijen de fragmenten uit de trainingsdata (1857 rijen) en als kolommen de clusters. De waarden van de labels komen dus overeen met de kolompositie. Hier kan je gebruik van maken van het optellen van hoe vaak een cluster voorkomt bij een fragment.\n",
    "\n",
    "Door van hetzelfde opdelingsprincipe gebruik te maken als bij het maken van de sliding window komen de juiste labels bij het juiste fragment terecht. De teller gaat hierdoor van 0 tot en met 108337."
   ]
  },
  {
   "cell_type": "code",
   "execution_count": 64,
   "metadata": {
    "collapsed": false
   },
   "outputs": [],
   "source": [
    "xtc=discretiminator(X,noClusters,labels_sw)"
   ]
  },
  {
   "cell_type": "code",
   "execution_count": 65,
   "metadata": {
    "collapsed": false
   },
   "outputs": [
    {
     "data": {
      "text/plain": [
       "(1857, 57)"
      ]
     },
     "execution_count": 65,
     "metadata": {},
     "output_type": "execute_result"
    }
   ],
   "source": [
    "xtc.shape"
   ]
  },
  {
   "cell_type": "code",
   "execution_count": 66,
   "metadata": {
    "collapsed": false,
    "scrolled": false
   },
   "outputs": [
    {
     "data": {
      "text/plain": [
       "array([[ 45.,   0.,   0., ...,   0.,   0.,   0.],\n",
       "       [ 71.,   0.,   0., ...,   0.,   0.,   0.],\n",
       "       [ 71.,   0.,   0., ...,   2.,   0.,   0.],\n",
       "       ..., \n",
       "       [ 43.,   0.,   0., ...,   0.,   0.,   0.],\n",
       "       [ 45.,   0.,   0., ...,   0.,   0.,   0.],\n",
       "       [ 24.,   0.,   0., ...,   0.,   0.,   0.]])"
      ]
     },
     "execution_count": 66,
     "metadata": {},
     "output_type": "execute_result"
    }
   ],
   "source": [
    "xtc[:]"
   ]
  },
  {
   "cell_type": "markdown",
   "metadata": {},
   "source": [
    "### Preprocessing van de  data waar de ML over moet voorspellen."
   ]
  },
  {
   "cell_type": "code",
   "execution_count": 67,
   "metadata": {
    "collapsed": true
   },
   "outputs": [],
   "source": [
    "X_pred_sw=sliding_window(X_pred)"
   ]
  },
  {
   "cell_type": "code",
   "execution_count": 68,
   "metadata": {
    "collapsed": false
   },
   "outputs": [],
   "source": [
    "X_pred_labels = ms.fit_predict(X_pred_sw)"
   ]
  },
  {
   "cell_type": "code",
   "execution_count": 69,
   "metadata": {
    "collapsed": true
   },
   "outputs": [],
   "source": [
    "X_pred_c=discretiminator(X_pred,noClusters,X_pred_labels)"
   ]
  },
  {
   "cell_type": "code",
   "execution_count": 70,
   "metadata": {
    "collapsed": false
   },
   "outputs": [
    {
     "data": {
      "text/plain": [
       "array([[ 68.,   0.,   0., ...,   0.,   0.,   0.],\n",
       "       [ 47.,   0.,   0., ...,   0.,   0.,   0.],\n",
       "       [ 48.,   0.,   0., ...,   0.,   0.,   0.],\n",
       "       ..., \n",
       "       [ 46.,   0.,   0., ...,   0.,   0.,   0.],\n",
       "       [ 62.,   0.,   0., ...,   0.,   0.,   0.],\n",
       "       [ 48.,   0.,   0., ...,   0.,   0.,   0.]])"
      ]
     },
     "execution_count": 70,
     "metadata": {},
     "output_type": "execute_result"
    }
   ],
   "source": [
    "X_pred_c[:]"
   ]
  },
  {
   "cell_type": "code",
   "execution_count": 71,
   "metadata": {
    "collapsed": false
   },
   "outputs": [
    {
     "data": {
      "text/plain": [
       "(626, 57)"
      ]
     },
     "execution_count": 71,
     "metadata": {},
     "output_type": "execute_result"
    }
   ],
   "source": [
    "X_pred_c.shape"
   ]
  },
  {
   "cell_type": "markdown",
   "metadata": {},
   "source": [
    "## Learning algoritme\n",
    "We proberen SVM en Naive Bayes als learning algoritme om de voorspelling te doen welke data bij welke wandelaar hoort."
   ]
  },
  {
   "cell_type": "code",
   "execution_count": 72,
   "metadata": {
    "collapsed": false
   },
   "outputs": [],
   "source": [
    "# initialize parameters\n",
    "c_params = [0.01, 0.03, 0.1, 0.3, 1, 3]\n",
    "kernel_params = ['linear', 'rbf']\n",
    "parameters = {'kernel':kernel_params, 'C':c_params}\n",
    "\n",
    "# perform cross validation grid search\n",
    "clfSVM = GridSearchCV(SVC(), parameters, cv=5).fit(xtc, y)"
   ]
  },
  {
   "cell_type": "code",
   "execution_count": 73,
   "metadata": {
    "collapsed": false
   },
   "outputs": [
    {
     "data": {
      "text/plain": [
       "({'C': 1, 'kernel': 'linear'}, 0.30963920301561659)"
      ]
     },
     "execution_count": 73,
     "metadata": {},
     "output_type": "execute_result"
    }
   ],
   "source": [
    "clfSVM.best_params_, clfSVM.best_score_"
   ]
  },
  {
   "cell_type": "code",
   "execution_count": 35,
   "metadata": {
    "collapsed": false,
    "scrolled": false
   },
   "outputs": [
    {
     "data": {
      "image/png": "[encoded data removed]",
      "text/plain": [
       "<matplotlib.figure.Figure at 0xa1f55f8>"
      ]
     },
     "metadata": {},
     "output_type": "display_data"
    }
   ],
   "source": [
    "scores = clfSVM.cv_results_['mean_test_score'].reshape(len(c_params), len(kernel_params))\n",
    "sns.heatmap(scores, center=0.4, yticklabels=c_params, xticklabels=kernel_params, annot=True);"
   ]
  },
  {
   "cell_type": "markdown",
   "metadata": {},
   "source": [
    "Score SVM op trainingsdata is bij k=30 is 0.72. Bij k=20 was SVM score 0.68. Meer clusters geeft hogere score.\n",
    "\n",
    "Eens kijken wat Naive Bayes doet. "
   ]
  },
  {
   "cell_type": "code",
   "execution_count": 74,
   "metadata": {
    "collapsed": true
   },
   "outputs": [],
   "source": [
    "# initialize parameters\n",
    "alpha_params = [0.1, 0.3, 0.5, 0.7, 1.0]\n",
    "\n",
    "parameters = {'alpha':alpha_params}\n",
    "\n",
    "# perform cross validation grid search\n",
    "clfNB = GridSearchCV(MultinomialNB(), parameters, cv=5).fit(xtc,y)"
   ]
  },
  {
   "cell_type": "code",
   "execution_count": 75,
   "metadata": {
    "collapsed": false,
    "scrolled": false
   },
   "outputs": [
    {
     "data": {
      "image/png": "[encoded data removed]",
      "text/plain": [
       "<matplotlib.figure.Figure at 0xab5e470>"
      ]
     },
     "metadata": {},
     "output_type": "display_data"
    }
   ],
   "source": [
    "scores = clfNB.cv_results_['mean_test_score'].reshape(len(alpha_params),1)\n",
    "sns.heatmap(scores, center=0.51, yticklabels=alpha_params, xticklabels='', annot=True);"
   ]
  },
  {
   "cell_type": "code",
   "execution_count": 76,
   "metadata": {
    "collapsed": false,
    "scrolled": true
   },
   "outputs": [
    {
     "data": {
      "text/plain": [
       "({'alpha': 0.7}, 0.25578890683898764)"
      ]
     },
     "execution_count": 76,
     "metadata": {},
     "output_type": "execute_result"
    }
   ],
   "source": [
    "clfNB.best_params_, clfNB.best_score_"
   ]
  },
  {
   "cell_type": "markdown",
   "metadata": {},
   "source": [
    "Naive Bayes doet het slechter dan SVM. We proberen een decision tree."
   ]
  },
  {
   "cell_type": "code",
   "execution_count": 77,
   "metadata": {
    "collapsed": false
   },
   "outputs": [],
   "source": [
    "mlp = MLPClassifier(solver='lbfgs', \n",
    "                    activation='logistic',\n",
    "                    momentum=0.2,\n",
    "                    tol=0.00001)"
   ]
  },
  {
   "cell_type": "code",
   "execution_count": 79,
   "metadata": {
    "collapsed": false
   },
   "outputs": [],
   "source": [
    "hiddenunits_params = [(1),(3),(10),(20),(30), (50), (100)]\n",
    "learningrate_params = [0.01, 0.05, 0.1, 0.5, 1.0] \n",
    "parameters = {'hidden_layer_sizes':hiddenunits_params, 'learning_rate_init':learningrate_params}\n",
    "\n",
    "clfMLP = GridSearchCV(mlp, parameters, cv=3).fit(xtc, y)"
   ]
  },
  {
   "cell_type": "code",
   "execution_count": 80,
   "metadata": {
    "collapsed": false,
    "scrolled": true
   },
   "outputs": [
    {
     "data": {
      "image/png": "[encoded data removed]",
      "text/plain": [
       "<matplotlib.figure.Figure at 0xa213390>"
      ]
     },
     "metadata": {},
     "output_type": "display_data"
    }
   ],
   "source": [
    "scores = clfMLP.cv_results_['mean_test_score'].reshape(len(hiddenunits_params), len(learningrate_params))\n",
    "sns.heatmap(scores, center=0.4, yticklabels=hiddenunits_params, xticklabels=learningrate_params, annot=True);"
   ]
  },
  {
   "cell_type": "code",
   "execution_count": 81,
   "metadata": {
    "collapsed": false,
    "scrolled": true
   },
   "outputs": [
    {
     "data": {
      "text/plain": [
       "({'hidden_layer_sizes': 100, 'learning_rate_init': 0.1}, 0.31771674744211093)"
      ]
     },
     "execution_count": 81,
     "metadata": {},
     "output_type": "execute_result"
    }
   ],
   "source": [
    "clfMLP.best_params_, clfMLP.best_score_"
   ]
  },
  {
   "cell_type": "markdown",
   "metadata": {},
   "source": [
    "Ook de multilayer classifier werkt niet beter als SVM. Als laatste een decision tree."
   ]
  },
  {
   "cell_type": "code",
   "execution_count": 82,
   "metadata": {
    "collapsed": false
   },
   "outputs": [],
   "source": [
    "tree = DecisionTreeClassifier()"
   ]
  },
  {
   "cell_type": "code",
   "execution_count": 84,
   "metadata": {
    "collapsed": false
   },
   "outputs": [],
   "source": [
    "criterion_params = ['gini','entropy']\n",
    "max_features_params = ['auto','sqrt','log2'] \n",
    "parameters = {'criterion':criterion_params, 'max_features':max_features_params}\n",
    "\n",
    "clfTREE = GridSearchCV(tree, parameters, cv=3).fit(xtc, y)"
   ]
  },
  {
   "cell_type": "code",
   "execution_count": 85,
   "metadata": {
    "collapsed": false
   },
   "outputs": [
    {
     "data": {
      "image/png": "[encoded data removed]",
      "text/plain": [
       "<matplotlib.figure.Figure at 0xa22fcc0>"
      ]
     },
     "metadata": {},
     "output_type": "display_data"
    }
   ],
   "source": [
    "scores = clfTREE.cv_results_['mean_test_score'].reshape(len(criterion_params), len(max_features_params))\n",
    "sns.heatmap(scores, center=0.4, yticklabels=criterion_params, xticklabels=max_features_params, annot=True);"
   ]
  },
  {
   "cell_type": "markdown",
   "metadata": {},
   "source": [
    "## De uiteindelijke voorspelling\n",
    "\n",
    "SVM geeft het beste resultaat. Dus we gebruiken die om de voorspelling te doen."
   ]
  },
  {
   "cell_type": "code",
   "execution_count": 39,
   "metadata": {
    "collapsed": false
   },
   "outputs": [],
   "source": [
    "y_predSVM = clfSVM.predict(X_pred_c)"
   ]
  },
  {
   "cell_type": "code",
   "execution_count": 41,
   "metadata": {
    "collapsed": false
   },
   "outputs": [
    {
     "data": {
      "text/plain": [
       "array([ 19.,   8.,  19.,  16.,  16.,   1.,  17.,  21.,  16.,   8.,  21.,\n",
       "        19.,  17.,  17.,  16.,  19.,  16.,   1.,   1.,  16.,  13.,  17.,\n",
       "        13.,  16.,  10.,  16.,  19.,  17.,  19.,  17.,  16.,  16.,  16.,\n",
       "        16.,  19.,  21.,  21.,  16.,  21.,  17.,  17.,   8.,  16.,   9.,\n",
       "        17.,   6.,  16.,   3.,  16.,  19.,  16.,  17.,  17.,   9.,   3.,\n",
       "        21.,  21.,  19.,  16.,   1.,  16.,   7.,  17.,   5.,   5.,  16.,\n",
       "        17.,  17.,  13.,  13.,   5.,  16.,  12.,  16.,  12.,   2.,  19.,\n",
       "        21.,  17.,  16.,  20.,  16.,  16.,  16.,  16.,  17.,  11.,  19.,\n",
       "         8.,  13.,   4.,  13.,  16.,  16.,  15.,   3.,  17.,   3.,  13.,\n",
       "         5.,  16.,  19.,  17.,  16.,  17.,  16.,  17.,  16.,  17.,  17.,\n",
       "        11.,  11.,  13.,  17.,  16.,  17.,  17.,  17.,  11.,  20.,  16.,\n",
       "        19.,  14.,  14.,  17.,   5.,   1.,   8.,  19.,  17.,   6.,  17.,\n",
       "        18.,  16.,  19.,  13.,   3.,  14.,  13.,  17.,   0.,   0.,  19.,\n",
       "        15.,  16.,  19.,   8.,  19.,   5.,  14.,  16.,  16.,  16.,   9.,\n",
       "        16.,  21.,  16.,   7.,  17.,  16.,  16.,   3.,  16.,   8.,  10.,\n",
       "        14.,  13.,  16.,  19.,  19.,  17.,  12.,  16.,   8.,  11.,   8.,\n",
       "        19.,  16.,  17.,  12.,   0.,  17.,  19.,  16.,  20.,  16.,  14.,\n",
       "        21.,  13.,  13.,   0.,  16.,  17.,  21.,  15.,   3.,  17.,  16.,\n",
       "        19.,   8.,  16.,  16.,  12.,  19.,  16.,  17.,  17.,  21.,   8.,\n",
       "         0.,  19.,  16.,  16.,   1.,  20.,  16.,   3.,   7.,  16.,  20.,\n",
       "        19.,  19.,   5.,  10.,  21.,   1.,  17.,  19.,  16.,  11.,   7.,\n",
       "        16.,   8.,   8.,  16.,  16.,  19.,  19.,  19.,  17.,  13.,  17.,\n",
       "        16.,  17.,  17.,  16.,   1.,   1.,  21.,  16.,  19.,  19.,  14.,\n",
       "        16.,   1.,   1.,  21.,  16.,  16.,  17.,  17.,  16.,   3.,  17.,\n",
       "        17.,  17.,   3.,  16.,  17.,   6.,  17.,  17.,   0.,  16.,  16.,\n",
       "        17.,  13.,  19.,  16.,  12.,  17.,  19.,  19.,  17.,   5.,   8.,\n",
       "        21.,  17.,  17.,  20.,  17.,   9.,  10.,  17.,  16.,  11.,  16.,\n",
       "        19.,  16.,  16.,   5.,  14.,  19.,  17.,  15.,  16.,   0.,  17.,\n",
       "        16.,  16.,   9.,  16.,  12.,  19.,  17.,  17.,  14.,   8.,  16.,\n",
       "        19.,  14.,  13.,  13.,   3.,   1.,  16.,  12.,  12.,  19.,  19.,\n",
       "         8.,  19.,   5.,  21.,  16.,  16.,  16.,  13.,   5.,  16.,   8.,\n",
       "        19.,  17.,   6.,  17.,  10.,  16.,  13.,  17.,  17.,   9.,  17.,\n",
       "         8.,  13.,  21.,  16.,  16.,  17.,  12.,  17.,  17.,  17.,  12.,\n",
       "        17.,  10.,  16.,  11.,   1.,   7.,  17.,   8.,  13.,   8.,  19.,\n",
       "        16.,   3.,  16.,  19.,  16.,   3.,   1.,  16.,  17.,  17.,  14.,\n",
       "        17.,  16.,  17.,  17.,   5.,  10.,  17.,  10.,  13.,   1.,  16.,\n",
       "        15.,  12.,   5.,  15.,  13.,  13.,  17.,  21.,  17.,  21.,  17.,\n",
       "        17.,   1.,   2.,  21.,  17.,  16.,  17.,  17.,  16.,  16.,  17.,\n",
       "        17.,  21.,  14.,  17.,  21.,  14.,  17.,  17.,  19.,   8.,  20.,\n",
       "        12.,   6.,  13.,  12.,  11.,  16.,  16.,  19.,  21.,   0.,   0.,\n",
       "        13.,  13.,  13.,  13.,  17.,  17.,  16.,  13.,  10.,  13.,   9.,\n",
       "         3.,  21.,  17.,  13.,  16.,  10.,  16.,  16.,   1.,  14.,  11.,\n",
       "        16.,   6.,   0.,  19.,  16.,   9.,  16.,  12.,  11.,  16.,  12.,\n",
       "        12.,  21.,   7.,   1.,   8.,  16.,  16.,  21.,   7.,  17.,   8.,\n",
       "        16.,  17.,  16.,  16.,  16.,  16.,  16.,  17.,  17.,   8.,  16.,\n",
       "        16.,  16.,  16.,  10.,   9.,  17.,  17.,  11.,  11.,  12.,  14.,\n",
       "        17.,  17.,  17.,  16.,  17.,  16.,  12.,  16.,  16.,  10.,   6.,\n",
       "         5.,  19.,   6.,   4.,  19.,  14.,  17.,   5.,  17.,   3.,  16.,\n",
       "        19.,  19.,  17.,   4.,   7.,  16.,   6.,   0.,  13.,   5.,  16.,\n",
       "        19.,  16.,  16.,  14.,  17.,  16.,  19.,  19.,  13.,  10.,  19.,\n",
       "        13.,   7.,  17.,  17.,  14.,  21.,  17.,   5.,  16.,  17.,  16.,\n",
       "        11.,  16.,  10.,  16.,  13.,   3.,  17.,  17.,  17.,  17.,  17.,\n",
       "        16.,  16.,  11.,  19.,  19.,  16.,  16.,  13.,   0.,   2.,  19.,\n",
       "        19.,  16.,   0.,  17.,  11.,   5.,  14.,   8.,  19.,   8.,  16.,\n",
       "         6.,   8.,  14.,   1.,  17.,  16.,  16.,  16.,  17.,  17.,  12.,\n",
       "        13.,  21.,  21.,  17.,  17.,  12.,  14.,  13.,  13.,  16.,   6.,\n",
       "        17.,  16.,  12.,  16.,  13.,  14.,  17.,  19.,  11.,  13.])"
      ]
     },
     "execution_count": 41,
     "metadata": {},
     "output_type": "execute_result"
    }
   ],
   "source": [
    "y_predSVM"
   ]
  }
 ],
 "metadata": {
  "kernelspec": {
   "display_name": "Python 3",
   "language": "python",
   "name": "python3"
  },
  "language_info": {
   "codemirror_mode": {
    "name": "ipython",
    "version": 3
   },
   "file_extension": ".py",
   "mimetype": "text/x-python",
   "name": "python",
   "nbconvert_exporter": "python",
   "pygments_lexer": "ipython3",
   "version": "3.5.2"
  }
 },
 "nbformat": 4,
 "nbformat_minor": 1
}
