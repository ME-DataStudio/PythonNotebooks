{
 "cells": [
  {
   "cell_type": "markdown",
   "metadata": {},
   "source": [
    "# Support Vector Machine\n",
    "\n",
    "In deze opdracht ga je Support Vector classificatie toepassen om de afbeeldingen uit de digits dataset te herkennen. Door middel van een cross validated grid search moeten de juiste parameters voor de SVM gezocht worden."
   ]
  },
  {
   "cell_type": "code",
   "execution_count": 1,
   "metadata": {
    "collapsed": false
   },
   "outputs": [],
   "source": [
    "# misc data processing imports\n",
    "import matplotlib.pyplot as plt\n",
    "%matplotlib inline\n",
    "import numpy as np\n",
    "import seaborn as sns\n",
    "\n",
    "# dataset\n",
    "from sklearn.datasets import load_digits\n",
    "\n",
    "# classifier & testing\n",
    "from sklearn.svm import SVC\n",
    "from sklearn.model_selection import train_test_split, GridSearchCV\n",
    "from sklearn.metrics import f1_score"
   ]
  },
  {
   "cell_type": "markdown",
   "metadata": {},
   "source": [
    "## 1. Data laden\n",
    "\n",
    "* Laad de digits dataset die ook tijdens het Nearest Centroid practicum gebruikt is.\n",
    "* Schaal de features tussen 0 en 1.\n",
    "* Verdeel de data in een train set (80%) en test set (20%)."
   ]
  },
  {
   "cell_type": "code",
   "execution_count": 2,
   "metadata": {
    "collapsed": false
   },
   "outputs": [],
   "source": [
    "data = load_digits()\n",
    "\n",
    "X = data.data / np.max(data.data)\n",
    "y = data.target\n",
    "\n",
    "X_train, X_test, y_train, y_test = train_test_split(X, y, test_size=0.2, random_state=0)"
   ]
  },
  {
   "cell_type": "markdown",
   "metadata": {},
   "source": [
    "## 2. SVM trainen\n",
    "\n",
    "  * Voer een 5-fold cross validated grid search met een Support Vector Classifier uit, om de optimale waarden te vinden voor het type kernel ('linear' of 'rbf') en de penalty parameter 'C'.  \n",
    "  Zie: http://scikit-learn.org/stable/modules/generated/sklearn.model_selection.GridSearchCV.html"
   ]
  },
  {
   "cell_type": "code",
   "execution_count": 3,
   "metadata": {
    "collapsed": false
   },
   "outputs": [],
   "source": [
    "# initialize parameters\n",
    "c_params = [0.01, 0.03, 0.1, 0.3, 1, 3]\n",
    "kernel_params = ['linear', 'rbf']\n",
    "parameters = {'kernel':kernel_params, 'C':c_params}\n",
    "\n",
    "# perform cross validation grid search\n",
    "clf = GridSearchCV(SVC(), parameters, cv=5).fit(X_train, y_train)"
   ]
  },
  {
   "cell_type": "markdown",
   "metadata": {},
   "source": [
    "  * Plot de gemiddelde test scores per parameter setting in een heatmap.  \n",
    "Zie: https://seaborn.github.io/generated/seaborn.heatmap.html#seaborn.heatmap"
   ]
  },
  {
   "cell_type": "code",
   "execution_count": 4,
   "metadata": {
    "collapsed": false
   },
   "outputs": [
    {
     "data": {
      "image/png": "[encoded data removed]",
      "text/plain": [
       "<matplotlib.figure.Figure at 0x36e3e48>"
      ]
     },
     "metadata": {},
     "output_type": "display_data"
    }
   ],
   "source": [
    "scores = clf.cv_results_['mean_test_score'].reshape(len(c_params), len(kernel_params))\n",
    "sns.heatmap(scores, center=0.4, yticklabels=c_params, xticklabels=kernel_params, annot=True);"
   ]
  },
  {
   "cell_type": "markdown",
   "metadata": {},
   "source": [
    "  * Print de beste parameter settings en de bijbehorende score."
   ]
  },
  {
   "cell_type": "code",
   "execution_count": 5,
   "metadata": {
    "collapsed": false
   },
   "outputs": [
    {
     "data": {
      "text/plain": [
       "({'C': 3, 'kernel': 'linear'}, 0.98260264439805145)"
      ]
     },
     "execution_count": 5,
     "metadata": {},
     "output_type": "execute_result"
    }
   ],
   "source": [
    "clf.best_params_, clf.best_score_"
   ]
  },
  {
   "cell_type": "markdown",
   "metadata": {},
   "source": [
    "## 3. SVM testen\n",
    "\n",
    "  * Classificeer de test data aan de hand van de best scorende SVM-parameter settings."
   ]
  },
  {
   "cell_type": "code",
   "execution_count": 6,
   "metadata": {
    "collapsed": false
   },
   "outputs": [],
   "source": [
    "y_pred = clf.predict(X_test)"
   ]
  },
  {
   "cell_type": "markdown",
   "metadata": {},
   "source": [
    "* Bereken per digit de error tussen de voorspelde waarden en de targets door middel van (1 - F1 score)"
   ]
  },
  {
   "cell_type": "code",
   "execution_count": 8,
   "metadata": {
    "collapsed": false
   },
   "outputs": [
    {
     "data": {
      "text/plain": [
       "array([ 0.        ,  0.04225352,  0.01369863,  0.01694915,  0.01639344,\n",
       "        0.025     ,  0.01149425,  0.01298701,  0.03896104,  0.03703704])"
      ]
     },
     "execution_count": 8,
     "metadata": {},
     "output_type": "execute_result"
    }
   ],
   "source": [
    "errors = 1 - f1_score(y_test, y_pred, average=None)\n",
    "errors"
   ]
  },
  {
   "cell_type": "markdown",
   "metadata": {},
   "source": [
    "  * Plot de errors per target in een histogram plot.\n",
    "  * Vergelijk het historgram met de scores van de nearest-centroid methode."
   ]
  },
  {
   "cell_type": "code",
   "execution_count": 8,
   "metadata": {
    "collapsed": false
   },
   "outputs": [
    {
     "data": {
      "image/png": "[encoded data removed]",
      "text/plain": [
       "<matplotlib.figure.Figure at 0x7f8dae6dc358>"
      ]
     },
     "metadata": {},
     "output_type": "display_data"
    }
   ],
   "source": [
    "plt.figure(figsize=(6,4))\n",
    "\n",
    "# plot f1 scores as bars\n",
    "positions = np.arange(10)-0.45\n",
    "plt.bar(positions, errors, color='k', alpha=0.5)\n",
    "\n",
    "# limit range of axes\n",
    "axes = plt.gca()\n",
    "axes.set_xlim([-0.6, 9.5])\n",
    "axes.set_ylim([0, 0.25])\n",
    "\n",
    "# label each digit on x-axis\n",
    "plt.xticks(np.arange(0, 10, 1.0))\n",
    "\n",
    "# set axes labels\n",
    "plt.xlabel('Digit')\n",
    "plt.ylabel('F1 score')\n",
    "\n",
    "# show plot\n",
    "plt.show()"
   ]
  }
 ],
 "metadata": {
  "kernelspec": {
   "display_name": "Python 3",
   "language": "python",
   "name": "python3"
  },
  "language_info": {
   "codemirror_mode": {
    "name": "ipython",
    "version": 3
   },
   "file_extension": ".py",
   "mimetype": "text/x-python",
   "name": "python",
   "nbconvert_exporter": "python",
   "pygments_lexer": "ipython3",
   "version": "3.5.2"
  }
 },
 "nbformat": 4,
 "nbformat_minor": 1
}
