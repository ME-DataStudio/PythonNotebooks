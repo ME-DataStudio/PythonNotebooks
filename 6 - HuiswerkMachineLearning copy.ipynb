{
 "cells": [
  {
   "cell_type": "markdown",
   "metadata": {},
   "source": [
    "# Machine learning Wandelaars\n"
   ]
  },
  {
   "cell_type": "markdown",
   "metadata": {},
   "source": [
    "## Packages installeren"
   ]
  },
  {
   "cell_type": "code",
   "execution_count": 1,
   "metadata": {
    "collapsed": true
   },
   "outputs": [],
   "source": [
    "import pickle\n",
    "import numpy as np\n",
    "from mpl_toolkits.mplot3d import Axes3D\n",
    "from matplotlib import colors\n",
    "import matplotlib.pyplot as plt\n",
    "%matplotlib inline\n",
    "import seaborn as sns\n",
    "import json\n",
    "\n",
    "#Kmeans voor preprocessing\n",
    "from sklearn.linear_model import LinearRegression\n",
    "\n",
    "# classifiers & testing\n",
    "from sklearn.svm import SVC\n",
    "from sklearn.naive_bayes import MultinomialNB\n",
    "from sklearn.neural_network import MLPClassifier\n",
    "from sklearn.tree import DecisionTreeClassifier\n",
    "from sklearn.model_selection import train_test_split, GridSearchCV\n",
    "from sklearn.metrics import f1_score"
   ]
  },
  {
   "cell_type": "markdown",
   "metadata": {},
   "source": [
    "## Functie definities"
   ]
  },
  {
   "cell_type": "code",
   "execution_count": 2,
   "metadata": {
    "collapsed": false
   },
   "outputs": [],
   "source": [
    "def sliding_window(DataSet):\n",
    "    \"\"\"\n",
    "    Maak van een dataset een patroon via het sliding window principe:\n",
    "    \n",
    "    Voor elke array in de data set:\n",
    "      - bepaal de lengte van de array. Het aantal windows is gelijk aan de lengte van de array -2\n",
    "        (anders loopt de window over het einde van de array met fout melding als gevolg)\n",
    "      - vul een window van 3x3 en maak hier een vector van (sla het window plat met hstack).\n",
    "      - schrijf deze vector weg in de nieuwe dataset\n",
    "    Schrijf elke nieuwe array weg in de nieuwe dataset\n",
    "\n",
    "\n",
    "    In: Dataset opgebouwd uit een array van arrays\n",
    "\n",
    "    Out: Dataset bestaande uit een array met vectoren.\n",
    "    \"\"\"\n",
    "\n",
    "    DataOut=[]\n",
    "    for InArray in DataSet:\n",
    "        lengteArray = InArray.shape[0]\n",
    "        for regelNr in range(lengteArray-2):\n",
    "            window = (np.hstack((InArray[regelNr],InArray[regelNr+1],InArray[regelNr+2])).tolist())\n",
    "            DataOut.append(window)\n",
    "    return np.array(DataOut)\n",
    "\n",
    "def discretiminator(Dataset,noClusters,Labels):\n",
    "    \"\"\"\n",
    "    Maak van een dataset, aantal clusters en labels een matrix in de vorm van\n",
    "    lengte dataset x aantal clusters.\n",
    "    \n",
    "    Tel vervolgens hoe vaak een aantal clusters per rij voorkomt door 1 op te tellen \n",
    "    bij de index die overeenkomt met het cluster (dus als het label de waarde 0 heeft \n",
    "    moet er 1 opgeteld worden bij kolom 0. Dus het cluster zelf bepaald bij \n",
    "    welke kolom er een wordt opgeteld. Als de lengte van een array uit X_train afgelopen \n",
    "    is wordt een volgende rij gemaakt\n",
    "\n",
    "    In: \n",
    "    - Dataset opgebouwd uit een array van arrays. Voor deze case is dit X_train\n",
    "    - noClusters clusters die in de KMeans is gebruikt en bepaald aantal kolommen van de DataOut\n",
    "    - Labels bepaald met KMeans\n",
    "\n",
    "    Out: Dataset bestaande uit een array met vectoren.\n",
    "    \"\"\"\n",
    "\n",
    "    DataOut=np.zeros((len(Dataset),noClusters))\n",
    "    teller = 0\n",
    "    for idx,array in enumerate(Dataset):\n",
    "        for i in range(array.shape[0]-2):\n",
    "            DataOut[idx,Labels[teller]]+=1\n",
    "            teller+=1\n",
    "    return(DataOut)"
   ]
  },
  {
   "cell_type": "markdown",
   "metadata": {},
   "source": [
    "## Data inlezen\n",
    "Data inlezen. Trainingsdata in data (X) en klasse/label (y). Data welke voorspelt moet worden in X_pred.\n",
    "\n",
    "En kijken waar het uit bestaat en hoe het is opgebouwd."
   ]
  },
  {
   "cell_type": "code",
   "execution_count": 3,
   "metadata": {
    "collapsed": false
   },
   "outputs": [],
   "source": [
    "X, y = pickle.load(open(\"train_X_y.p\", \"rb\"))\n",
    "X_pred = pickle.load(open('test_X.p', 'rb'))"
   ]
  },
  {
   "cell_type": "code",
   "execution_count": null,
   "metadata": {
    "collapsed": true
   },
   "outputs": [],
   "source": []
  },
  {
   "cell_type": "markdown",
   "metadata": {},
   "source": [
    "Lengte?"
   ]
  },
  {
   "cell_type": "code",
   "execution_count": 4,
   "metadata": {
    "collapsed": false
   },
   "outputs": [
    {
     "data": {
      "text/plain": [
       "(1857, 1857, 626)"
      ]
     },
     "execution_count": 4,
     "metadata": {},
     "output_type": "execute_result"
    }
   ],
   "source": [
    "len(X), len(y), len(X_pred)"
   ]
  },
  {
   "cell_type": "markdown",
   "metadata": {},
   "source": [
    "Welke klassen/labels zijn er?"
   ]
  },
  {
   "cell_type": "code",
   "execution_count": 5,
   "metadata": {
    "collapsed": false,
    "scrolled": true
   },
   "outputs": [
    {
     "data": {
      "text/plain": [
       "array([  0.,   1.,   2.,   3.,   4.,   5.,   6.,   7.,   8.,   9.,  10.,\n",
       "        11.,  12.,  13.,  14.,  15.,  16.,  17.,  18.,  19.,  20.,  21.])"
      ]
     },
     "execution_count": 5,
     "metadata": {},
     "output_type": "execute_result"
    }
   ],
   "source": [
    "np.unique(y)"
   ]
  },
  {
   "cell_type": "markdown",
   "metadata": {},
   "source": [
    "Hoe vaak komen deze klassen/labels voor?"
   ]
  },
  {
   "cell_type": "code",
   "execution_count": 6,
   "metadata": {
    "collapsed": false,
    "scrolled": true
   },
   "outputs": [
    {
     "data": {
      "text/plain": [
       "array([ 63,  48,  15,  90,  13,  60,  46,  43, 100,  39,  70,  60,  83,\n",
       "       149,  45,  21, 276, 258,  12, 207,  38, 121], dtype=int64)"
      ]
     },
     "execution_count": 6,
     "metadata": {},
     "output_type": "execute_result"
    }
   ],
   "source": [
    "np.bincount(y)"
   ]
  },
  {
   "cell_type": "markdown",
   "metadata": {},
   "source": [
    "Wat is het type van de data?"
   ]
  },
  {
   "cell_type": "code",
   "execution_count": 7,
   "metadata": {
    "collapsed": false,
    "scrolled": true
   },
   "outputs": [
    {
     "data": {
      "text/plain": [
       "list"
      ]
     },
     "execution_count": 7,
     "metadata": {},
     "output_type": "execute_result"
    }
   ],
   "source": [
    "type(X)"
   ]
  },
  {
   "cell_type": "markdown",
   "metadata": {},
   "source": [
    "Hoe zien de elementen van de lijst er uit?"
   ]
  },
  {
   "cell_type": "code",
   "execution_count": 8,
   "metadata": {
    "collapsed": false,
    "scrolled": false
   },
   "outputs": [
    {
     "name": "stdout",
     "output_type": "stream",
     "text": [
      "<class 'numpy.ndarray'>\n",
      "<class 'numpy.ndarray'>\n"
     ]
    }
   ],
   "source": [
    "print(type(X[-1]))\n",
    "print(type(X[-1][0]))"
   ]
  },
  {
   "cell_type": "markdown",
   "metadata": {},
   "source": [
    "Dus een lijst met Arrays met Arrays. Opbouw van de eerste array:"
   ]
  },
  {
   "cell_type": "code",
   "execution_count": 9,
   "metadata": {
    "collapsed": false,
    "scrolled": true
   },
   "outputs": [
    {
     "data": {
      "text/plain": [
       "array([[ -0.081722,   9.9565  ,  -0.23155 ],\n",
       "       [  1.2667  ,   8.6898  ,  -0.65378 ],\n",
       "       [  0.38137 ,   9.7249  ,  -0.88532 ],\n",
       "       [ -0.65378 ,  10.379   ,  -1.076   ],\n",
       "       [ -0.27241 ,   8.8124  ,   0.23155 ],\n",
       "       [  0.65378 ,   7.0145  ,   0.92618 ],\n",
       "       [  0.61292 ,   6.8238  ,   0.19068 ],\n",
       "       [ -0.14982 ,   7.5048  ,  -0.34051 ],\n",
       "       [ -0.14982 ,   8.0496  ,  -0.081722],\n",
       "       [  0.42223 ,   8.1177  ,   0.53119 ],\n",
       "       [  0.27241 ,   8.3084  ,   0.8036  ],\n",
       "       [ -0.38137 ,   8.7715  ,   0.95342 ],\n",
       "       [ -0.46309 ,   9.9973  ,   0.8036  ],\n",
       "       [  0.040861,  11.795   ,   0.8036  ],\n",
       "       [ -0.29965 ,  12.531   ,   1.9477  ],\n",
       "       [ -1.5255  ,  12.871   ,   2.7649  ],\n",
       "       [ -0.61292 ,  14.288   ,   1.6481  ],\n",
       "       [  0.92618 ,  12.599   ,   0.14982 ],\n",
       "       [  2.3427  ,   9.6568  ,  -0.29965 ],\n",
       "       [  4.1406  ,   8.3084  ,  -0.76274 ],\n",
       "       [  5.598   ,   8.3084  ,  -0.91256 ],\n",
       "       [  4.4811  ,   9.003   ,  -0.23155 ],\n",
       "       [  0.53119 ,   8.9213  ,   1.1441  ],\n",
       "       [ -1.757   ,   7.927   ,   1.9205  ],\n",
       "       [ -1.2258  ,   6.7012  ,   1.9886  ],\n",
       "       [ -0.38137 ,   6.4424  ,   1.3076  ],\n",
       "       [ -0.50395 ,   7.2733  ,   0.88532 ],\n",
       "       [ -0.46309 ,   7.8181  ,   1.3348  ],\n",
       "       [  0.57205 ,   8.0769  ,   2.261   ],\n",
       "       [  1.1169  ,   8.1177  ,   2.7922  ],\n",
       "       [  0.50395 ,   8.6625  ,   2.4925  ],\n",
       "       [  0.23155 ,   9.9565  ,   1.4165  ],\n",
       "       [  0.8036  ,  11.496   ,   0.84446 ],\n",
       "       [  1.2667  ,  11.877   ,   2.0703  ],\n",
       "       [  0.72188 ,  13.634   ,   2.6832  ],\n",
       "       [  0.42223 ,  14.71    ,   1.5391  ],\n",
       "       [  1.3348  ,  11.182   ,   0.46309 ],\n",
       "       [  2.4517  ,   8.3493  ,  -0.38137 ],\n",
       "       [  2.1793  ,   9.1529  ,  -1.5663  ],\n",
       "       [  0.23155 ,  11.032   ,  -2.1793  ],\n",
       "       [  0.27241 ,  10.42    ,  -0.95342 ],\n",
       "       [  1.0351  ,   7.9679  ,   1.4574  ],\n",
       "       [  0.92618 ,   6.6331  ,   1.9477  ],\n",
       "       [  0.46309 ,   6.5922  ,   0.95342 ],\n",
       "       [  0.46309 ,   6.8919  ,  -0.10896 ],\n",
       "       [  0.76274 ,   7.355   ,  -0.46309 ],\n",
       "       [  0.040861,   8.0769  ,   0.081722]])"
      ]
     },
     "execution_count": 9,
     "metadata": {},
     "output_type": "execute_result"
    }
   ],
   "source": [
    "X[0]"
   ]
  },
  {
   "cell_type": "markdown",
   "metadata": {},
   "source": [
    "Bovenstaande waarde is de lengte van de array die KMeans in moet na uitvoeren van sliding window met een window van 3x3."
   ]
  },
  {
   "cell_type": "markdown",
   "metadata": {},
   "source": [
    "### Conclusies over de dataset\n",
    "Er zijn 22 klasses (0 t/m 21).\n",
    "\n",
    "Trainingsdata bestaat uit een lijst met arrays met arrays. Deze hebben verschillende lengte, van 45 rijen tot en met 79 rijen, en 3 kolommen."
   ]
  },
  {
   "cell_type": "markdown",
   "metadata": {},
   "source": [
    "## Linear regression per array/fragment in dataset"
   ]
  },
  {
   "cell_type": "code",
   "execution_count": 13,
   "metadata": {
    "collapsed": false
   },
   "outputs": [
    {
     "ename": "TypeError",
     "evalue": "fit() missing 1 required positional argument: 'y'",
     "output_type": "error",
     "traceback": [
      "\u001b[0;31m---------------------------------------------------------------------------\u001b[0m",
      "\u001b[0;31mTypeError\u001b[0m                                 Traceback (most recent call last)",
      "\u001b[0;32m<ipython-input-13-2a371aaa38da>\u001b[0m in \u001b[0;36m<module>\u001b[0;34m()\u001b[0m\n\u001b[1;32m      2\u001b[0m \u001b[1;32mfor\u001b[0m \u001b[0midx\u001b[0m\u001b[1;33m,\u001b[0m\u001b[0marray\u001b[0m \u001b[1;32min\u001b[0m \u001b[0menumerate\u001b[0m\u001b[1;33m(\u001b[0m\u001b[0mX\u001b[0m\u001b[1;33m)\u001b[0m\u001b[1;33m:\u001b[0m\u001b[1;33m\u001b[0m\u001b[0m\n\u001b[1;32m      3\u001b[0m     \u001b[0mlr\u001b[0m\u001b[1;33m=\u001b[0m\u001b[0mLinearRegression\u001b[0m\u001b[1;33m(\u001b[0m\u001b[1;33m)\u001b[0m\u001b[1;33m\u001b[0m\u001b[0m\n\u001b[0;32m----> 4\u001b[0;31m     \u001b[0mlr\u001b[0m\u001b[1;33m.\u001b[0m\u001b[0mfit\u001b[0m\u001b[1;33m(\u001b[0m\u001b[0marray\u001b[0m\u001b[1;33m)\u001b[0m\u001b[1;33m\u001b[0m\u001b[0m\n\u001b[0m",
      "\u001b[0;31mTypeError\u001b[0m: fit() missing 1 required positional argument: 'y'"
     ]
    }
   ],
   "source": [
    "\n",
    "for idx,array in enumerate(X):\n",
    "    lr=LinearRegression()\n",
    "    lr.fit(array)"
   ]
  }
 ],
 "metadata": {
  "kernelspec": {
   "display_name": "Python 3",
   "language": "python",
   "name": "python3"
  },
  "language_info": {
   "codemirror_mode": {
    "name": "ipython",
    "version": 3
   },
   "file_extension": ".py",
   "mimetype": "text/x-python",
   "name": "python",
   "nbconvert_exporter": "python",
   "pygments_lexer": "ipython3",
   "version": "3.5.2"
  }
 },
 "nbformat": 4,
 "nbformat_minor": 1
}
