{
 "cells": [
  {
   "cell_type": "markdown",
   "metadata": {},
   "source": [
    "\n",
    "# Clustering text documents using k-means\n",
    "\n",
    "Note: as k-means is optimizing a non-convex objective function, it will likely\n",
    "end up in a local optimum. Several runs with independent random init might be\n",
    "necessary to get a good convergence.\n",
    "\n"
   ]
  },
  {
   "cell_type": "code",
   "execution_count": 1,
   "metadata": {
    "collapsed": false
   },
   "outputs": [],
   "source": [
    "# Based on Clustering text document using k-means from SciKit-learn\n",
    "# Author: Peter Prettenhofer <peter.prettenhofer@gmail.com>\n",
    "#         Lars Buitinck\n",
    "# License: BSD 3 clause\n",
    "\n",
    "from sklearn.decomposition import TruncatedSVD\n",
    "from sklearn.feature_extraction.text import TfidfVectorizer\n",
    "from sklearn.pipeline import make_pipeline\n",
    "from sklearn.preprocessing import Normalizer\n",
    "from sklearn import metrics\n",
    "\n",
    "from sklearn.cluster import KMeans, MiniBatchKMeans\n",
    "\n",
    "import pandas as pd\n",
    "from time import time\n",
    "\n",
    "import numpy as np\n",
    "import re\n",
    "import nltk\n",
    "from nltk.corpus import stopwords\n",
    "%matplotlib inline"
   ]
  },
  {
   "cell_type": "markdown",
   "metadata": {},
   "source": [
    "Load email content."
   ]
  },
  {
   "cell_type": "code",
   "execution_count": 2,
   "metadata": {
    "collapsed": false
   },
   "outputs": [],
   "source": [
    "# Content email in excel file with two columns: Number and Tekst\n",
    "df = pd.read_excel('top4.xlsx')\n",
    "text = [str(inhoud) for inhoud in df.Tekst]"
   ]
  },
  {
   "cell_type": "code",
   "execution_count": 3,
   "metadata": {
    "collapsed": false,
    "scrolled": true
   },
   "outputs": [
    {
     "data": {
      "text/plain": [
       "'---------- Doorgestuurd bericht ----------Van: &quot;Marcel Jaspers&quot; &lt;mrcljsprs@gmail.com&gt;Datum:  jun.  :Onderwerp: Fwd: Details ING BankierenAan: &lt;info@rdw.nl&gt;Cc: ---------- Doorgestuurd bericht ---------- Van: &quot;CTW Logistics bv&quo'"
      ]
     },
     "execution_count": 3,
     "metadata": {},
     "output_type": "execute_result"
    }
   ],
   "source": [
    "text[4]"
   ]
  },
  {
   "cell_type": "code",
   "execution_count": 4,
   "metadata": {
    "collapsed": false
   },
   "outputs": [],
   "source": [
    "### Manier 2\n",
    "# Dit levert voor elke mail een lijst. Alle lijsten samen zitten weer in een lijst.\n",
    "# Woord en herkomst blijven hier verbonden\n",
    "cleanedText=[]\n",
    "stop = set(stopwords.words(['english','dutch']))\n",
    "for mail in text:\n",
    "    words = nltk.word_tokenize(mail)\n",
    "    words=[word.lower() for word in words if word.isalpha()]\n",
    "    words=' '.join([word for word in words if word not in stop])\n",
    "    cleanedText.append(words)"
   ]
  },
  {
   "cell_type": "code",
   "execution_count": 5,
   "metadata": {
    "collapsed": false,
    "scrolled": true
   },
   "outputs": [
    {
     "data": {
      "text/plain": [
       "['volgende documenten horen hoofddocument brief rdw email politie voorbeeld foto tape kenteken politie abbf',\n",
       " 'doorgestuurd bericht onderwerp vvk online datum wed jun klantenservice rdw lt info gt info hermanvanrijssen geachte aanvraag ontvangen klan',\n",
       " 'doorgestuurd bericht quot ctw logistics bv quot lt info gt datum jun onderwerp details ing bankieren quot mrcljsprs quot lt mrcljsprs gt cc']"
      ]
     },
     "execution_count": 5,
     "metadata": {},
     "output_type": "execute_result"
    }
   ],
   "source": [
    "cleanedText[1:4]"
   ]
  },
  {
   "cell_type": "code",
   "execution_count": 17,
   "metadata": {
    "collapsed": false
   },
   "outputs": [],
   "source": [
    "tf = TfidfVectorizer(analyzer='word', min_df = 0.1, max_df = 0.7)"
   ]
  },
  {
   "cell_type": "code",
   "execution_count": 18,
   "metadata": {
    "collapsed": true
   },
   "outputs": [],
   "source": [
    "tfidf_matrix =  tf.fit_transform(cleanedText)\n",
    "feature_names = tf.get_feature_names() "
   ]
  },
  {
   "cell_type": "code",
   "execution_count": 20,
   "metadata": {
    "collapsed": false
   },
   "outputs": [
    {
     "data": {
      "text/plain": [
       "['aanhef',\n",
       " 'aanvraag',\n",
       " 'achternaam',\n",
       " 'adres',\n",
       " 'afdeling',\n",
       " 'afzender',\n",
       " 'amaan',\n",
       " 'auto',\n",
       " 'bedrijfsnaam',\n",
       " 'bedrijfsnummer',\n",
       " 'belangrijk',\n",
       " 'bellen',\n",
       " 'benieuwd',\n",
       " 'bereiken',\n",
       " 'bericht',\n",
       " 'bestemd',\n",
       " 'bijlage',\n",
       " 'binnen',\n",
       " 'buitenland',\n",
       " 'burgerservicenummer',\n",
       " 'computer',\n",
       " 'contactgegevens',\n",
       " 'correctie',\n",
       " 'correctiegegevens',\n",
       " 'dank',\n",
       " 'datum',\n",
       " 'deel',\n",
       " 'deelname',\n",
       " 'dhr',\n",
       " 'dienstverlening',\n",
       " 'documenten',\n",
       " 'erg',\n",
       " 'ervaringhet',\n",
       " 'foute',\n",
       " 'foutieve',\n",
       " 'gaan',\n",
       " 'gaat',\n",
       " 'geachte',\n",
       " 'geadresseerde',\n",
       " 'gegevens',\n",
       " 'graag',\n",
       " 'groet',\n",
       " 'hartelijk',\n",
       " 'heer',\n",
       " 'helaas',\n",
       " 'helpen',\n",
       " 'hieronder',\n",
       " 'huisnummer',\n",
       " 'info',\n",
       " 'informatie',\n",
       " 'instaan',\n",
       " 'juiste',\n",
       " 'juni',\n",
       " 'kenteken',\n",
       " 'kentekencard',\n",
       " 'klanten',\n",
       " 'klantenservice',\n",
       " 'klanttevredenheidsonderzoek',\n",
       " 'klik',\n",
       " 'kunt',\n",
       " 'land',\n",
       " 'lezen',\n",
       " 'link',\n",
       " 'maandag',\n",
       " 'medewerker',\n",
       " 'meesturen',\n",
       " 'meldcode',\n",
       " 'mevrouw',\n",
       " 'minuut',\n",
       " 'mogelijk',\n",
       " 'naam',\n",
       " 'nederland',\n",
       " 'nederlandtelefoonnummer',\n",
       " 'nemen',\n",
       " 'nieuwe',\n",
       " 'online',\n",
       " 'onterecht',\n",
       " 'ontvangen',\n",
       " 'ontvangt',\n",
       " 'onze',\n",
       " 'oorspronkelijk',\n",
       " 'opmerkingen',\n",
       " 'overbrenging',\n",
       " 'per',\n",
       " 'plaats',\n",
       " 'pmaan',\n",
       " 'postcode',\n",
       " 'prijs',\n",
       " 'rdw',\n",
       " 'reageren',\n",
       " 'reden',\n",
       " 'registratie',\n",
       " 'staat',\n",
       " 'stellen',\n",
       " 'straatnaam',\n",
       " 'sturen',\n",
       " 'telefonisch',\n",
       " 'telefoonnummer',\n",
       " 'tellerstand',\n",
       " 'terug',\n",
       " 'toelichting',\n",
       " 'typefout',\n",
       " 'uitnodigen',\n",
       " 'uitsluitend',\n",
       " 'uur',\n",
       " 'vanuit',\n",
       " 'verder',\n",
       " 'verwijderen',\n",
       " 'via',\n",
       " 'vin',\n",
       " 'vinden',\n",
       " 'voertuig',\n",
       " 'volledig',\n",
       " 'volledige',\n",
       " 'voorletters',\n",
       " 'vraag',\n",
       " 'vragen',\n",
       " 'vragenlijst',\n",
       " 'vriendelijk',\n",
       " 'vriendelijke',\n",
       " 'vrijdag',\n",
       " 'waar',\n",
       " 'waarschuwen',\n",
       " 'wel',\n",
       " 'werkdagen',\n",
       " 'weten',\n",
       " 'wij',\n",
       " 'wijziging',\n",
       " 'willen',\n",
       " 'wilt',\n",
       " 'woonplaats',\n",
       " 'zie',\n",
       " 'zodat']"
      ]
     },
     "execution_count": 20,
     "metadata": {},
     "output_type": "execute_result"
    }
   ],
   "source": [
    "feature_names"
   ]
  },
  {
   "cell_type": "code",
   "execution_count": null,
   "metadata": {
    "collapsed": true
   },
   "outputs": [],
   "source": [
    "## Performing dimensionality reduction using LSA\n",
    "#print(\"Performing dimensionality reduction using LSA\")\n",
    "#t0 = time()\n",
    "# Vectorizer results are normalized, which makes KMeans behave as\n",
    "# spherical k-means for better results. Since LSA/SVD results are\n",
    "# not normalized, we have to redo the normalization.\n",
    "#svd = TruncatedSVD(opts.n_components)\n",
    "#normalizer = Normalizer(copy=False)\n",
    "#lsa = make_pipeline(svd, normalizer)\n",
    "\n",
    "#X = lsa.fit_transform(X)\n",
    "\n",
    "#print(\"done in %fs\" % (time() - t0))\n",
    "\n",
    "#explained_variance = svd.explained_variance_ratio_.sum()\n",
    "#print(\"Explained variance of the SVD step: {}%\".format(int(explained_variance * 100)))\n",
    "\n",
    "#print()\n",
    "## end LSA"
   ]
  },
  {
   "cell_type": "markdown",
   "metadata": {},
   "source": [
    "Do the actual clustering\n"
   ]
  },
  {
   "cell_type": "code",
   "execution_count": 22,
   "metadata": {
    "collapsed": false
   },
   "outputs": [],
   "source": [
    "##minibatch Kmeans\n",
    "#km = MiniBatchKMeans(n_clusters=true_k, init='k-means++', n_init=1,\n",
    "#                     init_size=1000, batch_size=1000, verbose=b_verbose)\n",
    "##end minibatch\n",
    "\n",
    "##Kmeans\n",
    "km = KMeans(n_clusters=10, init='k-means++', max_iter=100, n_init=1)\n",
    "##end Kmenas"
   ]
  },
  {
   "cell_type": "code",
   "execution_count": 32,
   "metadata": {
    "collapsed": false
   },
   "outputs": [
    {
     "name": "stdout",
     "output_type": "stream",
     "text": [
      "Clustering sparse data with KMeans(algorithm='auto', copy_x=True, init='k-means++', max_iter=100,\n",
      "    n_clusters=10, n_init=1, n_jobs=1, precompute_distances='auto',\n",
      "    random_state=None, tol=0.0001, verbose=0)\n",
      "\n"
     ]
    }
   ],
   "source": [
    "print(\"Clustering sparse data with %s\" % km)\n",
    "\n",
    "new_mat=km.fit_transform(tfidf_matrix)\n",
    "\n",
    "print()"
   ]
  },
  {
   "cell_type": "code",
   "execution_count": 39,
   "metadata": {
    "collapsed": false
   },
   "outputs": [
    {
     "data": {
      "text/plain": [
       "array([[ 1.18480374,  1.24542608,  0.98367816,  1.30021765,  1.19801725,\n",
       "         1.38351354,  1.24148673,  1.35478434,  1.23704725,  1.18828111],\n",
       "       [ 0.99471414,  1.19223727,  1.07308781,  1.38757149,  1.26826166,\n",
       "         1.24145193,  1.30741364,  1.35955818,  1.25772056,  1.19074804],\n",
       "       [ 1.23319193,  1.21870503,  0.99299077,  1.36215416,  1.31380985,\n",
       "         1.37915718,  1.30792094,  1.13128891,  1.24042131,  1.18884384],\n",
       "       [ 1.24336916,  1.1993023 ,  1.07178   ,  1.33646887,  1.27174461,\n",
       "         1.36589336,  1.31296173,  1.28023005,  1.26153345,  1.21222153],\n",
       "       [ 1.22824801,  1.25664976,  0.97414176,  1.38851207,  1.22209963,\n",
       "         1.38322408,  1.15156847,  1.21998995,  1.22859247,  1.18203341],\n",
       "       [ 1.22824801,  1.25664976,  0.97414176,  1.38851207,  1.22209963,\n",
       "         1.38322408,  1.15156847,  1.21998995,  1.22859247,  1.18203341],\n",
       "       [ 1.25067406,  1.26419532,  0.98281383,  1.3889653 ,  1.25942215,\n",
       "         1.38383904,  1.10086598,  1.3610516 ,  1.25914233,  1.20715513],\n",
       "       [ 0.82607737,  0.78456718,  0.41400167,  0.9643304 ,  0.88092224,\n",
       "         0.9565618 ,  0.85214646,  0.92440848,  0.77097002,  0.69371301],\n",
       "       [ 1.24999899,  1.26296037,  0.93814805,  1.36884591,  1.2634211 ,\n",
       "         1.36721549,  1.11764047,  1.34973788,  1.24890493,  1.18164052],\n",
       "       [ 1.21101373,  1.25072609,  1.01096667,  1.22540789,  1.21527834,\n",
       "         1.38372739,  1.1491921 ,  1.35271993,  1.24893891,  1.15904048]])"
      ]
     },
     "execution_count": 39,
     "metadata": {},
     "output_type": "execute_result"
    }
   ],
   "source": [
    "new_mat[10:20]"
   ]
  },
  {
   "cell_type": "code",
   "execution_count": 40,
   "metadata": {
    "collapsed": false
   },
   "outputs": [
    {
     "name": "stdout",
     "output_type": "stream",
     "text": [
      "Silhouette Coefficient: 0.330\n",
      "\n",
      "Top terms per cluster:\n",
      "Cluster 0: voertuig rdw kunt wij vragen graag gaat auto informatie staatCluster 1: adres land plaats burgerservicenummer nederland contactgegevens voorletters achternaam meesturen vraagCluster 2: rdw aanvraag info gegevens bericht vin vriendelijke groet geachte perCluster 3: tellerstand registratie datum juiste foutieve reden correctie foute correctiegegevens toelichtingCluster 4: rdw kunt wij vragen graag wilt ontvangen vriendelijke groet staatCluster 5: opmerkingen straatnaam meldcode huisnummer aanhef dhr voertuig bedrijfsnaam woonplaats voorlettersCluster 6: waar afdeling naam oorspronkelijk bericht info woonplaats pmaan amaan postcodeCluster 7: vin opmerkingen documenten ontvangen kentekencard straatnaam meldcode huisnummer woonplaats telefoonnummerCluster 8: naam aanhef vraag kenteken ontvangen auto adres aanvraag binnen groetCluster 9: naam waar afdeling adres bedrijfsnummer telefoonnummer vraag woonplaats graag postcode\n"
     ]
    }
   ],
   "source": [
    "#print(\"Homogeneity: %0.3f\" % metrics.homogeneity_score(labels, km.labels_))\n",
    "#print(\"Completeness: %0.3f\" % metrics.completeness_score(labels, km.labels_))\n",
    "#print(\"V-measure: %0.3f\" % metrics.v_measure_score(labels, km.labels_))\n",
    "#print(\"Adjusted Rand-Index: %.3f\"\n",
    "#      % metrics.adjusted_rand_score(labels, km.labels_))\n",
    "print(\"Silhouette Coefficient: %0.3f\"\n",
    "      % metrics.silhouette_score(tfidf_matrix, km.labels_, sample_size=1000))\n",
    "\n",
    "print()\n",
    "\n",
    "\n",
    "#if not opts.use_hashing:\n",
    "print(\"Top terms per cluster:\")\n",
    "\n",
    "#    if opts.n_components:\n",
    "#        original_space_centroids = svd.inverse_transform(km.cluster_centers_)\n",
    "#        order_centroids = original_space_centroids.argsort()[:, ::-1]\n",
    "#    else:\n",
    "order_centroids = km.cluster_centers_.argsort()[:, ::-1]\n",
    "\n",
    "terms = tf.get_feature_names()\n",
    "for i in range(10):\n",
    "    print(\"Cluster %d:\" % i, end='')\n",
    "    for ind in order_centroids[i, :10]:\n",
    "        print(' %s' % terms[ind], end='')\n",
    "print()"
   ]
  },
  {
   "cell_type": "code",
   "execution_count": 53,
   "metadata": {
    "collapsed": false
   },
   "outputs": [
    {
     "name": "stdout",
     "output_type": "stream",
     "text": [
      "voertuig\n",
      "rdw\n",
      "kunt\n",
      "wij\n",
      "vragen\n",
      "graag\n",
      "gaat\n",
      "auto\n",
      "informatie\n",
      "staat\n"
     ]
    }
   ],
   "source": [
    "for ind in order_centroids[0, :10]:\n",
    "    print(terms[ind])"
   ]
  }
 ],
 "metadata": {
  "kernelspec": {
   "display_name": "Python 3",
   "language": "python",
   "name": "python3"
  },
  "language_info": {
   "codemirror_mode": {
    "name": "ipython",
    "version": 3
   },
   "file_extension": ".py",
   "mimetype": "text/x-python",
   "name": "python",
   "nbconvert_exporter": "python",
   "pygments_lexer": "ipython3",
   "version": "3.5.2"
  }
 },
 "nbformat": 4,
 "nbformat_minor": 0
}
