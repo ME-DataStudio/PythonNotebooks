{
 "cells": [
  {
   "cell_type": "markdown",
   "metadata": {},
   "source": [
    "# Neural Networks\n",
    "\n",
    "In deze opdracht ga je een simpele Perceptron trainen om kleine logische problemen op te lossen. Vervolgens schakel je over naar een Multi-Layer Perceptron en vergelijk je de resultaten. Tenslotte zet je de MLP in om de afbeeldingen uit de digits dataset te herkennen. Wederom is een cross validated grid search nodig om de juiste hyperparameters te vinden."
   ]
  },
  {
   "cell_type": "code",
   "execution_count": 1,
   "metadata": {
    "collapsed": false
   },
   "outputs": [],
   "source": [
    "# misc data processing imports\n",
    "import matplotlib.pyplot as plt\n",
    "%matplotlib inline\n",
    "import numpy as np\n",
    "import seaborn as sns\n",
    "\n",
    "# dataset\n",
    "from sklearn.datasets import load_digits\n",
    "\n",
    "# classifier & testing\n",
    "from sklearn.neural_network import MLPClassifier\n",
    "from sklearn.model_selection import train_test_split, GridSearchCV\n",
    "from sklearn.metrics import f1_score\n",
    "\n",
    "# do not show non-converged warnings\n",
    "# during mlp grid search\n",
    "import warnings\n",
    "warnings.filterwarnings('ignore')"
   ]
  },
  {
   "cell_type": "markdown",
   "metadata": {},
   "source": [
    "## 1. Perceptron\n",
    "\n",
    "Hieronder wordt een dataset `X_pairs` en een perceptron gedefinieerd. De dataset bestaat uit vier samples, met twee features per sample.  \n",
    "In de hieropvolgende oefeneningen ga je de perceptron herhaaldelijk trainen op de dataset, maar met wisselende targets."
   ]
  },
  {
   "cell_type": "code",
   "execution_count": 12,
   "metadata": {
    "collapsed": true
   },
   "outputs": [],
   "source": [
    "X_pairs = [[1,1], [0,1], [1,0],[0,0]]\n",
    "\n",
    "perceptron = MLPClassifier(hidden_layer_sizes=(), \n",
    "                           learning_rate_init=0.1, \n",
    "                           solver='sgd', \n",
    "                           activation='logistic',\n",
    "                           tol=0.001)"
   ]
  },
  {
   "cell_type": "markdown",
   "metadata": {},
   "source": [
    "### 1.1 AND probleem\n",
    "\n",
    "Bij het AND probleem leer je de perceptron om de output `1` te genereren wanneer **beide features** van de input sample `1` zijn. Als één of beide features van de sample `0` zijn, dan moet de perceptron een `0` genereren."
   ]
  },
  {
   "cell_type": "code",
   "execution_count": 13,
   "metadata": {
    "collapsed": true
   },
   "outputs": [],
   "source": [
    "y_and = [1, 0, 0, 0]"
   ]
  },
  {
   "cell_type": "markdown",
   "metadata": {},
   "source": [
    "  * Train de perceptron op `X_pairs` met `y_and` als target."
   ]
  },
  {
   "cell_type": "code",
   "execution_count": 14,
   "metadata": {
    "collapsed": true
   },
   "outputs": [],
   "source": [
    "perceptron.fit(X_pairs, y_and);"
   ]
  },
  {
   "cell_type": "markdown",
   "metadata": {},
   "source": [
    "  * Plot de error gedurende de perceptron's training (`perceptron.loss_curve_`). Tot hoe ver daalt de error?"
   ]
  },
  {
   "cell_type": "code",
   "execution_count": 15,
   "metadata": {
    "collapsed": false
   },
   "outputs": [
    {
     "data": {
      "image/png": "[encoded data removed]",
      "text/plain": [
       "<matplotlib.figure.Figure at 0x7f1cc24745c0>"
      ]
     },
     "metadata": {},
     "output_type": "display_data"
    }
   ],
   "source": [
    "plt.figure(figsize=(3,1.5))\n",
    "plt.plot(perceptron.loss_curve_);"
   ]
  },
  {
   "cell_type": "markdown",
   "metadata": {},
   "source": [
    "  * Bekijk of de perceptron het AND probleem heeft geleerd door `X_pairs` aan te bieden in de predict stap.  \n",
    "  Is de uitkomst gelijk aan `y_and` (1, 0, 0, 0)?"
   ]
  },
  {
   "cell_type": "code",
   "execution_count": 16,
   "metadata": {
    "collapsed": false
   },
   "outputs": [
    {
     "data": {
      "text/plain": [
       "array([1, 0, 0, 0])"
      ]
     },
     "execution_count": 16,
     "metadata": {},
     "output_type": "execute_result"
    }
   ],
   "source": [
    "perceptron.predict(X_pairs)"
   ]
  },
  {
   "cell_type": "markdown",
   "metadata": {},
   "source": [
    "  * Haal de gewichten en de bias van de perceptron op.\n",
    "  * Reken zelf de output na aan de hand van de input `X_pairs`, de gewichten en de bias"
   ]
  },
  {
   "cell_type": "code",
   "execution_count": 19,
   "metadata": {
    "collapsed": false
   },
   "outputs": [
    {
     "data": {
      "text/plain": [
       "array([1, 0, 0, 0])"
      ]
     },
     "execution_count": 19,
     "metadata": {},
     "output_type": "execute_result"
    }
   ],
   "source": [
    "np.array((np.sum((np.array(X_pairs).T * perceptron.coefs_[0]), axis=0) + perceptron.intercepts_[0]) >= 0,\n",
    "         dtype=int)"
   ]
  },
  {
   "cell_type": "markdown",
   "metadata": {},
   "source": [
    "### OR probleem\n",
    "\n",
    "Bij het OR probleem leer je de perceptron om de output `1` te genereren wanneer **minstens één feature** van de input sample `1` is. Als beide features van de sample `0` zijn, dan moet de perceptron een `0` genereren."
   ]
  },
  {
   "cell_type": "code",
   "execution_count": 27,
   "metadata": {
    "collapsed": false
   },
   "outputs": [],
   "source": [
    "y_or  = [1, 1, 1, 0]"
   ]
  },
  {
   "cell_type": "markdown",
   "metadata": {},
   "source": [
    "  * Train de perceptron op `X_pairs` met `y_or` als target."
   ]
  },
  {
   "cell_type": "code",
   "execution_count": 28,
   "metadata": {
    "collapsed": true
   },
   "outputs": [],
   "source": [
    "perceptron.fit(X_pairs, y_or);"
   ]
  },
  {
   "cell_type": "markdown",
   "metadata": {},
   "source": [
    "  * Plot de error gedurende de perceptron's training. Tot hoe ver daalt de error?"
   ]
  },
  {
   "cell_type": "code",
   "execution_count": 29,
   "metadata": {
    "collapsed": false
   },
   "outputs": [
    {
     "data": {
      "image/png": "[encoded data removed]",
      "text/plain": [
       "<matplotlib.figure.Figure at 0x7f1cc210eac8>"
      ]
     },
     "metadata": {},
     "output_type": "display_data"
    }
   ],
   "source": [
    "plt.figure(figsize=(3,1.5))\n",
    "plt.plot(perceptron.loss_curve_);"
   ]
  },
  {
   "cell_type": "markdown",
   "metadata": {},
   "source": [
    "  * Bekijk of de perceptron het OR probleem heeft geleerd door `X_pairs` aan te bieden in de predict stap.  \n",
    "  Is de uitkomst gelijk aan `y_or` (1, 1, 1, 0)?"
   ]
  },
  {
   "cell_type": "code",
   "execution_count": 30,
   "metadata": {
    "collapsed": false
   },
   "outputs": [
    {
     "data": {
      "text/plain": [
       "array([1, 1, 1, 0])"
      ]
     },
     "execution_count": 30,
     "metadata": {},
     "output_type": "execute_result"
    }
   ],
   "source": [
    "perceptron.predict(X_pairs)"
   ]
  },
  {
   "cell_type": "markdown",
   "metadata": {},
   "source": [
    "### XOR probleem\n",
    "\n",
    "Bij het XOR probleem leer je de perceptron om de output `1` te genereren wanneer **slechts één feature** van de input sample `1` is. Als beide features `0` zijn of beide features `1` zijn, dan moet de perceptron een `0` genereren."
   ]
  },
  {
   "cell_type": "code",
   "execution_count": 31,
   "metadata": {
    "collapsed": false
   },
   "outputs": [],
   "source": [
    "y_xor = [0, 1, 1, 0]"
   ]
  },
  {
   "cell_type": "markdown",
   "metadata": {},
   "source": [
    "  * Train de perceptron op `X_pairs` met `y_xor` als target."
   ]
  },
  {
   "cell_type": "code",
   "execution_count": 34,
   "metadata": {
    "collapsed": true
   },
   "outputs": [],
   "source": [
    "perceptron.fit(X_pairs, y_xor);"
   ]
  },
  {
   "cell_type": "markdown",
   "metadata": {},
   "source": [
    "  * Plot de error gedurende de perceptron's training. Tot hoe ver daalt de error?"
   ]
  },
  {
   "cell_type": "code",
   "execution_count": 35,
   "metadata": {
    "collapsed": false
   },
   "outputs": [
    {
     "data": {
      "image/png": "[encoded data removed]",
      "text/plain": [
       "<matplotlib.figure.Figure at 0x7f1cc22537f0>"
      ]
     },
     "metadata": {},
     "output_type": "display_data"
    }
   ],
   "source": [
    "plt.figure(figsize=(3,1.5))\n",
    "plt.plot(perceptron.loss_curve_);"
   ]
  },
  {
   "cell_type": "markdown",
   "metadata": {},
   "source": [
    "  * Bekijk of de perceptron het XOR probleem heeft geleerd door `X_pairs` aan te bieden in de predict stap.  \n",
    "  Is de uitkomst gelijk aan `y_xor` (0, 1, 1, 0)?"
   ]
  },
  {
   "cell_type": "code",
   "execution_count": 15,
   "metadata": {
    "collapsed": false
   },
   "outputs": [
    {
     "data": {
      "text/plain": [
       "array([0, 1, 0, 0])"
      ]
     },
     "execution_count": 15,
     "metadata": {},
     "output_type": "execute_result"
    }
   ],
   "source": [
    "perceptron.predict(X_pairs)"
   ]
  },
  {
   "cell_type": "markdown",
   "metadata": {},
   "source": [
    "## 2. Multi-Layer Perceptron: XOR probleem\n",
    "\n",
    "Hieronder wordt een Multi-Layer Perceptron gedefinieerd met twee hidden units."
   ]
  },
  {
   "cell_type": "code",
   "execution_count": 36,
   "metadata": {
    "collapsed": false
   },
   "outputs": [],
   "source": [
    "mlp = MLPClassifier(hidden_layer_sizes=(2,),\n",
    "                    max_iter=2000,\n",
    "                    learning_rate_init=0.8,\n",
    "                    solver='sgd', \n",
    "                    activation='logistic',\n",
    "                    momentum=0,\n",
    "#                     random_state=0,\n",
    "                    tol=0.00000001)"
   ]
  },
  {
   "cell_type": "markdown",
   "metadata": {},
   "source": [
    "  * Train de MLP op `X_pairs` met `y_xor` als target."
   ]
  },
  {
   "cell_type": "code",
   "execution_count": 37,
   "metadata": {
    "collapsed": true
   },
   "outputs": [],
   "source": [
    "mlp.fit(X_pairs, y_xor);"
   ]
  },
  {
   "cell_type": "markdown",
   "metadata": {},
   "source": [
    "  * Plot de error gedurende de MLP's training."
   ]
  },
  {
   "cell_type": "code",
   "execution_count": 38,
   "metadata": {
    "collapsed": false
   },
   "outputs": [
    {
     "data": {
      "image/png": "[encoded data removed]",
      "text/plain": [
       "<matplotlib.figure.Figure at 0x7f1cc21ff898>"
      ]
     },
     "metadata": {},
     "output_type": "display_data"
    }
   ],
   "source": [
    "plt.figure(figsize=(3,1.5))\n",
    "plt.plot(mlp.loss_curve_);"
   ]
  },
  {
   "cell_type": "markdown",
   "metadata": {},
   "source": [
    "  * Bekijk of de MLP het XOR probleem heeft geleerd door `X_pairs` aan te bieden in de predict stap.  \n",
    "  Is de uitkomst gelijk aan `Y_xor` (0, 1, 1, 0)? En wat als je de MLP meerdere keren opnieuw definieert en traint?"
   ]
  },
  {
   "cell_type": "code",
   "execution_count": 39,
   "metadata": {
    "collapsed": false
   },
   "outputs": [
    {
     "data": {
      "text/plain": [
       "array([0, 1, 1, 0])"
      ]
     },
     "execution_count": 39,
     "metadata": {},
     "output_type": "execute_result"
    }
   ],
   "source": [
    "mlp.predict(X_pairs)"
   ]
  },
  {
   "cell_type": "markdown",
   "metadata": {},
   "source": [
    "## 3. Multi-Layer Perceptron: Digits\n",
    "\n",
    "Je gaat nu een MLP trainen op digits dataset die ook tijdens de Nearest Centroid en SVM practica gebruikt is.\n",
    "\n",
    "### 3.1 Data laden\n",
    "\n",
    "* Laad de dataset.\n",
    "* Schaal de features tussen 0 en 1.\n",
    "* Verdeel de data in een train set (80%) en test set (20%)."
   ]
  },
  {
   "cell_type": "code",
   "execution_count": 41,
   "metadata": {
    "collapsed": false
   },
   "outputs": [],
   "source": [
    "data = load_digits()\n",
    "\n",
    "X = data.data / np.max(data.data)\n",
    "y = data.target\n",
    "\n",
    "X_train, X_test, y_train, y_test = train_test_split(X, y, test_size=0.2, random_state=0)"
   ]
  },
  {
   "cell_type": "markdown",
   "metadata": {},
   "source": [
    "### 3.2 MLP trainen\n",
    "\n",
    "Hieronder is een MLP gedefinieerd. Enkele parameters zijn al ingesteld. "
   ]
  },
  {
   "cell_type": "code",
   "execution_count": 43,
   "metadata": {
    "collapsed": false
   },
   "outputs": [],
   "source": [
    "mlp = MLPClassifier(solver='sgd', \n",
    "                    activation='logistic',\n",
    "                    momentum=0.2,\n",
    "                    tol=0.00001)"
   ]
  },
  {
   "cell_type": "markdown",
   "metadata": {},
   "source": [
    "  * Voer een 5-fold cross validated grid search uit om de optimale waarden te vinden voor het aantal hidden units en de learning rate"
   ]
  },
  {
   "cell_type": "code",
   "execution_count": 44,
   "metadata": {
    "collapsed": true
   },
   "outputs": [],
   "source": [
    "hiddenunits_params = [(1),(3),(10),(20),(30), (50), (100)]\n",
    "learningrate_params = [0.01, 0.05, 0.1, 0.5, 1.0]\n",
    "parameters = {'hidden_layer_sizes':hiddenunits_params, 'learning_rate_init':learningrate_params}\n",
    "\n",
    "clf = GridSearchCV(mlp, parameters, cv=3).fit(X_train, y_train)"
   ]
  },
  {
   "cell_type": "markdown",
   "metadata": {},
   "source": [
    "  * Plot de gemiddelde test scores per parameter setting in een heatmap."
   ]
  },
  {
   "cell_type": "code",
   "execution_count": 45,
   "metadata": {
    "collapsed": false
   },
   "outputs": [
    {
     "data": {
      "image/png": "[encoded data removed]",
      "text/plain": [
       "<matplotlib.figure.Figure at 0x7f1cc1e2b390>"
      ]
     },
     "metadata": {},
     "output_type": "display_data"
    }
   ],
   "source": [
    "scores = clf.cv_results_['mean_test_score'].reshape(len(hiddenunits_params), len(learningrate_params))\n",
    "sns.heatmap(scores, center=0.4, yticklabels=hiddenunits_params, xticklabels=learningrate_params, annot=True);"
   ]
  },
  {
   "cell_type": "markdown",
   "metadata": {},
   "source": [
    "  * Print de beste parameter settings en de bijbehorende score."
   ]
  },
  {
   "cell_type": "code",
   "execution_count": 24,
   "metadata": {
    "collapsed": false
   },
   "outputs": [
    {
     "data": {
      "text/plain": [
       "({'hidden_layer_sizes': 30, 'learning_rate_init': 1.0}, 0.96868475991649272)"
      ]
     },
     "execution_count": 24,
     "metadata": {},
     "output_type": "execute_result"
    }
   ],
   "source": [
    "clf.best_params_, clf.best_score_"
   ]
  },
  {
   "cell_type": "markdown",
   "metadata": {},
   "source": [
    "  * Plot de error tijdens de training van de MLP met de beste parameter settings"
   ]
  },
  {
   "cell_type": "code",
   "execution_count": 25,
   "metadata": {
    "collapsed": false
   },
   "outputs": [
    {
     "data": {
      "image/png": "[encoded data removed]",
      "text/plain": [
       "<matplotlib.figure.Figure at 0x7fa014ce2470>"
      ]
     },
     "metadata": {},
     "output_type": "display_data"
    }
   ],
   "source": [
    "plt.figure(figsize=(3,1.5))\n",
    "plt.plot(clf.best_estimator_.loss_curve_);"
   ]
  },
  {
   "cell_type": "markdown",
   "metadata": {},
   "source": [
    "### 3.3 MLP testen\n",
    "\n",
    "  * Classificeer de test data aan de hand van de best scorende MLP-parameter settings."
   ]
  },
  {
   "cell_type": "code",
   "execution_count": 26,
   "metadata": {
    "collapsed": false
   },
   "outputs": [],
   "source": [
    "y_pred = clf.predict(X_test)"
   ]
  },
  {
   "cell_type": "markdown",
   "metadata": {},
   "source": [
    "  * Bereken per digit de error tussen de voorspelde waarden en de targets door middel van (1 - F1 score)"
   ]
  },
  {
   "cell_type": "code",
   "execution_count": 27,
   "metadata": {
    "collapsed": false
   },
   "outputs": [
    {
     "data": {
      "text/plain": [
       "array([ 0.        ,  0.05555556,  0.01369863,  0.        ,  0.03225806,\n",
       "        0.025     ,  0.01149425,  0.02631579,  0.05263158,  0.02439024])"
      ]
     },
     "execution_count": 27,
     "metadata": {},
     "output_type": "execute_result"
    }
   ],
   "source": [
    "errors = 1 - f1_score(y_test, y_pred, average=None)\n",
    "errors"
   ]
  },
  {
   "cell_type": "markdown",
   "metadata": {},
   "source": [
    "  * Plot de errors per target in een histogram plot.\n",
    "  * Vergelijk het historgram met de scores van de nearest-centroid en SVM methodes. Welke digits worden over het algemeen het beste voorspeld? En welke het minst goed?"
   ]
  },
  {
   "cell_type": "code",
   "execution_count": 28,
   "metadata": {
    "collapsed": false
   },
   "outputs": [
    {
     "data": {
      "image/png": "[encoded data removed]",
      "text/plain": [
       "<matplotlib.figure.Figure at 0x7fa0149790b8>"
      ]
     },
     "metadata": {},
     "output_type": "display_data"
    }
   ],
   "source": [
    "plt.figure(figsize=(6,4))\n",
    "\n",
    "# plot f1 scores as bars\n",
    "positions = np.arange(10)-0.45\n",
    "plt.bar(positions, errors, color='k', alpha=0.5)\n",
    "\n",
    "# limit range of axes\n",
    "axes = plt.gca()\n",
    "axes.set_xlim([-0.6, 9.5])\n",
    "axes.set_ylim([0, 0.25])\n",
    "\n",
    "# label each digit on x-axis\n",
    "plt.xticks(np.arange(0, 10, 1.0))\n",
    "\n",
    "# set axes labels\n",
    "plt.xlabel('Digit')\n",
    "plt.ylabel('Error')\n",
    "\n",
    "# show plot\n",
    "plt.show()"
   ]
  }
 ],
 "metadata": {
  "kernelspec": {
   "display_name": "Python 3",
   "language": "python",
   "name": "python3"
  },
  "language_info": {
   "codemirror_mode": {
    "name": "ipython",
    "version": 3
   },
   "file_extension": ".py",
   "mimetype": "text/x-python",
   "name": "python",
   "nbconvert_exporter": "python",
   "pygments_lexer": "ipython3",
   "version": "3.5.2"
  }
 },
 "nbformat": 4,
 "nbformat_minor": 1
}
