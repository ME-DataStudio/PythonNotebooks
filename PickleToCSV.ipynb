{
 "cells": [
  {
   "cell_type": "code",
   "execution_count": 1,
   "metadata": {
    "collapsed": true
   },
   "outputs": [],
   "source": [
    "import pickle\n",
    "import csv"
   ]
  },
  {
   "cell_type": "code",
   "execution_count": 2,
   "metadata": {
    "collapsed": true
   },
   "outputs": [],
   "source": [
    "X, y = pickle.load(open(\"train_X_y.p\", \"rb\"))\n",
    "X_pred = pickle.load(open('test_X.p', 'rb'))"
   ]
  },
  {
   "cell_type": "code",
   "execution_count": 3,
   "metadata": {
    "collapsed": false
   },
   "outputs": [],
   "source": [
    "for idx,array in enumerate(X):\n",
    "    filename='trainData'+str(idx)+'.csv'\n",
    "    f = open(filename, 'wt', newline='')\n",
    "    writer = csv.writer(f)\n",
    "    writer.writerow('XYZK')\n",
    "    for j in range(array.shape[0]):\n",
    "        x_vers = array[j][0]\n",
    "        y_vers = array[j][1]\n",
    "        z_vers = array[j][2]\n",
    "        writer.writerow((x_vers,y_vers,z_vers,y[idx]))\n",
    "    f.close()\n",
    "\n",
    "#print(open('trainData.csv', 'rt').read())\n"
   ]
  },
  {
   "cell_type": "code",
   "execution_count": 3,
   "metadata": {
    "collapsed": true
   },
   "outputs": [],
   "source": [
    "for idx,array in enumerate(X_pred):\n",
    "    filename='predData'+str(idx)+'.csv'\n",
    "    f = open(filename, 'wt', newline='')\n",
    "    writer = csv.writer(f)\n",
    "    writer.writerow('XYZK')\n",
    "    for j in range(array.shape[0]):\n",
    "        x_vers = array[j][0]\n",
    "        y_vers = array[j][1]\n",
    "        z_vers = array[j][2]\n",
    "        writer.writerow((x_vers,y_vers,z_vers,y[idx]))\n",
    "    f.close()"
   ]
  }
 ],
 "metadata": {
  "kernelspec": {
   "display_name": "Python 3",
   "language": "python",
   "name": "python3"
  },
  "language_info": {
   "codemirror_mode": {
    "name": "ipython",
    "version": 3
   },
   "file_extension": ".py",
   "mimetype": "text/x-python",
   "name": "python",
   "nbconvert_exporter": "python",
   "pygments_lexer": "ipython3",
   "version": "3.5.2"
  }
 },
 "nbformat": 4,
 "nbformat_minor": 1
}
