import pandas as pd
from simpledbf import Dbf5

dbf=Dbf5('gem_2016.dbf')

df = dbf.to_dataframe()

df.head()
