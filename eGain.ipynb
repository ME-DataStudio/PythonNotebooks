{
 "cells": [
  {
   "cell_type": "code",
   "execution_count": 1,
   "metadata": {
    "collapsed": false
   },
   "outputs": [],
   "source": [
    "import pandas as pd\n",
    "import xlrd\n",
    "import math"
   ]
  },
  {
   "cell_type": "code",
   "execution_count": 6,
   "metadata": {
    "collapsed": false
   },
   "outputs": [],
   "source": [
    "df = pd.read_excel('top3.xlsx')\n"
   ]
  },
  {
   "cell_type": "code",
   "execution_count": 3,
   "metadata": {
    "collapsed": false
   },
   "outputs": [
    {
     "data": {
      "text/plain": [
       "Index(['EMAIL_ID', 'SUBJECT', 'CONTENT', 'CONTENT_TYPE'], dtype='object')"
      ]
     },
     "execution_count": 3,
     "metadata": {},
     "output_type": "execute_result"
    }
   ],
   "source": [
    "df.columns"
   ]
  },
  {
   "cell_type": "code",
   "execution_count": 7,
   "metadata": {
    "collapsed": false
   },
   "outputs": [],
   "source": [
    "content = df['CONTENT']"
   ]
  },
  {
   "cell_type": "code",
   "execution_count": 8,
   "metadata": {
    "collapsed": false
   },
   "outputs": [
    {
     "data": {
      "text/plain": [
       "0        ------ ------ This message was automatically g...\n",
       "1        - De volgende documenten horen bij het hoofddo...\n",
       "2        -------- Doorgestuurd bericht -------- Onderwe...\n",
       "3        ---------- Doorgestuurd bericht ---------- Van...\n",
       "4        ---------- Doorgestuurd bericht ----------Van:...\n",
       "5        ---------- Doorgestuurd bericht ----------Van:...\n",
       "6        ---------- Doorgestuurd bericht ----------Van:...\n",
       "7        ---------- Doorgestuurd bericht ----------Van:...\n",
       "8        ---------- Doorgestuurd bericht ----------Van:...\n",
       "9        ---------- Doorgestuurde bericht ----------Van...\n",
       "10       ---------- Doorgestuurde bericht ----------Van...\n",
       "11       - een (kopie van) een buitenlands kentekenbewi...\n",
       "12       ---------- Forwarded message ---------- From: ...\n",
       "13       ---------- Forwarded message ----------From: A...\n",
       "14       ----- Het volgende antwoord is een automatisch...\n",
       "15       ----- Het volgende antwoord is een automatisch...\n",
       "16       ----- Het volgende antwoord is een automatisch...\n",
       "17       -------- Message transfÃ©rÃ© -------- bonjours...\n",
       "18       -------- Message transfÃ©rÃ© -------- Sujet : ...\n",
       "19       ---------- Oorspronkelijk bericht ----------Va...\n",
       "20       \", met dien verstande dat het karkas van de ba...\n",
       "21       \", met dien verstande dat het karkas van de ba...\n",
       "22       &#65279;&#65279;Hello, I'm not in the office t...\n",
       "23       &gt; -------- -------- ÐžÑ€Ð¸Ð³Ð¸Ð½Ð°Ð»Ð½Ð¾ Ð¿...\n",
       "24       &gt;-------- ÐžÑ€Ð¸Ð³Ð¸Ð½Ð°Ð»Ð½Ð¾ Ð¿Ð¸ÑÐ¼Ð¾ -...\n",
       "25       (voor E&amp;T) E-mailadres: info@kjeldbv.nl In...\n",
       "26       * uw naam, adres en woonplaatsMartin Richard H...\n",
       "27       * zoals in RADAR zichtbaar staat er geen AMS o...\n",
       "28       *|MC:SUBJECT|* body,#bodyTable,#bodyCell{ heig...\n",
       "29       *|MC:SUBJECT|* body,#bodyTable,#bodyCell{ heig...\n",
       "                               ...                        \n",
       "48646    Zie note Geachte mevrouw Schoenmakers, Harteli...\n",
       "48647    Zie note Graag doorzetten naar nietontvangen@r...\n",
       "48648    ZIE NOTE Na ons idee is onderstaande klacht ni...\n",
       "48649    Zie note --Oorspronkelijk bericht--Van: igorkr...\n",
       "48650    Zie note --Oorspronkelijk bericht--Van: IHoman...\n",
       "48651    Zie Note --Oorspronkelijk bericht--Van: MBrook...\n",
       "48652    Zie note! Geachte heer/mevrouw ,, Hartelijk da...\n",
       "48653    Zie note! Geachte heer/mevrouw Verkerk, Hartel...\n",
       "48654    zie note!!!!!!!!!!!!!!!!!!!!!!!! Geachte heer ...\n",
       "48655    zie NOTE: Geachte heer Etzweiler, Hartelijk da...\n",
       "48656    zie note: Geachte heer/mevrouw ,, Hartelijk da...\n",
       "48657    zie note: Geachte heer/mevrouw ,, Hartelijk da...\n",
       "48658    zie note: Geachte heer/mevrouw, De nieuwe kent...\n",
       "48659    ZIE NOTE: Geachte heer/mevrouw, Ik heb uw verz...\n",
       "48660    zie note: Geachte mevrouw Portier, Hartelijk d...\n",
       "48661    zie note: Geachte mevrouw Van der Laan, Hartel...\n",
       "48662    zie note: Geachte mevrouw Van der Laan, Hartel...\n",
       "48663    zie note: Wanneer een voertuig in het buitenla...\n",
       "48664    Zie notities! Geachte heer/mevrouw ,, Hartelij...\n",
       "48665    Zij hadden u info@rdw.nl moeten geven dan maar...\n",
       "48666    Zitplaatsen die extra worden aangebracht moete...\n",
       "48667    Zitplaatsen die extra worden aangebracht moete...\n",
       "48668    Zo wat een bureaucratie. Kan ik niet die mevro...\n",
       "48669    zoals telefonisch afgesproken hierbij het afsc...\n",
       "48670    Zoals telefonisch afgesproken, ontvangt u hier...\n",
       "48671    Zoals wij eerder hebben uitgelegd is het plaat...\n",
       "48672    Zoals wij eerder hebben uitgelegd is het plaat...\n",
       "48673    Zojuist contact gehad met Bezirkshauptmannscha...\n",
       "48674    Zojuist ontvangen dank u voor de snelle reacti...\n",
       "48675    Zou u van onderstaande 2 auto's de taxi vermel...\n",
       "Name: CONTENT, dtype: object"
      ]
     },
     "execution_count": 8,
     "metadata": {},
     "output_type": "execute_result"
    }
   ],
   "source": [
    "content"
   ]
  },
  {
   "cell_type": "code",
   "execution_count": null,
   "metadata": {
    "collapsed": false
   },
   "outputs": [],
   "source": [
    "t = content.head(10)\n"
   ]
  },
  {
   "cell_type": "code",
   "execution_count": 9,
   "metadata": {
    "collapsed": false
   },
   "outputs": [],
   "source": [
    "newcontent=[]\n",
    "for s in content:\n",
    "    newcontent.append(''.join([i for i in s if not i.isdigit()]))\n",
    "nc_df=pd.DataFrame(newcontent)\n"
   ]
  },
  {
   "cell_type": "code",
   "execution_count": 11,
   "metadata": {
    "collapsed": false
   },
   "outputs": [],
   "source": [
    "from pandas import ExcelWriter\n",
    "\n",
    "#writer = ExcelWriter('top4.xlsx')\n",
    "#nc_df.to_excel(writer,'Sheet1')\n",
    "#writer.save()\n",
    "\n",
    "# DF TO CSV\n",
    "nc_df.to_csv('top4.csv', sep=',')"
   ]
  }
 ],
 "metadata": {
  "kernelspec": {
   "display_name": "Python 3",
   "language": "python",
   "name": "python3"
  },
  "language_info": {
   "codemirror_mode": {
    "name": "ipython",
    "version": 3
   },
   "file_extension": ".py",
   "mimetype": "text/x-python",
   "name": "python",
   "nbconvert_exporter": "python",
   "pygments_lexer": "ipython3",
   "version": "3.5.2"
  }
 },
 "nbformat": 4,
 "nbformat_minor": 1
}
