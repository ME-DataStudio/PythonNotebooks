{
 "cells": [
  {
   "cell_type": "markdown",
   "metadata": {},
   "source": [
    "# K-Means clustering\n",
    "\n",
    "In deze opdracht ga je K-Means clustering implementeren. De dataset is bijgeleverd en wordt voor je ingeladen."
   ]
  },
  {
   "cell_type": "code",
   "execution_count": 1,
   "metadata": {
    "collapsed": true
   },
   "outputs": [],
   "source": [
    "# misc data processing imports\n",
    "import matplotlib.pyplot as plt\n",
    "%matplotlib inline\n",
    "import numpy as np\n",
    "import random\n",
    "import pickle\n",
    "import seaborn as sns\n",
    "\n",
    "# classifier & testing\n",
    "from sklearn.cluster import KMeans\n",
    "\n",
    "# for overwriting plots\n",
    "from IPython import display\n",
    "import time"
   ]
  },
  {
   "cell_type": "markdown",
   "metadata": {},
   "source": [
    "## 1. Initialisatie\n",
    "\n",
    "  * Activeer de onderstaande cel. Deze code hoef je niet aan te passen, maar kun je later aanroepen om het trainen en het resultaat van K-Means te visualiseren."
   ]
  },
  {
   "cell_type": "code",
   "execution_count": 2,
   "metadata": {
    "collapsed": true
   },
   "outputs": [],
   "source": [
    "colors = ['blue', 'red', 'green', 'cyan', 'orange', 'purple', 'black', 'pink']\n",
    "\n",
    "def plot_KMeans(X, centroids, labels, N=None):\n",
    "    \"\"\"Plot an iteration of the K-Means algorithm.\n",
    "    \n",
    "    Parameters\n",
    "    ----------\n",
    "    X : array-like, shape = [n_samples, n_features]\n",
    "        Train data\n",
    "    \n",
    "    centroids : \n",
    "        array-like, shape = [n_clusters, n_features]\n",
    "        Cluster means\n",
    "        \n",
    "    labels : \n",
    "        array-like, shape = [n_samples,] \n",
    "        Current cluster assignments for each train data sample\n",
    "        \n",
    "    N : int\n",
    "        Current iteration\n",
    "    \"\"\"\n",
    "    # check input\n",
    "    if len(centroids) > len(colors):\n",
    "        raise ValueError(\"Om te kunnen plotten moet het aantal clusters kleiner zijn dan 8.\")\n",
    "    \n",
    "    # clear previous plot\n",
    "    plt.clf()    \n",
    "    display.clear_output(wait=True)\n",
    "    time.sleep(0.5)\n",
    "    \n",
    "    # plot data points & centroid per label\n",
    "    for label, color in enumerate(colors[:len(centroids)]):\n",
    "        plt.scatter(X[labels == label,0], X[labels == label,1], c=color, alpha=0.5)\n",
    "        plt.scatter(centroids[label,0], centroids[label,1], c=color, marker='*', s=150)\n",
    "    \n",
    "    # add title\n",
    "    if N:\n",
    "        plt.title(\"Iteration \" + str(N))\n",
    "\n",
    "    plt.show()"
   ]
  },
  {
   "cell_type": "markdown",
   "metadata": {},
   "source": [
    "## 2. Data laden\n",
    "\n",
    "Hieronder wordt een ongelabelde dataset geladen. "
   ]
  },
  {
   "cell_type": "code",
   "execution_count": 3,
   "metadata": {
    "collapsed": false
   },
   "outputs": [],
   "source": [
    "X = pickle.load(open('blobs.p', 'rb'))"
   ]
  },
  {
   "cell_type": "markdown",
   "metadata": {},
   "source": [
    "  * Hoeveel samples zitten er in de dataset? En hoeveel features heeft elk sample?"
   ]
  },
  {
   "cell_type": "code",
   "execution_count": 11,
   "metadata": {
    "collapsed": false
   },
   "outputs": [
    {
     "data": {
      "text/plain": [
       "array([], shape=(0, 2), dtype=float64)"
      ]
     },
     "execution_count": 11,
     "metadata": {},
     "output_type": "execute_result"
    }
   ],
   "source": [
    "X.shape\n",
    "X[:0]"
   ]
  },
  {
   "cell_type": "markdown",
   "metadata": {},
   "source": [
    "  * Plot de dataset met behulp van `plt.scatter()`. Hoeveel clusters denk je te zien?  "
   ]
  },
  {
   "cell_type": "code",
   "execution_count": 14,
   "metadata": {
    "collapsed": false
   },
   "outputs": [
    {
     "data": {
      "text/plain": [
       "<matplotlib.collections.PathCollection at 0xa0faf28>"
      ]
     },
     "execution_count": 14,
     "metadata": {},
     "output_type": "execute_result"
    },
    {
     "data": {
      "image/png": "[encoded data removed]",
      "text/plain": [
       "<matplotlib.figure.Figure at 0xa95e198>"
      ]
     },
     "metadata": {},
     "output_type": "display_data"
    }
   ],
   "source": [
    "plt.scatter(X[:,0],X[:,1])"
   ]
  },
  {
   "cell_type": "markdown",
   "metadata": {},
   "source": [
    "## 3. Implementeer K-means\n",
    "\n",
    "  * Implementeer nu K-Means:\n",
    "      * gebruik K=6\n",
    "      * initialiseer de clusters met unieke, willekeurige samples uit de dataset\n",
    "      * wanneer tijdens het trainen een cluster leeg raakt, stop er dan een willekeurige sample uit de dataset in.\n",
    "  \n",
    "  * Gebruik de functie `plot_KMeans()` om het trainen en de uiteindelijke clustering te visualiseren.\n",
    "  * Wat gebeurt er als je het algoritme meerdere keren draait? Worden altijd dezelfde zes clusters gevonden?"
   ]
  },
  {
   "cell_type": "code",
   "execution_count": 39,
   "metadata": {
    "collapsed": false
   },
   "outputs": [
    {
     "name": "stdout",
     "output_type": "stream",
     "text": [
      "[[-5.98110091  3.13613778]\n",
      " [-4.08676859 -4.38898122]\n",
      " [ 2.83261921  0.26728254]\n",
      " [-6.20390511  2.96016961]\n",
      " [-2.30204923 -3.51919064]\n",
      " [-1.94193893 -3.85774954]]\n"
     ]
    }
   ],
   "source": [
    "n_cluster = 6\n",
    "centroids = []\n",
    "\n",
    "centroids = np.array(random.sample(list(X),6))\n",
    "print(centroids)\n",
    "dataLen=len(X)\n",
    "#for instance in X:\n",
    "   # print(instance)\n",
    "labels = np.zeros(len(X))\n",
    "prev_labels = np.ones(len(X))\n",
    "\n",
    "N=0\n",
    "while not np.array_equal(labels,prev_labels)\n"
   ]
  },
  {
   "cell_type": "markdown",
   "metadata": {},
   "source": [
    "## 4. K-Means uit SK-Learn\n",
    "\n",
    "  * Maak K-Means aan door middel van SK-Learn. Kies de instellingen `n_clusters=6`, en `init='k-means++'`"
   ]
  },
  {
   "cell_type": "code",
   "execution_count": 20,
   "metadata": {
    "collapsed": true
   },
   "outputs": [],
   "source": [
    "kmeans = KMeans(n_clusters=6, init='k-means++').fit(X)"
   ]
  },
  {
   "cell_type": "markdown",
   "metadata": {},
   "source": [
    "  * Train K-means op de dataset en haal de uiteindelijke labels op door middel van `fit_predict()`."
   ]
  },
  {
   "cell_type": "code",
   "execution_count": 42,
   "metadata": {
    "collapsed": false
   },
   "outputs": [],
   "source": [
    "kmeans.fit_predict(X)"
   ]
  },
  {
   "cell_type": "markdown",
   "metadata": {},
   "source": [
    "  * Haal de geleerde cluster centers (centroids) op uit K-Means."
   ]
  },
  {
   "cell_type": "code",
   "execution_count": 44,
   "metadata": {
    "collapsed": false
   },
   "outputs": [],
   "source": [
    "centroids=kmeans.cluster_centers_\n",
    "labels=kmeans.labels_"
   ]
  },
  {
   "cell_type": "markdown",
   "metadata": {},
   "source": [
    "  * Plot de data, centroids en labels.\n",
    "  * Wat gebeurt er als je het algoritme meerdere keren draait? Worden altijd dezelfde zes clusters gevonden?"
   ]
  },
  {
   "cell_type": "code",
   "execution_count": 45,
   "metadata": {
    "collapsed": false
   },
   "outputs": [
    {
     "data": {
      "image/png": "[encoded data removed]",
      "text/plain": [
       "<matplotlib.figure.Figure at 0xa2a2f60>"
      ]
     },
     "metadata": {},
     "output_type": "display_data"
    }
   ],
   "source": [
    "plot_KMeans(X, centroids, labels, N=None)"
   ]
  },
  {
   "cell_type": "markdown",
   "metadata": {},
   "source": [
    "## 5. Elbow-method\n",
    "\n",
    "* Roep K-Means uit SK-Learn herhaaldelijk aan met `K = 1...15`\n",
    "* Sla bij elke waarde van `K` de som op van de afstanden tussen elk punten en hun cluster (ook wel *inertia* of *distortion* genoemd)\n",
    "* Plot de distortions voor elke waarde van `K`. Wat zou een optimale waarde voor `K` zijn?"
   ]
  },
  {
   "cell_type": "code",
   "execution_count": 74,
   "metadata": {
    "collapsed": false
   },
   "outputs": [],
   "source": [
    "max_k = 15\n",
    "som = []\n",
    "for k in range(max_k):\n",
    "    kmeans = KMeans(n_clusters=k+1, init='k-means++').fit(X)\n",
    "    som.append(kmeans.inertia_)"
   ]
  },
  {
   "cell_type": "code",
   "execution_count": 75,
   "metadata": {
    "collapsed": false
   },
   "outputs": [
    {
     "data": {
      "text/plain": [
       "[<matplotlib.lines.Line2D at 0xb4c1630>]"
      ]
     },
     "execution_count": 75,
     "metadata": {},
     "output_type": "execute_result"
    },
    {
     "data": {
      "image/png": "[encoded data removed]",
      "text/plain": [
       "<matplotlib.figure.Figure at 0xaf7dda0>"
      ]
     },
     "metadata": {},
     "output_type": "display_data"
    }
   ],
   "source": [
    "plt.plot(range(1,16), som, marker='o')"
   ]
  }
 ],
 "metadata": {
  "kernelspec": {
   "display_name": "Python 3",
   "language": "python",
   "name": "python3"
  },
  "language_info": {
   "codemirror_mode": {
    "name": "ipython",
    "version": 3
   },
   "file_extension": ".py",
   "mimetype": "text/x-python",
   "name": "python",
   "nbconvert_exporter": "python",
   "pygments_lexer": "ipython3",
   "version": "3.5.2"
  }
 },
 "nbformat": 4,
 "nbformat_minor": 1
}
